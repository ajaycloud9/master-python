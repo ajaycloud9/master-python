{
 "cells": [
  {
   "attachments": {},
   "cell_type": "markdown",
   "metadata": {},
   "source": [
    "# Naive SubString Search\n",
    "\n",
    "- Not so efficient especially when there are lots of matching prefixes\n",
    "- Main problem is that we need backup for every mismatch\n",
    "- If there is a mismatch we jump back to the next character\n",
    "- There are lot of comparisons - O(NM) where N is the length of text and M is the length of the pattern\n",
    "- Linear running time would be better\n",
    "\n",
    "\n",
    "```\n",
    "Iteration - 1 \n",
    "L L L L L L L L L L ---> No Match\n",
    "L L L L L L L X\n",
    "\n",
    "L L L L L L L L L L ---> No Match\n",
    "  L L L L L L L X\n",
    "```"
   ]
  },
  {
   "cell_type": "code",
   "execution_count": 8,
   "metadata": {},
   "outputs": [
    {
     "name": "stdout",
     "output_type": "stream",
     "text": [
      "0\n"
     ]
    }
   ],
   "source": [
    "text = \"abcdeefabcabcd\"\n",
    "pattern = \"abcd\"\n",
    "\n",
    "pattern_index = 0\n",
    "\n",
    "for i in range(len(text)):\n",
    "    if text[i] == pattern[pattern_index]:\n",
    "        while pattern_index < len(pattern):\n",
    "            if text[i+pattern_index] != pattern[pattern_index]:\n",
    "                pattern_index=0\n",
    "                break\n",
    "            pattern_index+=1\n",
    "    if pattern_index == len(pattern):\n",
    "            actual_index = i\n",
    "            break\n",
    "\n",
    "print(actual_index)\n"
   ]
  }
 ],
 "metadata": {
  "kernelspec": {
   "display_name": "Python 3",
   "language": "python",
   "name": "python3"
  },
  "language_info": {
   "codemirror_mode": {
    "name": "ipython",
    "version": 3
   },
   "file_extension": ".py",
   "mimetype": "text/x-python",
   "name": "python",
   "nbconvert_exporter": "python",
   "pygments_lexer": "ipython3",
   "version": "3.9.6"
  },
  "orig_nbformat": 4
 },
 "nbformat": 4,
 "nbformat_minor": 2
}
