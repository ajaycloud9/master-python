{
 "cells": [
  {
   "cell_type": "code",
   "execution_count": null,
   "metadata": {},
   "outputs": [],
   "source": [
    "def test(value):\n",
    "    if value == 0:\n",
    "        print(\"Thanks reached the call stack base end\")\n",
    "        return 0\n",
    "    value -=1\n",
    "    print(value)\n",
    "    test(value)\n",
    "\n",
    "test(5)\n",
    "\n",
    "# Reverse a string using recur"
   ]
  },
  {
   "attachments": {},
   "cell_type": "markdown",
   "metadata": {},
   "source": [
    "Stack: Empty...\n",
    "Stack: Main (main method is added onto the stack)\n",
    "Stack: Main\n",
    "       test(3) (test is added onto the stack)\n",
    "Stack: Main\n",
    "       test(3)\n",
    "       test(2)\n",
    "Stack: Main\n",
    "       test(3)\n",
    "       test(2)\n",
    "       test(1)\n",
    "Stack: Main\n",
    "       test(3)\n",
    "       test(2)\n",
    "       test(1)\n",
    "       test(0)\n",
    "\n",
    "// Notice at this point we return (when value == 0)\n",
    "\n",
    "Stack: Main\n",
    "       test(3)\n",
    "       test(2)\n",
    "       test(1)\n",
    "       test(0) // POP!\n",
    "Stack: Main\n",
    "       test(3)\n",
    "       test(2)\n",
    "       test(1) // POP!\n",
    "Stack: Main\n",
    "       test(3)\n",
    "       test(2) // POP!\n",
    "Stack: Main\n",
    "       test(3) (test is added onto the stack) // POP!\n",
    "Stack: Main..."
   ]
  },
  {
   "cell_type": "code",
   "execution_count": 17,
   "metadata": {},
   "outputs": [
    {
     "name": "stdout",
     "output_type": "stream",
     "text": [
      "yajA\n"
     ]
    }
   ],
   "source": [
    "# Write a way to reverse the string using recursion?\n",
    "\n",
    "mystring = \"\"\n",
    "mystring = \"Ajay\"\n",
    "\n",
    "# Think about base case\n",
    "# What if my string is empty - \"\" --> reverse it --> \"\"\n",
    "# \"a\" --> reverse it --> \"a\"\n",
    "# \"ab\" --> reverse it --> \"ba\"\n",
    "def mystring(string):\n",
    "    if string == \"\":\n",
    "        return \"\"\n",
    "    return string[-1:] + mystring(string[:-1])\n",
    "\n",
    "print (mystring(\"Ajay\"))\n",
    "\n"
   ]
  },
  {
   "cell_type": "code",
   "execution_count": 34,
   "metadata": {},
   "outputs": [
    {
     "name": "stdout",
     "output_type": "stream",
     "text": [
      "[0, 1, 1, 2, 3]\n",
      "3\n"
     ]
    }
   ],
   "source": [
    "# Fibonaaci in iterative form\n",
    "\n",
    "def fibonaaci(n):\n",
    "    my_list = []\n",
    "    if n > 1:\n",
    "        my_list.append(0)\n",
    "    if n > 2:\n",
    "        my_list.append(1)\n",
    "    for i in range(2,n):\n",
    "        sum_of_two_num = my_list[i-2] + my_list[i-1]\n",
    "        my_list.append(sum_of_two_num)\n",
    "    return my_list\n",
    "\n",
    "print(fibonaaci(5))\n",
    "\n",
    "\n",
    "def recursive_fibonacci(n):\n",
    "\n",
    "    if n == 1:\n",
    "        return 0\n",
    "    if n == 2:\n",
    "        return 1\n",
    "    \n",
    "    return recursive_fibonacci(n-1) + recursive_fibonacci(n-2)\n",
    "\n",
    "\n",
    "print(recursive_fibonacci(5))\n",
    "\n",
    "\n",
    "\n",
    "\n",
    "    \n"
   ]
  },
  {
   "cell_type": "code",
   "execution_count": 40,
   "metadata": {},
   "outputs": [
    {
     "name": "stdout",
     "output_type": "stream",
     "text": [
      "1\n"
     ]
    }
   ],
   "source": [
    "# Reverse a linklist\n",
    "\n",
    "class ListNode:\n",
    "    def __init__(self, val=0, next=None):\n",
    "        self.val = val\n",
    "        self.next = next\n",
    "\n",
    "class Solution():\n",
    "    def reverse_linklist(self,head: ListNode) -> ListNode:\n",
    "        current_node = head\n",
    "        previous_node = None\n",
    "        next_node = None\n",
    "\n",
    "        while current_node is not None:\n",
    "            next_node = current_node.next\n",
    "            current_node.next = previous_node\n",
    "            previous_node = current_node\n",
    "            current_node = next_node\n",
    "        return previous_node\n",
    "\n",
    "    def recursive_reverse_linklist(self, head: ListNode) -> ListNode:\n",
    "        if head is None:\n",
    "            return head\n",
    "        if head.next is None:\n",
    "            return head\n",
    "        new_head_node = self.recursive_reverse_linklist(head.next)\n",
    "        head.next.next = head\n",
    "        head.next = None\n",
    "        return new_head_node\n",
    "\n",
    "        \n",
    "\n",
    "ll_obj1 = ListNode(31,ListNode(21,ListNode(12,ListNode(1))))\n",
    "my_solu = Solution()\n",
    "my_obj = my_solu.recursive_reverse_linklist(ll_obj1)\n",
    "print(my_obj.val)\n"
   ]
  }
 ],
 "metadata": {
  "kernelspec": {
   "display_name": "Python 3",
   "language": "python",
   "name": "python3"
  },
  "language_info": {
   "codemirror_mode": {
    "name": "ipython",
    "version": 3
   },
   "file_extension": ".py",
   "mimetype": "text/x-python",
   "name": "python",
   "nbconvert_exporter": "python",
   "pygments_lexer": "ipython3",
   "version": "3.9.6"
  },
  "orig_nbformat": 4
 },
 "nbformat": 4,
 "nbformat_minor": 2
}
