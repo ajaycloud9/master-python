{
 "cells": [
  {
   "cell_type": "markdown",
   "metadata": {},
   "source": [
    "#### Intersection of Two Arrays II\n",
    "Input: nums1 = [1,2,2,1], nums2 = [2,2]\n",
    "Output: [2,2]\n",
    "\n",
    "Problem link: https://leetcode.com/explore/interview/card/top-interview-questions-easy/92/array/674/"
   ]
  },
  {
   "cell_type": "markdown",
   "metadata": {},
   "source": [
    "# Thoughprocess\n",
    "\n",
    "I am thiking on creating a dictionary whichever len of the list is small is going to act as look table. \n",
    "Now will iterate over the other list and, will store the elements which are common.  "
   ]
  },
  {
   "cell_type": "code",
   "execution_count": 5,
   "metadata": {},
   "outputs": [
    {
     "name": "stdout",
     "output_type": "stream",
     "text": [
      "[2, 2, 1, 1, 3]\n"
     ]
    }
   ],
   "source": [
    "# Solution - 1\n",
    "\n",
    "nums1 = [1,2,2,1,3,3]\n",
    "nums2 = [2,2,1,1,1,1,1,3]\n",
    "\n",
    "look_up_table = {}\n",
    "\n",
    "def fill_table(nums_list):\n",
    "    \n",
    "    for i in nums_list:\n",
    "        # Increase the frequency counter for the element\n",
    "        look_up_table[i] = look_up_table.get(i,0) + 1\n",
    "\n",
    "def intersection_list(nums_list):\n",
    "    my_overlap = []\n",
    "    for i in nums_list:\n",
    "        if i in look_up_table and look_up_table[i] > 0:\n",
    "            look_up_table[i] = look_up_table.get(i) - 1\n",
    "            my_overlap.append(i)\n",
    "    return my_overlap    \n",
    "\n",
    "if len(nums1) < len(nums2):\n",
    "    fill_table(nums1)\n",
    "    print(intersection_list(nums2))\n",
    "else:\n",
    "    fill_table(nums2)\n",
    "    print(intersection_list(nums1))\n"
   ]
  },
  {
   "cell_type": "markdown",
   "metadata": {},
   "source": [
    " ### Plus One\n",
    "Input: digits = [1,2,3]\n",
    "Output: [1,2,4]\n",
    "Explanation: The array represents the integer 123.\n",
    "Incrementing by one gives 123 + 1 = 124.\n",
    "Thus, the result should be [1,2,4].\n",
    "\n",
    "Problem link: https://leetcode.com/explore/interview/card/top-interview-questions-easy/92/array/559/"
   ]
  },
  {
   "cell_type": "markdown",
   "metadata": {},
   "source": [
    "# Brainstorm\n",
    "I am thinking to convert these number to an interger and, then add the returned number + 1; Then again make those intergers into an array. \n",
    "\n",
    "Idea is to use mathmatical calucations Nums * 10 and, then nums % 10 (overall leftover or remainder after the division)"
   ]
  },
  {
   "cell_type": "code",
   "execution_count": 29,
   "metadata": {},
   "outputs": [
    {
     "name": "stdout",
     "output_type": "stream",
     "text": [
      "[1, 2, 4]\n"
     ]
    }
   ],
   "source": [
    "digits = [1,2,3]\n",
    "\n",
    "def integer_to_array(nums_list):\n",
    "    actual_num = 0\n",
    "    power = 0\n",
    "    for i in range(len(nums_list)-1,-1,-1):\n",
    "        actual_num = actual_num + ((10**power) * nums_list[i])\n",
    "        power+=1\n",
    "    return actual_num\n",
    "\n",
    "digitPlusOne = integer_to_array(digits) + 1\n",
    "\n",
    "def array_to_integer(digitPlusOne):\n",
    "    new_array = []\n",
    "    while digitPlusOne > 0:\n",
    "        leftover = digitPlusOne % 10\n",
    "        digitPlusOne = digitPlusOne // 10\n",
    "        # new_array.append(leftover)\n",
    "        new_array.insert(0,leftover)\n",
    "    # print(new_array)\n",
    "    # reverse_array = reversed(new_array)\n",
    "    # return reverse_array\n",
    "    return new_array\n",
    "\n",
    "# test = array_to_integer(digitPlusOne)\n",
    "# print(list(test))\n",
    "print(array_to_integer(digitPlusOne))\n",
    "\n"
   ]
  },
  {
   "cell_type": "code",
   "execution_count": 12,
   "metadata": {},
   "outputs": [
    {
     "name": "stdout",
     "output_type": "stream",
     "text": [
      "1\n",
      "10\n"
     ]
    }
   ],
   "source": [
    "print(10 ** 0)\n",
    "print(10 ** 1)"
   ]
  }
 ],
 "metadata": {
  "kernelspec": {
   "display_name": "Python 3",
   "language": "python",
   "name": "python3"
  },
  "language_info": {
   "codemirror_mode": {
    "name": "ipython",
    "version": 3
   },
   "file_extension": ".py",
   "mimetype": "text/x-python",
   "name": "python",
   "nbconvert_exporter": "python",
   "pygments_lexer": "ipython3",
   "version": "3.9.6"
  }
 },
 "nbformat": 4,
 "nbformat_minor": 2
}
