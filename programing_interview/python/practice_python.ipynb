{
 "cells": [
  {
   "cell_type": "code",
   "execution_count": 3,
   "metadata": {},
   "outputs": [
    {
     "name": "stdout",
     "output_type": "stream",
     "text": [
      "None\n",
      "[-1, 0, 2, 22, 11, 11, 33]\n"
     ]
    }
   ],
   "source": [
    "# Quicksort\n",
    "\n",
    "class Quicksort():\n",
    "    def __init__(self,array):\n",
    "        self.array = array\n",
    "\n",
    "    def ascending_sort(self):\n",
    "        self.call_sort(0,len(self.array)-1)\n",
    "\n",
    "    def call_sort(self,low,high):\n",
    "        if low > high:\n",
    "            return\n",
    "        pivot_value = self.partition(low,high)\n",
    "        self.call_sort(low,pivot_value-1)\n",
    "        self.call_sort(pivot_value+1,high)\n",
    "\n",
    "\n",
    "    def partition(self,low,high):\n",
    "        pivot_value = (high+low)//2\n",
    "        self.array[pivot_value], self.array[high] = self.array[high], self.array[pivot_value]\n",
    "\n",
    "        for j in range(low, high):\n",
    "            if self.array[high] > self.array[j]:\n",
    "                self.array[low], self.array[j] = self.array[j], self.array[low]\n",
    "                low+=1\n",
    "            self.array[low], self.array[high] = self.array[high], self.array[low]\n",
    "        return low\n",
    "\n",
    "\n",
    "myarray = [33,22,11,11,0,-1,2]\n",
    "q_obj = Quicksort(myarray)\n",
    "print(q_obj.ascending_sort())\n",
    "print(myarray)"
   ]
  },
  {
   "cell_type": "code",
   "execution_count": 25,
   "metadata": {},
   "outputs": [
    {
     "name": "stdout",
     "output_type": "stream",
     "text": [
      "Value not Present\n",
      "Value already present\n",
      "Value already present\n",
      "Value already present\n",
      "2\n",
      "{'my_list': [2]}\n"
     ]
    }
   ],
   "source": [
    "# Citation of paper\n",
    "\n",
    "# H-Index:\n",
    "\n",
    "# Let's say my wife publishes only 3 papers her H-Index will never go beyond 3 \n",
    "# However to increase your H index let say I have 10 papers but every paper\n",
    "# Just cited 1 time will not be enough to raise the H-index you need to make sure that\n",
    "# Paper are getting cited to \n",
    "# citations = [4,4,4,4,3]\n",
    "\n",
    "class RandomizedSet:\n",
    "\n",
    "    def __init__(self):\n",
    "        self.my_list = []\n",
    "        \n",
    "\n",
    "    def insert(self, val: int) -> bool:\n",
    "        if val not in self.my_list:\n",
    "            self.my_list.append(val)\n",
    "        else:\n",
    "            print(\"Value already present\")\n",
    "        \n",
    "\n",
    "    def remove(self, val: int) -> bool:\n",
    "        try: \n",
    "            self.my_list.remove(val)\n",
    "            return True\n",
    "        except ValueError:\n",
    "            print(\"Value not Present\")\n",
    "            return False\n",
    "        \n",
    "\n",
    "    def getRandom(self) -> int:\n",
    "\n",
    "        if self.my_list:\n",
    "            return self.my_list[0]\n",
    "        else:\n",
    "            print(\"element not found\")\n",
    "\n",
    "\n",
    "        \n",
    "obj = RandomizedSet()\n",
    "param_1 = obj.insert(2)\n",
    "param_2 = obj.remove(1)\n",
    "param_1 = obj.insert(21)\n",
    "param_1 = obj.insert(211)\n",
    "param_1 = obj.insert(2)\n",
    "param_3 = obj.getRandom()\n",
    "print(param_3)\n",
    "\n",
    "print(obj.__dict__)\n",
    "\n",
    "\n",
    "\n",
    "\n"
   ]
  },
  {
   "cell_type": "code",
   "execution_count": 40,
   "metadata": {},
   "outputs": [
    {
     "name": "stdout",
     "output_type": "stream",
     "text": [
      "[1000, 900, 500, 400, 100, 90, 50, 40, 10, 9, 5, 4, 1]\n",
      "1000\n",
      "1000\n",
      "1000\n",
      "500\n",
      "100\n",
      "100\n",
      "40\n",
      "9\n",
      "MMMDCCXLIX\n"
     ]
    }
   ],
   "source": [
    "s = \"test\"\n",
    "\n",
    "s.isalpha()"
   ]
  },
  {
   "cell_type": "code",
   "execution_count": 65,
   "metadata": {},
   "outputs": [
    {
     "name": "stdout",
     "output_type": "stream",
     "text": [
      " \n",
      " \n",
      " \n",
      "f f\n",
      "f f\n",
      "f f\n",
      "fl fl\n",
      "fl fl\n",
      "fl fl\n",
      "flo flo\n",
      "flo flo\n",
      "flo flo\n",
      "flow flow\n",
      "flow flow\n",
      "flow flow\n",
      "flowe flowe\n",
      "flowe flowe\n",
      "flowe flowe\n",
      "flower flower\n",
      "flower flower\n",
      "flower flower\n",
      "flower\n"
     ]
    }
   ],
   "source": [
    "mystr = \"abc\"\n",
    "\n",
    "strs = [\"flower\",\"flower\",\"flower\",\"flower\"]\n",
    "\n",
    "prefix = strs[0]\n",
    "\n",
    "i = 0\n",
    "found_max_prefix = False\n",
    "max_prefix = \"\"\n",
    "while i <= len(prefix) and not found_max_prefix:\n",
    "\n",
    "    prefix_window = prefix[0:i]\n",
    "\n",
    "    for each_str_index in range(1,len(strs)):\n",
    "        print(prefix_window,strs[each_str_index][0:i])\n",
    "        if prefix_window != strs[each_str_index][0:i]:\n",
    "            print(\"break\")\n",
    "            found_max_prefix = True\n",
    "            break\n",
    "    if not found_max_prefix:\n",
    "        # So, far we have not found the max prefix so, keep updating the variable\n",
    "        max_prefix = prefix_window\n",
    "    i+=1\n",
    "\n",
    "print(max_prefix)\n",
    "\n"
   ]
  }
 ],
 "metadata": {
  "kernelspec": {
   "display_name": "Python 3",
   "language": "python",
   "name": "python3"
  },
  "language_info": {
   "codemirror_mode": {
    "name": "ipython",
    "version": 3
   },
   "file_extension": ".py",
   "mimetype": "text/x-python",
   "name": "python",
   "nbconvert_exporter": "python",
   "pygments_lexer": "ipython3",
   "version": "3.9.6"
  },
  "orig_nbformat": 4
 },
 "nbformat": 4,
 "nbformat_minor": 2
}
