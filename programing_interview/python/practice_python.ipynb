{
 "cells": [
  {
   "cell_type": "code",
   "execution_count": 3,
   "metadata": {},
   "outputs": [
    {
     "name": "stdout",
     "output_type": "stream",
     "text": [
      "None\n",
      "[-1, 0, 2, 22, 11, 11, 33]\n"
     ]
    }
   ],
   "source": [
    "# Quicksort\n",
    "\n",
    "class Quicksort():\n",
    "    def __init__(self,array):\n",
    "        self.array = array\n",
    "\n",
    "    def ascending_sort(self):\n",
    "        self.call_sort(0,len(self.array)-1)\n",
    "\n",
    "    def call_sort(self,low,high):\n",
    "        if low > high:\n",
    "            return\n",
    "        pivot_value = self.partition(low,high)\n",
    "        self.call_sort(low,pivot_value-1)\n",
    "        self.call_sort(pivot_value+1,high)\n",
    "\n",
    "\n",
    "    def partition(self,low,high):\n",
    "        pivot_value = (high+low)//2\n",
    "        self.array[pivot_value], self.array[high] = self.array[high], self.array[pivot_value]\n",
    "\n",
    "        for j in range(low, high):\n",
    "            if self.array[high] > self.array[j]:\n",
    "                self.array[low], self.array[j] = self.array[j], self.array[low]\n",
    "                low+=1\n",
    "            self.array[low], self.array[high] = self.array[high], self.array[low]\n",
    "        return low\n",
    "\n",
    "\n",
    "myarray = [33,22,11,11,0,-1,2]\n",
    "q_obj = Quicksort(myarray)\n",
    "print(q_obj.ascending_sort())\n",
    "print(myarray)"
   ]
  },
  {
   "cell_type": "code",
   "execution_count": 12,
   "metadata": {},
   "outputs": [
    {
     "name": "stdout",
     "output_type": "stream",
     "text": [
      "1\n",
      "3\n",
      "2\n"
     ]
    }
   ],
   "source": [
    "nums = [1,2,3,4,5,6,7]\n",
    "k = 3\n",
    "\n",
    "print (10%3) # remainder operator \n",
    "print(10//3) # Divison operator\n",
    "\n",
    "arr = [1,2,3] \n",
    "rotate = 2\n",
    "\n",
    "print(rotate%len(arr))\n",
    "\n",
    "Your payment has been processed successfully and \n",
    "your VISA FEE PAYMENT is confirmed for payment \n",
    "reference number INDW7D3B8X2 .\n",
    "Please check your email for transaction details \n",
    "and download the payment confirmation \n",
    "acknowledgement letter.\n",
    "\n",
    "\n",
    "\n",
    "\n"
   ]
  },
  {
   "cell_type": "code",
   "execution_count": 25,
   "metadata": {},
   "outputs": [
    {
     "name": "stdout",
     "output_type": "stream",
     "text": [
      "Value not Present\n",
      "Value already present\n",
      "Value already present\n",
      "Value already present\n",
      "2\n",
      "{'my_list': [2]}\n"
     ]
    }
   ],
   "source": [
    "# Citation of paper\n",
    "\n",
    "# H-Index:\n",
    "\n",
    "# Let's say my wife publishes only 3 papers her H-Index will never go beyond 3 \n",
    "# However to increase your H index let say I have 10 papers but every paper\n",
    "# Just cited 1 time will not be enough to raise the H-index you need to make sure that\n",
    "# Paper are getting cited to \n",
    "# citations = [4,4,4,4,3]\n",
    "\n",
    "class RandomizedSet:\n",
    "\n",
    "    def __init__(self):\n",
    "        self.my_list = []\n",
    "        \n",
    "\n",
    "    def insert(self, val: int) -> bool:\n",
    "        if val not in self.my_list:\n",
    "            self.my_list.append(val)\n",
    "        else:\n",
    "            print(\"Value already present\")\n",
    "        \n",
    "\n",
    "    def remove(self, val: int) -> bool:\n",
    "        try: \n",
    "            self.my_list.remove(val)\n",
    "            return True\n",
    "        except ValueError:\n",
    "            print(\"Value not Present\")\n",
    "            return False\n",
    "        \n",
    "\n",
    "    def getRandom(self) -> int:\n",
    "\n",
    "        if self.my_list:\n",
    "            return self.my_list[0]\n",
    "        else:\n",
    "            print(\"element not found\")\n",
    "\n",
    "\n",
    "        \n",
    "obj = RandomizedSet()\n",
    "param_1 = obj.insert(2)\n",
    "param_2 = obj.remove(1)\n",
    "param_1 = obj.insert(21)\n",
    "param_1 = obj.insert(211)\n",
    "param_1 = obj.insert(2)\n",
    "param_3 = obj.getRandom()\n",
    "print(param_3)\n",
    "\n",
    "print(obj.__dict__)\n",
    "\n",
    "\n",
    "\n",
    "\n"
   ]
  },
  {
   "cell_type": "code",
   "execution_count": 40,
   "metadata": {},
   "outputs": [
    {
     "name": "stdout",
     "output_type": "stream",
     "text": [
      "[1000, 900, 500, 400, 100, 90, 50, 40, 10, 9, 5, 4, 1]\n",
      "1000\n",
      "1000\n",
      "1000\n",
      "500\n",
      "100\n",
      "100\n",
      "40\n",
      "9\n",
      "MMMDCCXLIX\n"
     ]
    }
   ],
   "source": [
    "s = \"test\"\n",
    "\n",
    "s.isalpha()"
   ]
  },
  {
   "cell_type": "code",
   "execution_count": 65,
   "metadata": {},
   "outputs": [
    {
     "name": "stdout",
     "output_type": "stream",
     "text": [
      " \n",
      " \n",
      " \n",
      "f f\n",
      "f f\n",
      "f f\n",
      "fl fl\n",
      "fl fl\n",
      "fl fl\n",
      "flo flo\n",
      "flo flo\n",
      "flo flo\n",
      "flow flow\n",
      "flow flow\n",
      "flow flow\n",
      "flowe flowe\n",
      "flowe flowe\n",
      "flowe flowe\n",
      "flower flower\n",
      "flower flower\n",
      "flower flower\n",
      "flower\n"
     ]
    }
   ],
   "source": [
    "mystr = \"abc\"\n",
    "\n",
    "strs = [\"flower\",\"flower\",\"flower\",\"flower\"]\n",
    "\n",
    "prefix = strs[0]\n",
    "\n",
    "i = 0\n",
    "found_max_prefix = False\n",
    "max_prefix = \"\"\n",
    "while i <= len(prefix) and not found_max_prefix:\n",
    "\n",
    "    prefix_window = prefix[0:i]\n",
    "\n",
    "    for each_str_index in range(1,len(strs)):\n",
    "        print(prefix_window,strs[each_str_index][0:i])\n",
    "        if prefix_window != strs[each_str_index][0:i]:\n",
    "            print(\"break\")\n",
    "            found_max_prefix = True\n",
    "            break\n",
    "    if not found_max_prefix:\n",
    "        # So, far we have not found the max prefix so, keep updating the variable\n",
    "        max_prefix = prefix_window\n",
    "    i+=1\n",
    "\n",
    "print(max_prefix)\n",
    "\n"
   ]
  },
  {
   "cell_type": "code",
   "execution_count": 17,
   "metadata": {},
   "outputs": [
    {
     "name": "stdout",
     "output_type": "stream",
     "text": [
      "0 5432\n"
     ]
    }
   ],
   "source": [
    "# Find the largest and smallest number in the array\n",
    "\n",
    "a = [121,1,34,12,46,5432,0]\n",
    "\n",
    "my_min = float('-inf')\n",
    "my_max = float('inf')\n",
    "\n",
    "# printing the smallest number\n",
    "for i in range(len(a)):\n",
    "    if my_max > a[i]:\n",
    "        # We have just found our next\n",
    "        # largest number\n",
    "        # Kepp going until we found the smallest\n",
    "        my_max = a[i]\n",
    "    \n",
    "    # finding the largest number\n",
    "    if my_min  < a[i]:\n",
    "        my_min = a[i]\n",
    "\n",
    "print(my_max,my_min)\n",
    "\n",
    "\n",
    "\n",
    "\n",
    "\n"
   ]
  },
  {
   "cell_type": "code",
   "execution_count": 83,
   "metadata": {},
   "outputs": [
    {
     "name": "stdout",
     "output_type": "stream",
     "text": [
      "0\n",
      "<class 'list'>\n",
      "[-1]\n",
      "[-1, -1]\n",
      "[-1, -1] [-1]\n",
      "0 -1\n"
     ]
    },
    {
     "ename": "IndexError",
     "evalue": "list assignment index out of range",
     "output_type": "error",
     "traceback": [
      "\u001b[0;31m---------------------------------------------------------------------------\u001b[0m",
      "\u001b[0;31mIndexError\u001b[0m                                Traceback (most recent call last)",
      "Cell \u001b[0;32mIn[83], line 42\u001b[0m\n\u001b[1;32m     39\u001b[0m \u001b[38;5;28mprint\u001b[39m(new_array, nums)\n\u001b[1;32m     41\u001b[0m \u001b[38;5;28;01mfor\u001b[39;00m index,value \u001b[38;5;129;01min\u001b[39;00m \u001b[38;5;28menumerate\u001b[39m(new_array):\n\u001b[0;32m---> 42\u001b[0m     \u001b[43mnums\u001b[49m\u001b[43m[\u001b[49m\u001b[43mindex\u001b[49m\u001b[43m]\u001b[49m \u001b[38;5;241m=\u001b[39m value\n\u001b[1;32m     43\u001b[0m     \u001b[38;5;28mprint\u001b[39m(index,value)\n",
      "\u001b[0;31mIndexError\u001b[0m: list assignment index out of range"
     ]
    }
   ],
   "source": [
    "# nums = [1,2,3,4,5,6,7]\n",
    "# k = 7\n",
    "\n",
    "# if len(nums) <= k:\n",
    "#     # placing a condition to roundout the k\n",
    "#     k = k%len(nums)\n",
    "#     print(k)\n",
    "\n",
    "# for i in range(k):\n",
    "#     last = nums.pop()\n",
    "#     print(last)\n",
    "#     nums.insert(0,last)\n",
    "\n",
    "# Solution 2 with extra index\n",
    "from typing import List\n",
    "\n",
    "def reverse_number(my_list: List[int]) -> List[int]:\n",
    "    print(type(my_list), \"inside inverse function\")\n",
    "    print(my_list)\n",
    "    for i in range(len(my_list)//2):\n",
    "        my_list[i], my_list[len(my_list)-i-1] = my_list[len(my_list)-i-1],  my_list[i]\n",
    "    print(my_list)\n",
    "    return my_list\n",
    "\n",
    "nums = [-1]\n",
    "k = 2\n",
    "\n",
    "if len(nums) < k:\n",
    "    # placing a condition to roundout the k\n",
    "    k = k%len(nums)\n",
    "print(k)\n",
    "\n",
    "print(type(nums[-k:]))\n",
    "print(nums[-k:])\n",
    "new_array = nums[-k:]\n",
    "new_array.extend(nums[0:len(nums)-k])\n",
    "print(new_array)\n",
    "\n",
    "print(new_array, nums)\n",
    "\n",
    "for index,value in enumerate(new_array):\n",
    "    nums[index] = value\n",
    "    print(index,value)\n",
    "\n"
   ]
  },
  {
   "cell_type": "code",
   "execution_count": null,
   "metadata": {},
   "outputs": [],
   "source": [
    "class Solution:\n",
    "    \n",
    "    def reverse_number(self, my_list: List[int]) -> List[int]:\n",
    "        for i in range(len(my_list)//2):\n",
    "            my_list[i], my_list[len(my_list)-i-1] = my_list[len(my_list)-i-1],  my_list[i]\n",
    "        return my_list\n",
    "    \n",
    "    def rotate(self, nums: List[int], k: int) -> None:\n",
    "        \"\"\"\n",
    "        Do not return anything, modify nums in-place instead.\n",
    "        \"\"\"\n",
    "        if len(nums) == k or k == 0:\n",
    "            return nums\n",
    "        if len(nums) < k:\n",
    "            # placing a condition to roundout the k\n",
    "            k = k%len(nums)\n",
    "\n",
    "        new_array = reverse_number(nums[-k:])\n",
    "        new_array.extend(nums[0:len(nums)-k])\n",
    "        \n",
    "        return new_array"
   ]
  },
  {
   "cell_type": "code",
   "execution_count": 96,
   "metadata": {},
   "outputs": [
    {
     "name": "stdout",
     "output_type": "stream",
     "text": [
      "{1: 1}\n",
      "{1: 1, 2: 1}\n",
      "{1: 1, 2: 1, 3: 1}\n",
      "1 value is not unique\n"
     ]
    }
   ],
   "source": [
    "nums = [1,2,3,1]\n",
    "\n",
    "look_up_table = {}\n",
    "\n",
    "for i in nums:\n",
    "    # print(i)\n",
    "    # look_up_table[i] = look_up_table.get(i,0) + 1\n",
    "    # print(look_up_table)\n",
    "    if look_up_table.get(i) is not None:\n",
    "        print(i, \"value is not unique\")\n",
    "    else:\n",
    "        look_up_table[i] = look_up_table.get(i,0) + 1\n",
    "        print(look_up_table)\n",
    "\n",
    "        False"
   ]
  },
  {
   "cell_type": "code",
   "execution_count": 114,
   "metadata": {},
   "outputs": [
    {
     "name": "stdout",
     "output_type": "stream",
     "text": [
      "Ajay\n",
      "4\n"
     ]
    }
   ],
   "source": [
    "nums = [4,1,1,2,2]\n",
    "find_table = {}\n",
    "for i in nums:\n",
    "    if find_table.get(i) is not None:\n",
    "        if find_table.get(i) == 1:\n",
    "            del find_table[i]\n",
    "    else:\n",
    "        find_table[i] = find_table.get(i,0) + 1\n",
    "print(\"Ajay\")\n",
    "first_key = next(iter(find_table))\n",
    "print(first_key)"
   ]
  },
  {
   "cell_type": "code",
   "execution_count": null,
   "metadata": {},
   "outputs": [],
   "source": [
    "nums1 = [1,2,2,1]\n",
    "nums2 = [2,2]\n",
    "\n"
   ]
  },
  {
   "cell_type": "code",
   "execution_count": null,
   "metadata": {},
   "outputs": [],
   "source": [
    "nums1 = [4,9,5]\n",
    "nums2 = [9,4,9,8,4]\n",
    "\n"
   ]
  }
 ],
 "metadata": {
  "kernelspec": {
   "display_name": "Python 3",
   "language": "python",
   "name": "python3"
  },
  "language_info": {
   "codemirror_mode": {
    "name": "ipython",
    "version": 3
   },
   "file_extension": ".py",
   "mimetype": "text/x-python",
   "name": "python",
   "nbconvert_exporter": "python",
   "pygments_lexer": "ipython3",
   "version": "3.9.6"
  },
  "orig_nbformat": 4
 },
 "nbformat": 4,
 "nbformat_minor": 2
}
