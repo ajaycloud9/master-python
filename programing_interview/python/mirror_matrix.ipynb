{
 "cells": [
  {
   "cell_type": "code",
   "execution_count": null,
   "metadata": {},
   "outputs": [],
   "source": [
    "# Mirror Matrix algorithm\n",
    "\n",
    "# Goal find me all the mirror elements in the give matrix \n",
    "\n",
    "#### In (1X1) matrix or N X N matrix we need to define what quardarent\n",
    "\n",
    "#### Write a function which gives the upper quardent of any given matrixs"
   ]
  },
  {
   "cell_type": "code",
   "execution_count": 17,
   "metadata": {},
   "outputs": [
    {
     "name": "stdout",
     "output_type": "stream",
     "text": [
      "[1, 2, 4, 5]\n",
      "[5, 3, 5, 6]\n",
      "[12, 12, 7, 8]\n",
      "[112, 112, 5, 9]\n"
     ]
    }
   ],
   "source": [
    "def getUpperLeftQuardrant(arr):\n",
    "    upper_quad = []\n",
    "    matrix_len = len(arr)\n",
    "    for x_index in range(matrix_len//2):\n",
    "        for y_index in range(matrix_len//2):\n",
    "            upper_quad.append(arr[x_index][y_index])\n",
    "    print(upper_quad)\n",
    "\n",
    "def getUpperRightQuardrant(arr):\n",
    "    upper_quad = []\n",
    "    matrix_len = len(arr)\n",
    "    for x_index in range(matrix_len//2):\n",
    "        for y_index in range(matrix_len//2):\n",
    "            upper_quad.append(arr[x_index][matrix_len-y_index-1])\n",
    "    print(upper_quad)\n",
    "\n",
    "def getBottomLeftQuardrant(arr):\n",
    "    upper_quad = []\n",
    "    matrix_len = len(arr)\n",
    "    for x_index in range(matrix_len//2):\n",
    "        for y_index in range(matrix_len//2):\n",
    "            upper_quad.append(arr[matrix_len-x_index-1][y_index])\n",
    "    print(upper_quad)\n",
    "\n",
    "def getBottomRightQuardrant(arr):\n",
    "    upper_quad = []\n",
    "    matrix_len = len(arr)\n",
    "    for x_index in range(matrix_len//2):\n",
    "        for y_index in range(matrix_len//2):\n",
    "            upper_quad.append(arr[matrix_len-x_index-1][matrix_len-y_index-1])\n",
    "    print(upper_quad)\n",
    "\n",
    "array = [[1,2,3,5],[4,5,6,5],[7,8,9,5],[12,12,112,112]]\n",
    "\n",
    "getUpperLeftQuardrant(array)\n",
    "getUpperRightQuardrant(array)\n",
    "getBottomLeftQuardrant(array)\n",
    "getBottomRightQuardrant(array)"
   ]
  },
  {
   "attachments": {},
   "cell_type": "markdown",
   "metadata": {},
   "source": [
    "## Write the code to get the mirror list of first quadrent elements "
   ]
  },
  {
   "cell_type": "code",
   "execution_count": 27,
   "metadata": {},
   "outputs": [
    {
     "name": "stdout",
     "output_type": "stream",
     "text": [
      "[[112, 119, 62, 118], [42, 83, 98, 114], [56, 49, 15, 43], [125, 56, 78, 101]]\n",
      "[119, 114, 56, 125]\n",
      "414\n"
     ]
    }
   ],
   "source": [
    "def getMirrorList(array):\n",
    "    mirror_list = []\n",
    "    max_list = []\n",
    "    matrix_len = len(array)\n",
    "    for x_index in range(len(array)//2):\n",
    "        for y_index in range(len(array)//2):\n",
    "            mirror_list.append([\n",
    "            array[x_index][y_index], # Top Left corner \n",
    "            array[x_index][matrix_len - y_index - 1], # Top Right corner \n",
    "            array[matrix_len - x_index - 1][y_index], # Bottom Left corner \n",
    "            array[matrix_len - x_index - 1][matrix_len - y_index - 1]]) # Bottom Right corner \n",
    "    \n",
    "    for max_value in mirror_list:\n",
    "        max_list.append(max(max_value))\n",
    "\n",
    "    print(mirror_list)\n",
    "    print(max_list)\n",
    "    print(sum(max_list))\n",
    "\n",
    "array = [[112,42,83,119],[56,125,56,49],[15,78,101,43],[62,98,114,118]]\n",
    "getMirrorList(array)"
   ]
  },
  {
   "cell_type": "code",
   "execution_count": 24,
   "metadata": {},
   "outputs": [
    {
     "name": "stdout",
     "output_type": "stream",
     "text": [
      "5\n"
     ]
    }
   ],
   "source": [
    "a =[1,2,3,4,5]\n",
    "print (max(a))"
   ]
  },
  {
   "cell_type": "code",
   "execution_count": 12,
   "metadata": {},
   "outputs": [
    {
     "name": "stdout",
     "output_type": "stream",
     "text": [
      "1 4 7 5 3 6 9\n",
      "2 5 8 6 0 0 0\n",
      "3 6 9 0 0 0 0\n",
      "0 0 0 0 0 0 0\n",
      "4 7 10 8 6 9 12\n",
      "5 8 11 9 0 0 4\n",
      "6 9 12 0 0 0 4\n",
      "0 0 4 0 0 0 0\n",
      "7 10 13 11 9 12 15\n",
      "8 11 14 12 0 4 2\n",
      "9 12 15 4 0 4 0\n",
      "0 4 2 4 0 0 0\n",
      "10 13 16 14 12 15 18\n",
      "11 14 17 15 4 2 2\n",
      "12 15 18 2 4 0 4\n",
      "4 2 2 0 0 0 0\n",
      "[[35], [21], [18], [0], [56], [37], [31], [4], [77], [51], [44], [10], [98], [65], [55], [8]]\n"
     ]
    }
   ],
   "source": [
    "arr =[[1, 2, 3, 0, 0, 0], [4, 5, 6, 0, 0, 0], [7, 8, 9, 0, 0, 0], [10, 11, 12, 4, 4, 0], [13, 14, 15, 2, 0, 0], [16, 17, 18, 2, 4, 0]]\n",
    "hour_glass_list = []\n",
    "   \n",
    "for i_list_index in range(len(arr)-2):\n",
    "    for j in range(len(arr)-2):\n",
    "                hour_glass_list.append([\n",
    "                    arr[i_list_index][j] + arr[i_list_index][j+1] +arr[i_list_index][j+2] +arr[i_list_index+1][j+1]+arr[i_list_index+2][j]+arr[i_list_index+2][j+1]+arr[i_list_index+2][j+2]\n",
    "                ])\n",
    "print(hour_glass_list)\n"
   ]
  },
  {
   "cell_type": "code",
   "execution_count": 18,
   "metadata": {},
   "outputs": [
    {
     "name": "stdout",
     "output_type": "stream",
     "text": [
      "3\n",
      "None\n",
      "Too chaotic\n",
      "None\n"
     ]
    }
   ],
   "source": [
    "def minimumBribes(q):\n",
    "    total_bribe = 0\n",
    "    for i in range(len(q), 0, -1):\n",
    "        # print(i,q[i-1],q[i-2]) #if q[i-1]) ==\n",
    "        if i != q[i-1]:\n",
    "            if i==q[i-2]:  # Bribing only one time\n",
    "                total_bribe +=1\n",
    "                q[i-2], q[i-1] = q[i-1], q[i-2]\n",
    "            \n",
    "            elif i == q[i-3]:\n",
    "                total_bribe += 2\n",
    "                q[i-3], q[i-2] = q[i-2], q[i-3]  # In place swap\n",
    "                q[i-2], q[i-1] = q[i-1], q[i-2]\n",
    "            else:\n",
    "                print(\"Too chaotic\")\n",
    "                return\n",
    "    print (total_bribe)\n",
    "\n",
    "print (minimumBribes([ 2, 1, 5, 3, 4]))\n",
    "print (minimumBribes([2, 5, 1, 3, 4]))"
   ]
  },
  {
   "cell_type": "code",
   "execution_count": 9,
   "metadata": {},
   "outputs": [
    {
     "name": "stdout",
     "output_type": "stream",
     "text": [
      "3\n"
     ]
    }
   ],
   "source": [
    "def minimumSwaps(arr):\n",
    "    \"\"\"\n",
    "    Run a for loop for the end of the list because we know by the end \n",
    "    All the integers must have reached to it's location\n",
    "    At index 2 we found 5 --> we swap with array index 4\n",
    "    # We are trying to check if index == array value\n",
    "                        # To find the matching order\n",
    "                        # If there is a mismatch we will swap the value \n",
    "                        # With the right index\n",
    "    \"\"\"\n",
    "    minimum_swap = 0\n",
    "    for index in range(len(arr)-1):\n",
    "        while index+1 != arr[index]:\n",
    "            destination_index = arr[index]-1\n",
    "            arr[index],arr[destination_index] = arr[destination_index], arr[index]\n",
    "            minimum_swap +=1\n",
    "            if index >=len(arr):\n",
    "                break\n",
    "    print(minimum_swap)\n",
    "\n",
    "\n",
    "\n",
    "minimumSwaps([2 ,3 ,4 ,1, 5])"
   ]
  },
  {
   "cell_type": "code",
   "execution_count": 15,
   "metadata": {},
   "outputs": [
    {
     "name": "stdout",
     "output_type": "stream",
     "text": [
      "[4, 5, 6, 7, 8, 9, 1, 2, 3]\n"
     ]
    }
   ],
   "source": [
    "def rotLeft(array, total_rotation):\n",
    "    # Write your code here\n",
    "    \"\"\"\n",
    "    123 - 3 time left rot\n",
    "    231 - 1st\n",
    "    312 - 2nd\n",
    "    123 - 3rd  Reset\n",
    "    231 - 4th\n",
    "    Find the remainder using modulo operator\n",
    "    \"\"\"\n",
    "    if len(array) < total_rotation:\n",
    "        total_rotation = len(array)%total_rotation\n",
    "\n",
    "    for _ in range(total_rotation):\n",
    "        first_element = array[0]\n",
    "        del array[0]\n",
    "        array.append(first_element)\n",
    "    \n",
    "    print(array)\n",
    "\n",
    "rotLeft([1,2,3,4,5,6,7,8,9],3)"
   ]
  },
  {
   "cell_type": "code",
   "execution_count": 20,
   "metadata": {},
   "outputs": [
    {
     "name": "stdout",
     "output_type": "stream",
     "text": [
      "[1, 2, 3]\n",
      "2\n",
      "3\n"
     ]
    }
   ],
   "source": [
    "my_list = [0, 1, 2, 3, 4, 5] \n",
    "print(my_list[1:4]) # Value 1 to 4 is inclusive at this will return the index position of the elements\n",
    "\n",
    "for i in range(2,4):\n",
    "    print(i)"
   ]
  },
  {
   "cell_type": "code",
   "execution_count": 25,
   "metadata": {},
   "outputs": [
    {
     "name": "stdout",
     "output_type": "stream",
     "text": [
      "200\n"
     ]
    }
   ],
   "source": [
    "def arrayManipulation(n, queries):\n",
    "    # Write your code here\n",
    "    \"\"\"\n",
    "    create a zero array of size n\n",
    "    start_index - 1 \n",
    "    end_index - 2 \n",
    "    operation - Add 100 to both indices\n",
    "    \"\"\"\n",
    "\n",
    "    zero_array = n*[0]\n",
    "    for query in queries:\n",
    "        start_index = query[0]-1 # Since we need to adjust based on actual index #0\n",
    "        end_index = query[1] #2\n",
    "        operation = query[2]\n",
    "        #arr[start_index:end_index]\n",
    "        for i in range(start_index,end_index): #0 #2\n",
    "            zero_array[i]+=operation\n",
    "    print(max(zero_array))\n",
    "\n",
    "\n",
    "n = 10\n",
    "queries = [[1, 2, 100], [2, 5, 100], [3, 4, 100]]\n",
    "queries = [[1, 2, 100], [2, 5, 100], [3, 4, 100]]\n",
    "arrayManipulation(n,queries)"
   ]
  },
  {
   "cell_type": "code",
   "execution_count": 26,
   "metadata": {},
   "outputs": [
    {
     "name": "stdout",
     "output_type": "stream",
     "text": [
      "1\n"
     ]
    }
   ],
   "source": [
    "print(1%2)"
   ]
  },
  {
   "cell_type": "code",
   "execution_count": 29,
   "metadata": {},
   "outputs": [
    {
     "name": "stdout",
     "output_type": "stream",
     "text": [
      "['A', 'B', 'A', 'B', 'A', 'B']\n",
      "3\n"
     ]
    }
   ],
   "source": [
    "def alternatingCharacters(s):\n",
    "    # Write your code here\n",
    "    \"\"\"\n",
    "    AB - Good Because i != i+1\n",
    "    AA - Not Good i==i+1\n",
    "    \"\"\"\n",
    "    deleted_str = 0\n",
    "    convert_list_to_str = list(s)\n",
    "    n=0\n",
    "    end =len(convert_list_to_str)-1\n",
    "    while n < end:\n",
    "        current = convert_list_to_str[n]\n",
    "        next = convert_list_to_str[n+1]\n",
    "        if convert_list_to_str[n] == convert_list_to_str[n+1]:\n",
    "            deleted_str+=1\n",
    "            del convert_list_to_str[n+1]\n",
    "            end-=1\n",
    "            continue\n",
    "        n+=1\n",
    "        \n",
    "    print(convert_list_to_str)\n",
    "    return deleted_str\n",
    "\n",
    "print (alternatingCharacters(\"ABAAAABAB\"))"
   ]
  }
 ],
 "metadata": {
  "kernelspec": {
   "display_name": "Python 3",
   "language": "python",
   "name": "python3"
  },
  "language_info": {
   "codemirror_mode": {
    "name": "ipython",
    "version": 3
   },
   "file_extension": ".py",
   "mimetype": "text/x-python",
   "name": "python",
   "nbconvert_exporter": "python",
   "pygments_lexer": "ipython3",
   "version": "3.9.6"
  },
  "orig_nbformat": 4
 },
 "nbformat": 4,
 "nbformat_minor": 2
}
