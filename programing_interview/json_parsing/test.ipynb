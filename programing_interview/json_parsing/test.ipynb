{
 "cells": [
  {
   "cell_type": "code",
   "execution_count": 30,
   "metadata": {},
   "outputs": [
    {
     "name": "stdout",
     "output_type": "stream",
     "text": [
      "None\n",
      "{'size': 'S', 'color': 'Red', 'price': 12.99, 'discount': 0.1}\n",
      "{'size': 'M', 'color': 'Red', 'price': 14.99, 'discount': 0.05}\n",
      "{'size': 'L', 'color': 'Red', 'price': 26.99, 'discount': 0.0}\n",
      "{'size': 'S', 'color': 'Red', 'price': 13.99, 'discount': 0.15}\n",
      "{'inventory': [{'name': 'T-shirts', 'products': [{'size': 'S', 'color': 'Red', 'price': 12.99, 'discount': 0.1}, {'size': 'M', 'color': 'Red', 'price': 14.99, 'discount': 0.05}, {'size': 'L', 'color': 'Red', 'price': 26.99, 'discount': 0.0}]}, {'name': 'Jackets', 'products': [{'size': 'S', 'color': 'Red', 'price': 13.99, 'discount': 0.15}]}]}\n"
     ]
    }
   ],
   "source": [
    "# Sample data\n",
    "\n",
    "\"\"\"\n",
    "Please write a method that retrieves extracted data based on the query parameters in a GET request.\n",
    "This method should be capable of extracting items based on specific criteria, such as color and/or price.\n",
    "\n",
    "https://example.com/api/v1/items?color=Green                # return only items of particular color\n",
    "https://example.com/api/v1/items?price=15.00                # return items with price equal or lower than specified\n",
    "https://example.com/api/v1/items?color=Green&price=15.00    # return items of particular color and price\n",
    "\n",
    "For example, https://example.com/api/v1/items?color=Green&price=15.00 should return:\n",
    "\n",
    "{\n",
    "    \"inventory\": [\n",
    "        {\n",
    "            \"name\": \"Jackets\",\n",
    "            \"products\": [\n",
    "                {\"size\": \"S\", \"color\": \"Green\", \"price\": 13.99, \"discount\": 0.15},\n",
    "            ],\n",
    "        },\n",
    "    ]\n",
    "}\n",
    "\"\"\"\n",
    "data = {\n",
    "    \"inventory\": [\n",
    "        {\n",
    "            \"name\": \"T-shirts\",\n",
    "            \"products\": [\n",
    "                {\"size\": \"S\", \"color\": \"Red\", \"price\": 12.99, \"discount\": 0.1},\n",
    "                {\"size\": \"M\", \"color\": \"Red\", \"price\": 14.99, \"discount\": 0.05},\n",
    "                {\"size\": \"L\", \"color\": \"Red\", \"price\": 26.99, \"discount\": 0.0},\n",
    "            ],\n",
    "        },\n",
    "        {\n",
    "            \"name\": \"Jackets\",\n",
    "            \"products\": [\n",
    "                {\"size\": \"S\", \"color\": \"Red\", \"price\": 13.99, \"discount\": 0.15},\n",
    "                {\"size\": \"M\", \"color\": \"Blue\", \"price\": 18.99, \"discount\": 0.0},\n",
    "                {\"size\": \"L\", \"color\": \"Grey\", \"price\": 24.99, \"discount\": 0.2},\n",
    "            ],\n",
    "        },\n",
    "    ]\n",
    "}\n",
    "\n",
    "\n",
    "\n",
    "def extract_url():\n",
    "    # https://example.com/api/v1/items?color=Green\n",
    "    # Extract all the query parameters returning all the static elements\n",
    "    # return {'price': 100} # --> TC - 1 GET https://example.com/api/v1/items?price=15.00 \n",
    "    return {'color': 'Red'} # --> TC - 2  GET https://example.com/api/v1/items?price=15.00   \n",
    "    # return {'color': 'Green', 'price': 15} # --> TC - 3 GET https://example.com/api/v1/items?color=Green&price=15.00 \n",
    "\n",
    "def extract_items(url):\n",
    "    query_params = extract_url()\n",
    "    \n",
    "\n",
    "    color_extract = query_params.get('color')\n",
    "    price_extract = query_params.get('price')\n",
    "    print(price_extract)\n",
    "\n",
    "    extracted_inventory = [] # Initialize the list\n",
    "    \n",
    "    # This is where I was thinking to taking the whole product and just append to the list\n",
    "    # {'size': 'L', 'color': 'Green', 'price': 26.99, 'discount': 0.0} --> Append it to my  extracted_inventory list\n",
    "    for category in data[\"inventory\"]:\n",
    "        products_in_flter = []\n",
    "        for product in category[\"products\"]:\n",
    "            if color_extract is not None and product[\"color\"] != color_extract:\n",
    "                # This condition will skip product when color NOT_MATCH or not given\n",
    "                continue\n",
    "            if price_extract is not None and product[\"price\"] > price_extract:\n",
    "                # This condition will skip product when price is higher or price not given\n",
    "                continue\n",
    "            print(product) # Checking all the products\n",
    "            # Once it pass all the if's keep appending to the list\n",
    "            products_in_flter.append(product)\n",
    "        \n",
    "        if products_in_flter:\n",
    "            # This is where I was thinking to append it in a alreay given data structure inventory{\"name\": \"xyx\", \"products\":[a,b,c] }\n",
    "            extracted_inventory.append({\n",
    "                \"name\": category[\"name\"],\n",
    "                \"products\": products_in_flter\n",
    "            })\n",
    "    \n",
    "    return {\"inventory\": extracted_inventory}\n",
    "    # This dictionary will eventually can be converted to JSON\n",
    "\n",
    "\n",
    "extracted_data = extract_items(extract_url())\n",
    "print(extracted_data)\n"
   ]
  },
  {
   "cell_type": "code",
   "execution_count": 34,
   "metadata": {},
   "outputs": [
    {
     "name": "stdout",
     "output_type": "stream",
     "text": [
      "Decorator Singh\n",
      "5\n",
      "Ajay Singh\n"
     ]
    }
   ],
   "source": [
    "# Write a decorator to achieve somthing\n",
    "\n",
    "def decorator_name(real_func):\n",
    "\n",
    "    def wrappper_func(*args,**kwargs):\n",
    "        print(\"Decorator Singh\")\n",
    "        real_func(*args,**kwargs)\n",
    "    \n",
    "    return wrappper_func\n",
    "\n",
    "@decorator_name\n",
    "def printName(a,b):\n",
    "    print(a+b)\n",
    "    print(\"Ajay Singh\")\n",
    "\n",
    "printName(2,3)"
   ]
  },
  {
   "cell_type": "code",
   "execution_count": 53,
   "metadata": {},
   "outputs": [
    {
     "name": "stdout",
     "output_type": "stream",
     "text": [
      "[13, 11, 22, 12, 12, -1, 2, 3, 5, 67, 8, 9] actual\n",
      "[67, 22, 13, 12, 12, 11, 9, 8, 5, 3, 2, -1]\n"
     ]
    }
   ],
   "source": [
    "# BubbleSort\n",
    "\n",
    "array = [13,11,22,12,12,-1,2,3,5,67,8,9]\n",
    "\n",
    "print(array,\"actual\")\n",
    "for i in range(len(array)):\n",
    "    for j in range (i+1,len(array)):\n",
    "\n",
    "        if array[i] < array[j]:\n",
    "            array[i],array[j] = array[j],array[i]\n",
    "\n",
    "print(array)\n",
    "\n",
    "\n",
    "# def merge\n"
   ]
  },
  {
   "cell_type": "code",
   "execution_count": 57,
   "metadata": {},
   "outputs": [
    {
     "name": "stdout",
     "output_type": "stream",
     "text": [
      "[-1, 2, 3, 5, 8, 9, 11, 12, 12, 13, 22, 67]\n"
     ]
    }
   ],
   "source": []
  },
  {
   "cell_type": "code",
   "execution_count": 61,
   "metadata": {},
   "outputs": [
    {
     "name": "stdout",
     "output_type": "stream",
     "text": [
      "1\n",
      "3\n"
     ]
    },
    {
     "ename": "AttributeError",
     "evalue": "'list' object has no attribute 'join'",
     "output_type": "error",
     "traceback": [
      "\u001b[0;31m---------------------------------------------------------------------------\u001b[0m",
      "\u001b[0;31mAttributeError\u001b[0m                            Traceback (most recent call last)",
      "Cell \u001b[0;32mIn[61], line 10\u001b[0m\n\u001b[1;32m      8\u001b[0m         \u001b[39mprint\u001b[39m(i)\n\u001b[1;32m      9\u001b[0m         mystring_list[i] \u001b[39m=\u001b[39m replace\n\u001b[0;32m---> 10\u001b[0m mystring \u001b[39m=\u001b[39m mystring_list\u001b[39m.\u001b[39;49mjoin()\n\u001b[1;32m     11\u001b[0m \u001b[39mprint\u001b[39m(mystring)\n",
      "\u001b[0;31mAttributeError\u001b[0m: 'list' object has no attribute 'join'"
     ]
    }
   ],
   "source": [
    "mystring = \"s a e\"\n",
    "replace = \"t\"\n",
    "\n",
    "mystring_list = list(mystring)\n",
    "\n",
    "for i in range(len(mystring_list)):\n",
    "    if not mystring_list[i].isalpha():\n",
    "        print(i)\n",
    "        mystring_list[i] = replace\n",
    "mystring = ''.join(mystring_list)\n",
    "print(mystring)"
   ]
  },
  {
   "cell_type": "code",
   "execution_count": null,
   "metadata": {},
   "outputs": [],
   "source": []
  }
 ],
 "metadata": {
  "kernelspec": {
   "display_name": "Python 3",
   "language": "python",
   "name": "python3"
  },
  "language_info": {
   "codemirror_mode": {
    "name": "ipython",
    "version": 3
   },
   "file_extension": ".py",
   "mimetype": "text/x-python",
   "name": "python",
   "nbconvert_exporter": "python",
   "pygments_lexer": "ipython3",
   "version": "3.9.6"
  },
  "orig_nbformat": 4
 },
 "nbformat": 4,
 "nbformat_minor": 2
}
