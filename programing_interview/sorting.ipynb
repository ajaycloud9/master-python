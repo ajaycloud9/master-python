{
 "cells": [
  {
   "attachments": {},
   "cell_type": "markdown",
   "metadata": {},
   "source": [
    "# Sorting Algorithms\n",
    "\n",
    "- Comparison based sorting algorithms\n",
    "  - Bubble sort O(N2)\n",
    "  - Merge sort  O(NlogN)\n",
    "  - Quick sort O(NlogN)\n",
    "- Non-comparison based \n",
    "  - Bucket sort  O(N)\n",
    "  - radix sort O(N)"
   ]
  },
  {
   "cell_type": "code",
   "execution_count": 4,
   "metadata": {},
   "outputs": [
    {
     "ename": "KeyboardInterrupt",
     "evalue": "",
     "output_type": "error",
     "traceback": [
      "\u001b[0;31m---------------------------------------------------------------------------\u001b[0m",
      "\u001b[0;31mKeyboardInterrupt\u001b[0m                         Traceback (most recent call last)",
      "Cell \u001b[0;32mIn[4], line 25\u001b[0m\n\u001b[1;32m     22\u001b[0m         \u001b[39mreturn\u001b[39;00m \u001b[39mTrue\u001b[39;00m\n\u001b[1;32m     24\u001b[0m algorithm \u001b[39m=\u001b[39m BogoSort([\u001b[39m3\u001b[39m,\u001b[39m2\u001b[39m])\n\u001b[0;32m---> 25\u001b[0m algorithm\u001b[39m.\u001b[39;49msort()\n\u001b[1;32m     26\u001b[0m \u001b[39mprint\u001b[39m (algorithm\u001b[39m.\u001b[39mnums)\n",
      "Cell \u001b[0;32mIn[4], line 8\u001b[0m, in \u001b[0;36mBogoSort.sort\u001b[0;34m(self)\u001b[0m\n\u001b[1;32m      6\u001b[0m \u001b[39mdef\u001b[39;00m \u001b[39msort\u001b[39m(\u001b[39mself\u001b[39m):\n\u001b[0;32m----> 8\u001b[0m     \u001b[39mwhile\u001b[39;00m \u001b[39mnot\u001b[39;00m \u001b[39mself\u001b[39;49m\u001b[39m.\u001b[39;49mis_sorted():\n\u001b[1;32m      9\u001b[0m         \u001b[39mself\u001b[39m\u001b[39m.\u001b[39mshuffle()\n",
      "Cell \u001b[0;32mIn[4], line 20\u001b[0m, in \u001b[0;36mBogoSort.is_sorted\u001b[0;34m(self)\u001b[0m\n\u001b[1;32m     18\u001b[0m \u001b[39mdef\u001b[39;00m \u001b[39mis_sorted\u001b[39m(\u001b[39mself\u001b[39m):\n\u001b[1;32m     19\u001b[0m     \u001b[39mfor\u001b[39;00m i \u001b[39min\u001b[39;00m \u001b[39mrange\u001b[39m(\u001b[39mlen\u001b[39m(\u001b[39mself\u001b[39m\u001b[39m.\u001b[39mnums)\u001b[39m-\u001b[39m\u001b[39m1\u001b[39m):\n\u001b[0;32m---> 20\u001b[0m         \u001b[39mif\u001b[39;00m \u001b[39mself\u001b[39;49m\u001b[39m.\u001b[39;49mnums[i] \u001b[39m>\u001b[39m \u001b[39mself\u001b[39m\u001b[39m.\u001b[39mnums[i\u001b[39m+\u001b[39m\u001b[39m1\u001b[39m]:\n\u001b[1;32m     21\u001b[0m             \u001b[39mreturn\u001b[39;00m \u001b[39mFalse\u001b[39;00m\n\u001b[1;32m     22\u001b[0m     \u001b[39mreturn\u001b[39;00m \u001b[39mTrue\u001b[39;00m\n",
      "\u001b[0;31mKeyboardInterrupt\u001b[0m: "
     ]
    }
   ],
   "source": [
    "import random\n",
    "class BogoSort:\n",
    "    def __init__(self,nums):\n",
    "        self.nums = nums\n",
    "\n",
    "    def sort(self):\n",
    "\n",
    "        while not self.is_sorted():\n",
    "            self.shuffle()\n",
    "    \n",
    "    #Firsher-yates approach\n",
    "    def shuffle(self):\n",
    "        for i in range(len(self.nums)-2,0,-1):\n",
    "            j = random.randint(0, i+1)\n",
    "            self.nums[i],self.nums[j] = self.nums[j], self.nums[i]\n",
    "            print(self.nums)\n",
    "\n",
    "    def is_sorted(self):\n",
    "        for i in range(len(self.nums)-1):\n",
    "            if self.nums[i] > self.nums[i+1]:\n",
    "                return False\n",
    "        return True\n",
    "            \n",
    "algorithm = BogoSort([3,2])\n",
    "algorithm.sort()\n",
    "print (algorithm.nums)"
   ]
  },
  {
   "cell_type": "code",
   "execution_count": 8,
   "metadata": {},
   "outputs": [
    {
     "name": "stdout",
     "output_type": "stream",
     "text": [
      "[1, 2, 3, 4, 5]\n",
      "[5, 4, 3, 2, 1]\n"
     ]
    }
   ],
   "source": [
    "# Bubblesort\n",
    "\n",
    "array = [5,4,3,2,1]\n",
    "\n",
    "for i in range(len(array)-1):\n",
    "    for j in range(len(array)-i-1):\n",
    "        if array[j] > array[j+1]:\n",
    "            array[j],array[j+1] = array[j+1],array[j]\n",
    "print(array)\n",
    "\n",
    "array = [1,2,3,4,5]\n",
    "for i in range(len(array)-1):\n",
    "    for j in range(len(array)-i-1):\n",
    "        if array[j] < array[j+1]:\n",
    "            array[j],array[j+1] = array[j+1],array[j]\n",
    "\n",
    "print(array)"
   ]
  },
  {
   "cell_type": "code",
   "execution_count": 3,
   "metadata": {},
   "outputs": [
    {
     "name": "stdout",
     "output_type": "stream",
     "text": [
      "[1, 2, 3, 4, 5]\n"
     ]
    }
   ],
   "source": [
    "# Selection sort\n",
    "\n",
    "# This is also O(N2) running time\n",
    "# However we need to find the minimum element \n",
    "# and put it towards the end of the value\n",
    "\n",
    "array = [3,2,1,4,5]\n",
    "\n",
    "for i in range(len(array)):\n",
    "    index = i\n",
    "    for j in range(i,len(array)):\n",
    "        if array[j] < array[index]:\n",
    "            index = j\n",
    "\n",
    "    if index!=i:\n",
    "        array[index],array[i] = array[i],array[index]\n",
    "\n",
    "print(array)\n"
   ]
  },
  {
   "cell_type": "code",
   "execution_count": 4,
   "metadata": {},
   "outputs": [
    {
     "name": "stdout",
     "output_type": "stream",
     "text": [
      "[1, 2, 3, 4, 5]\n",
      "[0, 0, 0, 0, 1, 2]\n"
     ]
    }
   ],
   "source": [
    "# Bubblesort\n",
    "\n",
    "array = [1,3,5,4,2]\n",
    "\n",
    "# What is bubblesort ? How will achieve it theoritically ?\n",
    "# Swap the number under the largest number rolls down to the end\n",
    "# For ex:\n",
    "# [3,2,1] --> Check if 3>2 then swap(2,3) [2,3,1] \n",
    "# [2,3,1] --> Swap [3,1] [2,1,3] # Move the pointer from the last index to last_index-1\n",
    "\n",
    "for i in range(len(array)):\n",
    "    for j in range(len(array)-i-1):\n",
    "        if array[j] > array[j+1]:\n",
    "            array[j],array[j+1] = array[j+1],array[j]\n",
    "print(array)\n",
    "\n",
    "for i in range(0):\n",
    "    print(i,\"ajay\")\n",
    "\n",
    "\n",
    "# Selection sort\n",
    "\n",
    "array = [1,0,0,0,0,2]\n",
    "\n",
    "for i in range(len(array)):\n",
    "    # Store the index of the minimum item\n",
    "    temp_value = i \n",
    "    for j in range(i,len(array)):\n",
    "        # Storing the index\n",
    "        if array[j] < array[temp_value]:\n",
    "            temp_value = j\n",
    "\n",
    "    # Swapping the minimum index with the first element of index\n",
    "    if temp_value!= i:\n",
    "        array[temp_value], array[i] = array[i],array[temp_value]\n",
    "print(array)"
   ]
  },
  {
   "attachments": {},
   "cell_type": "markdown",
   "metadata": {},
   "source": [
    "# Insertion Sort\n",
    "- Insertion sort is an in-place algorithm - Does not need any additional memory\n",
    "- Online Algorithm - It can sort an array as it receives the items for example downloading data from the web\n",
    "- Hybdrid Algorithms: Uses insertion sort if the subarray is small enough: insertion sort is faster for small\n",
    "  subarrays than quicksort\n",
    "- Variant of insertion sort is a shell sort\n",
    "  "
   ]
  },
  {
   "cell_type": "code",
   "execution_count": 5,
   "metadata": {},
   "outputs": [
    {
     "name": "stdout",
     "output_type": "stream",
     "text": [
      "[0, 0, 0, 0, 1, 2]\n"
     ]
    }
   ],
   "source": [
    "nums = [1,0,0,0,0,2]\n",
    "for i in range(len(nums)):\n",
    "    j = i\n",
    "\n",
    "    # We need to check that all the previous items (not always all of them)\n",
    "    # So in worst case we consider all the previous items (until j=0)\n",
    "\n",
    "    while j>0 and nums[j-1] > nums[j]:\n",
    "        # Swap the items\n",
    "        nums[j-1], nums[j] = nums[j],nums[j-1]\n",
    "        j = j-1\n",
    "print(nums)\n"
   ]
  },
  {
   "cell_type": "code",
   "execution_count": 6,
   "metadata": {},
   "outputs": [
    {
     "name": "stdout",
     "output_type": "stream",
     "text": [
      "[2, 11, 12, 12, 121, 123]\n"
     ]
    }
   ],
   "source": [
    "# Shell Short\n",
    "nums = [11,12,12,121,123,2]\n",
    "gap = len(nums)//2\n",
    "\n",
    "# This is the shell sort\n",
    "\n",
    "while gap > 0:\n",
    "    # This is the same as insertion sort but here we have to consider \n",
    "    # Items that are as far away from each other as the value of the gap\n",
    "\n",
    "    for i in range(gap, len(nums)):\n",
    "        \n",
    "        j = i\n",
    "\n",
    "        while j >=gap and nums[j-gap] > nums[j]:\n",
    "            nums[j],nums[j-gap] = nums[j-gap], nums[j]\n",
    "            j = j - gap\n",
    "\n",
    "    gap = gap//2\n",
    "\n",
    "print(nums)"
   ]
  },
  {
   "attachments": {},
   "cell_type": "markdown",
   "metadata": {},
   "source": [
    "# Quickshort\n",
    "\n",
    "- Quicksort was developed by Tony Hoare in 1959 - the same person who invented quickselect algorithm\n",
    "- It is a divide and conquer algorithm - divides the problem into smaller and smaller subproblems\n",
    "- It is an efficient sorting algoritm that has O(NlogN) average case running time complexity\n",
    "- A well implemented quicksort can outperform heapsort and merge sort algorithms\n",
    "- Quicksort is a comparison based sorting algorithms\n",
    "- It is an in-place algorithm but not stable\n",
    "- The efficient implementation of quicksort is NOT stable - Does not keep the relative order of items with  \n",
    "  equal value\n",
    "- It is in-place so doesn't need any additional memory\n",
    "- On average it has O(NLogN) running time\n",
    "- But the worst case running time if O(N2) quadratic\n",
    "- Quicksort is widely used in programming languages / JAVA - \n",
    "- For primitive types (int,floats) quicksort is used\n",
    "- For reference types (Objects) merge sort is used\n",
    "- Python relies heavily on timsort = Insertion sort + Merge sort"
   ]
  },
  {
   "cell_type": "code",
   "execution_count": 10,
   "metadata": {},
   "outputs": [
    {
     "name": "stdout",
     "output_type": "stream",
     "text": [
      "[2, 4, 5, 6, 7, 100, 311]\n"
     ]
    }
   ],
   "source": [
    "class QuickSort:\n",
    "\n",
    "    def __init__(self, data):\n",
    "        self.data = data\n",
    "\n",
    "    def sort(self):\n",
    "        self.quick_sort(0, len(self.data)-1)\n",
    "    \n",
    "    def quick_sort(self, low, high):\n",
    "    \n",
    "        if low >= high:\n",
    "            return\n",
    "        \n",
    "        pivot_index = self.partition(low, high)\n",
    "\n",
    "        # Call the function recursivelu on the left array\n",
    "        self.quick_sort(low, pivot_index -1)\n",
    "        # Call the function recursively on the right array\n",
    "        self.quick_sort(pivot_index+1, high)\n",
    "\n",
    "\n",
    "    def partition(self, low, high):\n",
    "        pivot_index = (low + high) // 2\n",
    "        self.data[pivot_index], self.data[high] = self.data[high], self.data[pivot_index]\n",
    "\n",
    "        # Consider all the other items and compare them with the pivot\n",
    "\n",
    "        for j in range(low, high):\n",
    "            if self.data[j] <= self.data[high]:\n",
    "                self.data[low], self.data[j] = self.data[j], self.data[low]\n",
    "                low = low + 1\n",
    "        self.data[low], self.data[high] = self.data[high], self.data[low]\n",
    "        return low\n",
    "\n",
    "\n",
    "if __name__ == '__main__':\n",
    "    x = [100,2,311,4,5,6,7]\n",
    "\n",
    "    algorithm = QuickSort(x)\n",
    "    algorithm.sort()\n",
    "    print(x)\n",
    "\n"
   ]
  },
  {
   "cell_type": "markdown",
   "metadata": {},
   "source": []
  },
  {
   "attachments": {},
   "cell_type": "markdown",
   "metadata": {},
   "source": [
    "# Merge Sort Algorithm\n",
    "\n",
    "- Merge sort is a divide and conquer algorithm that was invented by John von Nuemann in 1945\n",
    "- It is a comparison based algorithm - which means that the algorithm relies heavily on comparing the items\n",
    "- Merge sort has an O(NlogN) linerithmic running time complexity \n",
    "- It is a stable sorting algorithm - maintains the relative orders of items with equal values\n",
    "- Not an in-place approach - it requires O(N) additional memory\n",
    "\n",
    "\n",
    "\n",
    "\n"
   ]
  }
 ],
 "metadata": {
  "kernelspec": {
   "display_name": "Python 3",
   "language": "python",
   "name": "python3"
  },
  "language_info": {
   "codemirror_mode": {
    "name": "ipython",
    "version": 3
   },
   "file_extension": ".py",
   "mimetype": "text/x-python",
   "name": "python",
   "nbconvert_exporter": "python",
   "pygments_lexer": "ipython3",
   "version": "3.9.6"
  },
  "orig_nbformat": 4
 },
 "nbformat": 4,
 "nbformat_minor": 2
}
