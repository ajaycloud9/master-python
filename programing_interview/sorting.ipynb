{
 "cells": [
  {
   "attachments": {},
   "cell_type": "markdown",
   "metadata": {},
   "source": [
    "# Sorting Array with a flavor of decorater functions:\n",
    "\n",
    "### Goals\n",
    "- With given list find all the unique elements\n",
    "- Don't use any comparison sort method\n",
    "- Learn how to use decorater function\n",
    "  - Create a decorater function for decorating_plus_two,decorting_with_sort\n",
    "\n",
    "### Output:\n",
    "- Return the sorted array"
   ]
  },
  {
   "cell_type": "code",
   "execution_count": 1,
   "metadata": {},
   "outputs": [
    {
     "name": "stdout",
     "output_type": "stream",
     "text": [
      "Doing what I wanted to achieve using additional method to decorate\n",
      "([1, 2, 3, 8, 8, 8, 8, 8], [1, 2, 3, 8])\n"
     ]
    }
   ],
   "source": [
    "# Counting Sort\n",
    "\n",
    "def decorater_function(original_fuction):\n",
    "    def wrapper_function(*args):\n",
    "        print (\"Wrapping some more stuff to be executed with original function\")\n",
    "        return original_fuction(*args)\n",
    "    return wrapper_function\n",
    "\n",
    "\n",
    "def decorating_plus_two(original_func):\n",
    "     def wrapper_function(arr):\n",
    "        print(\"Doing what I wanted to achieve using additional method to decorate\")\n",
    "        # max_num = original_func(arr) # Executeed get max number function\n",
    "        max_num = original_func(arr)\n",
    "        return (max_num+2)\n",
    "     return wrapper_function\n",
    "\n",
    "def decorting_with_sort(original_func):\n",
    "     \"\"\"\n",
    "     We are planning to sort the array not using the comparision/Quickshorting\n",
    "     Instead taking an alternative approach called...\n",
    "     \"\"\"\n",
    "     def wrapper_function(arr):\n",
    "        \"\"\"\n",
    "        - Intialize array of 0es\n",
    "        - [1,4,4,3] --> Loop through and, array_of_zeros[i]+=1\n",
    "        \"\"\"\n",
    "        print(\"Doing what I wanted to achieve using additional method to decorate\")\n",
    "        # max_num = original_func(arr) # Executeed get max number function\n",
    "        max_num = original_func(arr)\n",
    "        len_of_zeros = max_num + 1  # Adding 1 to the max_number,Given max value is 5, but it's index will be 6 in list\n",
    "        array_of_zeros = len_of_zeros * [0] # Instantiating list with highest value of element\n",
    "        for _,value in enumerate(arr):\n",
    "            array_of_zeros[value]+=1\n",
    "        sorted_array=[]\n",
    "        unique_array= []\n",
    "        for index,value in enumerate(array_of_zeros):\n",
    "            \"\"\"\n",
    "            Now at this zeros arrays are ready\n",
    "            [0,2,2] --> [1,1,2,2]\n",
    "            basically index --> value\n",
    "            value --> number of iteration of the element\n",
    "            \"\"\"\n",
    "            if value !=0:\n",
    "                unique_array.append(index)\n",
    "                for _ in range(value):\n",
    "                    sorted_array.append(index)\n",
    "        return sorted_array,unique_array\n",
    "\n",
    "\n",
    "     return wrapper_function\n",
    "\n",
    "\n",
    "@decorting_with_sort\n",
    "def get_max_number(arr):\n",
    "    \"\"\"\n",
    "    Logic coming from different library\n",
    "    array: 1,5,2,8 --> 8\n",
    "    max_num = 1 i = 1\n",
    "    if max_num < i :\n",
    "        max_num = i\n",
    "    \"\"\"\n",
    "    max_num = 0\n",
    "    for i in arr:\n",
    "        if max_num < i:\n",
    "            max_num = i\n",
    "    return max_num\n",
    "\n",
    "# my_function = decorating_counting_sort(get_max_number[1,2,3])\n",
    "# print(my_function())\n",
    "# print(decorating_plus_two([1,8,2,3]))\n",
    "# print(get_max_number([1,8,2,3]))\n",
    "\n",
    "\n",
    "\n",
    "print (get_max_number([1,8,8,8,8,8,2,3]))"
   ]
  }
 ],
 "metadata": {
  "kernelspec": {
   "display_name": "Python 3",
   "language": "python",
   "name": "python3"
  },
  "language_info": {
   "codemirror_mode": {
    "name": "ipython",
    "version": 3
   },
   "file_extension": ".py",
   "mimetype": "text/x-python",
   "name": "python",
   "nbconvert_exporter": "python",
   "pygments_lexer": "ipython3",
   "version": "3.9.6"
  },
  "orig_nbformat": 4
 },
 "nbformat": 4,
 "nbformat_minor": 2
}
