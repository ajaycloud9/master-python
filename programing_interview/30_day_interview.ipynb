{
 "cells": [
  {
   "cell_type": "code",
   "execution_count": 18,
   "metadata": {},
   "outputs": [
    {
     "name": "stdout",
     "output_type": "stream",
     "text": [
      "[0, 0, 0, 1, 1, 1, 2, 2]\n"
     ]
    }
   ],
   "source": [
    "# We have an array of size N where each element is 0, 1 or 2. Sort the array in ascending order.\n",
    "arr = [ 1, 2, 0, 1, 1, 0, 2, 0 ]\n",
    "\n",
    "# for i in range(len(input)):\n",
    "#     for j in range(len(input)):\n",
    "#         print(input)\n",
    "#         if input[i] < input[j]:\n",
    "#             print(\"entering if\",input[i],input[j])\n",
    "#             input[i],input[j] = input[j], input[i]\n",
    "#             print(input)\n",
    "\n",
    "# Approach - 2\n",
    "\n",
    "left = 0\n",
    "right = len(input)-1\n",
    "\n",
    "# for i in range(len(input)):\n",
    "#     if input[i] == 0:\n",
    "#         input[i], input[left] = input[left], input[i]\n",
    "#         left+=1\n",
    "#     elif input[i] ==2:     \n",
    "#         input[i], input[right] = input[right], input[i]\n",
    "#         right-=1\n",
    "# print(input)\n",
    "\n",
    "left, right = 0, len(arr) - 1\n",
    "i = 0\n",
    "\n",
    "while i <= right:\n",
    "    if arr[i] == 0:\n",
    "        # We are incrementing the left and i'th element index\n",
    "        # Overall whether it is 0 or 1 keep going towards right.\n",
    "        arr[i], arr[left] = arr[left], arr[i]\n",
    "        left += 1\n",
    "        i += 1\n",
    "    elif arr[i] == 2:\n",
    "        arr[i], arr[right] = arr[right], arr[i]\n",
    "        right -= 1\n",
    "    else:\n",
    "        # We have found 1 which we don't care so\n",
    "        # move to the next index\n",
    "        i += 1\n",
    "print(arr)\n",
    "\n",
    "# Check the difference between while and for loop\n",
    "# We found today that the for loop is not check the index and skipping the element if it is replaced by \n",
    "# an element 0 or 2 since, it was "
   ]
  },
  {
   "cell_type": "code",
   "execution_count": 27,
   "metadata": {},
   "outputs": [
    {
     "name": "stdout",
     "output_type": "stream",
     "text": [
      "{1: 1, 2: 1, 3: 1, 4: 1, 5: 1, 6: 1, 7: 2, 8: 0}\n",
      "repeated:- 7 missing:- 8\n"
     ]
    }
   ],
   "source": [
    "# Find the missing and repeated element in array\n",
    "\n",
    "input = [2, 1, 3, 4, 5,6,7,7]\n",
    "# input.sort()\n",
    "# print(input)\n",
    "repeated = 0\n",
    "missing = 0\n",
    "# for i in range(len(input)):\n",
    "#     if i+1 != input[i]:\n",
    "#         repeated = input[i]\n",
    "#         missing = i+1\n",
    "\n",
    "\n",
    "#Run Time - NlogN\n",
    "# Space = O(1)\n",
    "\n",
    "#Approach : 2\n",
    "\n",
    "frequency_count = {}\n",
    "\n",
    "for i in range(len(input)):\n",
    "    frequency_count[i+1] = 0\n",
    "\n",
    "for num in input:\n",
    "    frequency_count[num] +=1\n",
    "\n",
    "for key,value in frequency_count.items():\n",
    "    if value == 2:\n",
    "        repeated = key\n",
    "    if value == 0:\n",
    "        missing = key\n",
    "\n",
    "print(frequency_count)\n",
    "print(\"repeated:-\",repeated,\"missing:-\",missing)\n",
    "\n",
    "\n"
   ]
  },
  {
   "cell_type": "code",
   "execution_count": 51,
   "metadata": {},
   "outputs": [
    {
     "name": "stdout",
     "output_type": "stream",
     "text": [
      "1\n",
      "2\n",
      "3\n",
      "4\n",
      "5\n",
      "6\n",
      "[1, 5, 10, 20, 40, 80, 0]\n",
      "5\n",
      "4\n",
      "3\n",
      "2\n",
      "1\n",
      "0\n",
      "[0, 0, 0, 0, 0, 0, 1]\n",
      "[0, 0, 0, 0, 0, 0, 0]\n"
     ]
    }
   ],
   "source": [
    "input = [5, 2, 2,2,2,0,0]\n",
    "\n",
    "\n",
    "# Approach - 1 O(N2)\n",
    "# my_product_list = []\n",
    "\n",
    "# for i in range(len(input)):\n",
    "#     product_pointer = 1\n",
    "#     for j in range(len(input)):\n",
    "#         if i == j:\n",
    "#             continue\n",
    "#         product_pointer = product_pointer * input[j]\n",
    "#     my_product_list.append(product_pointer)\n",
    "\n",
    "\n",
    "list_len = len(input)\n",
    "left_product = [0] * list_len\n",
    "right_product = [0] * list_len\n",
    "\n",
    "\n",
    "left_product[0] = 1\n",
    "\n",
    "for i in range(1,list_len):\n",
    "    print(i)\n",
    "\n",
    "    left_product[i] = left_product[i-1] * input[i-1]\n",
    "\n",
    "print(left_product)\n",
    "\n",
    "right_product[list_len-1] = 1\n",
    "\n",
    "for i in range(list_len-2,-1,-1):\n",
    "    print(i)\n",
    "\n",
    "    right_product[i] = right_product[i+1] * input[i+1]\n",
    "print(right_product)\n",
    "\n",
    "for i in range(list_len):\n",
    "    input[i] = left_product[i] * right_product[i]\n",
    "\n",
    "print(input)\n",
    "\n"
   ]
  },
  {
   "cell_type": "code",
   "execution_count": 66,
   "metadata": {},
   "outputs": [
    {
     "name": "stdout",
     "output_type": "stream",
     "text": [
      "[[0, 1, 2, 0], [3, 4, 5, 2], [1, 3, 1, 5]]\n",
      "[0, 1, 1, 0]\n",
      "[[0, 0, 0, 0], [0, 4, 5, 0], [0, 3, 1, 0]]\n"
     ]
    }
   ],
   "source": [
    "# 73. Set Matrix Zeroes\n",
    "\n",
    "\n",
    "matrix =  [[0,1,2,0],[3,4,5,2],[1,3,1,5]]\n",
    "copy_matrix = matrix[:]\n",
    "print(copy_matrix)\n",
    "\n",
    "# If found a 0 in the row will make who row 0\n",
    "\n",
    "# matrix_length = len(matrix[0])\n",
    "\n",
    "\n",
    "for row in range(len(matrix)):\n",
    "    for column in range(len(matrix[row])):\n",
    "        if matrix[row][column] == 0:\n",
    "            # Any element found in row is 0\n",
    "            matrix[row] = [0] * len(matrix[row])\n",
    "            break\n",
    "\n",
    "coulumn_zero = [1] * len(matrix[0])\n",
    "\n",
    "for row in range(len(matrix)):\n",
    "    for column in range(len(matrix[row])):\n",
    "        if copy_matrix[row][column] == 0:\n",
    "            coulumn_zero[column] = 0\n",
    "print(coulumn_zero)\n",
    "\n",
    "for row in range(len(matrix)):\n",
    "    for column in range(len(matrix[row])):\n",
    "        if coulumn_zero[column] == 0:\n",
    "            matrix[row][column] = 0\n",
    "\n",
    "print(matrix)"
   ]
  },
  {
   "cell_type": "code",
   "execution_count": 75,
   "metadata": {},
   "outputs": [
    {
     "name": "stdout",
     "output_type": "stream",
     "text": [
      "[2, 3, 10, 11, 12, 13, 22]\n",
      "a [2, 3, 10, 11]\n",
      "b [12, 13, 22]\n"
     ]
    }
   ],
   "source": [
    "a = [2,10,11,22]\n",
    "b = [3,12,13]\n",
    "\n",
    "big_array = len(a) + len(b)\n",
    "c = [0] * big_array\n",
    "\n",
    "x=0\n",
    "y=0\n",
    "i=0\n",
    "\n",
    "while x < len(a) and y < len(b):\n",
    "    if a[x] < b[y]:\n",
    "        c[i] = a[x]\n",
    "        i+=1\n",
    "        x+=1 \n",
    "    else:\n",
    "        c[i] = b[y]\n",
    "        i+=1\n",
    "        y+=1\n",
    "\n",
    "while x < len(a):\n",
    "    c[i] = a[x]\n",
    "    i+=1\n",
    "    x+=1 \n",
    "\n",
    "while y < len(b):\n",
    "    c[i] = b[y]\n",
    "    i+=1\n",
    "    y+=1 \n",
    "\n",
    "print(c) \n",
    "\n",
    "\n",
    "\n",
    "for i in range(len(c)):\n",
    "    if i < len(a):\n",
    "        a[i] = c[i]\n",
    "    else:\n",
    "        b[i-len(a)] = c[i]\n",
    "\n",
    "print(\"a\",a)\n",
    "print(\"b\",b)"
   ]
  },
  {
   "cell_type": "code",
   "execution_count": 25,
   "metadata": {},
   "outputs": [
    {
     "name": "stdout",
     "output_type": "stream",
     "text": [
      "[1, 1, 2, 2, 2, 2, 2, 3, 5, 5]\n",
      "1 2\n",
      "1 1 test\n",
      "2 2\n",
      "2 3\n",
      "2 4\n",
      "2 5\n",
      "2 1 test\n",
      "3 1 test\n",
      "5 2\n",
      "5\n"
     ]
    }
   ],
   "source": [
    "# Majority Element of the array | Sorting\n",
    "\n",
    "myinput = [1,1,1,2]\n",
    "\n",
    "# In approach 1 I have, taken the count of each element in dictionary and have\n",
    "# Returned each element count and, it's value \n",
    "# frequency_count = {}\n",
    "\n",
    "# for i in myinput:\n",
    "#     if i not in frequency_count:\n",
    "#         frequency_count[i] = 1\n",
    "#     else:\n",
    "#         frequency_count[i] += 1\n",
    "# print(frequency_count)\n",
    "\n",
    "# majority_element,high_count = 0,0\n",
    "# for key,value in frequency_count.items():\n",
    "#     if value > high_count:\n",
    "#         majority_element = key\n",
    "#         high_count = value\n",
    "# print(majority_element)\n",
    "\n",
    "# Approach - 2 \n",
    "\n",
    "# Will sort it and, then run a frequency window index \n",
    "\n",
    "array = [3, 2, 1, 2, 1, 2, 5,5, 2, 2]\n",
    "# array = [3, 4,2,1,0,9,9]\n",
    "\n",
    "array.sort()\n",
    "print(array)\n",
    "\n",
    "test = 0\n",
    "window = 1\n",
    "for i in range(len(array)-1):\n",
    "    if array[i] != array[i+1]:\n",
    "        # Means window is changing\n",
    "        window = 1\n",
    "        print(array[i],window,\"test\")\n",
    "        continue\n",
    "    window+=1\n",
    "    test = max(test,window)\n",
    "    print(array[i],window)\n",
    "\n",
    "print(test)\n",
    "\n",
    "\n"
   ]
  },
  {
   "cell_type": "code",
   "execution_count": 27,
   "metadata": {},
   "outputs": [
    {
     "name": "stdout",
     "output_type": "stream",
     "text": [
      "4\n"
     ]
    }
   ],
   "source": [
    "# Chocolate Distribution Problem | Coding Interview | Sorting\n",
    "N = 5\n",
    "M = 3\n",
    "A = [8, 4, 13, 8, 12]\n",
    "\n",
    "A.sort()\n",
    "get_diff_range = N - M\n",
    "\n",
    "min_diff = 10 ** 7\n",
    "\n",
    "for i in range(N-M):\n",
    "    diff = A[i+M-1] - A[i]\n",
    "    if diff < min_diff:\n",
    "        min_diff = diff\n",
    "print(min_diff)\n",
    "\n"
   ]
  },
  {
   "cell_type": "code",
   "execution_count": 14,
   "metadata": {},
   "outputs": [
    {
     "name": "stdout",
     "output_type": "stream",
     "text": [
      "[1, 2, 3, 4, 5]\n",
      "1 6\n",
      "[1, 2, 3, 4, 5]\n",
      "9 11\n",
      "8 Ajay\n"
     ]
    }
   ],
   "source": [
    "\n",
    "\n",
    "# for i in range(len(array)):\n",
    "#     for j in range(i+1,len(array)):\n",
    "#         for k in range(j+1, len(array)):\n",
    "#             triplet_sum = array[i]+ array[j]+ array[k]\n",
    "#             if a <= triplet_sum  <= b:\n",
    "#                 print(array[i],array[j],array[k])\n",
    "\n",
    "\n",
    "# Solution 2 # Sort the array\n",
    "\n",
    "# array.sort()\n",
    "# triplet_count = 0\n",
    "# for i in range(len(array)-2):\n",
    "#     triplet_sum = array[i]+array[i+1]+array[i+2]\n",
    "#     print(array[i],array[i+1],array[i+2])\n",
    "#     print(triplet_sum)\n",
    "#     if a <= triplet_sum  <= b:\n",
    "#         triplet_count +=1\n",
    "# print(triplet_count)\n",
    "\n",
    "\n",
    "\n",
    "\n",
    "def triplet_sum(b):\n",
    "    end = len(array)-1\n",
    "    print(array)\n",
    "    triplet_count = 0\n",
    "    for i in range(len(array)):\n",
    "        start = i+1\n",
    "\n",
    "        while start < end:\n",
    "            # print(array[i] , array[start] , array[end])\n",
    "            triplet_sum = array[i] + array[start] + array[end]\n",
    "            # print(triplet_sum)\n",
    "            if triplet_sum <= b:\n",
    "                triplet_count += (end - start)\n",
    "                start +=1\n",
    "            else:\n",
    "                # print(array[i] , array[start] , array[end],\"Triplet under range\")\n",
    "                end-=1\n",
    "    print(triplet_count,b)\n",
    "    return triplet_count\n",
    "\n",
    "array = [1,2,3,4,5]\n",
    "array.sort()\n",
    "a,b = 6,11\n",
    "\n",
    "count_a = triplet_sum(a)\n",
    "count_b = triplet_sum(b)\n",
    "\n",
    "print(count_b - count_a,\"Ajay\")\n",
    "\n",
    "\n",
    "\n",
    "\n",
    "\n",
    "\n",
    "\n",
    "\n"
   ]
  },
  {
   "cell_type": "code",
   "execution_count": 23,
   "metadata": {},
   "outputs": [
    {
     "name": "stdout",
     "output_type": "stream",
     "text": [
      "[9.0, 9.3, 9.4, 10.0, 14.1, 15.3]\n",
      "[9.5, 10, 10.1, 14.0, 14.2, 17.3]\n",
      "3\n"
     ]
    }
   ],
   "source": [
    "# Numberr of Platforms needed\n",
    "arrival =    [9.00, 10.00, 9.40,  14.10, 15.30,9.3]\n",
    "departure = [9.50, 14.00, 10.10, 14.20, 17.30,10]\n",
    "\n",
    "# new_list = [[arrival[i],departure[i]] for i in range(len(arrival))]\n",
    "# print(new_list)\n",
    "\n",
    "\n",
    "# new_list.sort()\n",
    "# print(new_list)\n",
    "\n",
    "# platforms = 1\n",
    "# for i in range(len(new_list)-1):\n",
    "    \n",
    "#     if new_list[i+1][0] > new_list[i][1]:\n",
    "#         platforms+=1\n",
    "# print(platforms) \n",
    "\n",
    "\n",
    "arrival.sort()\n",
    "print(arrival)\n",
    "departure.sort()\n",
    "print(departure)\n",
    "\n",
    "train_arrival = 0\n",
    "train_departure = 0\n",
    "platforms = 0\n",
    "max_platforms = 0\n",
    "\n",
    "while train_arrival < len(arrival) and train_departure < len(departure):\n",
    "    if arrival[train_arrival] < departure[train_departure]:\n",
    "        train_arrival+=1\n",
    "        platforms += 1\n",
    "    else:\n",
    "        train_departure+=1\n",
    "        platforms -= 1\n",
    "    if platforms > max_platforms:\n",
    "        max_platforms = platforms\n",
    "\n",
    "print(max_platforms)\n"
   ]
  },
  {
   "cell_type": "code",
   "execution_count": 26,
   "metadata": {},
   "outputs": [
    {
     "name": "stdout",
     "output_type": "stream",
     "text": [
      "-1\n"
     ]
    }
   ],
   "source": [
    "# Maximum Difference Between Two Indices \n",
    "\n",
    "input = [4,2,8,9,11,4,3,1]\n",
    "input = [4,3,2,1]\n",
    "\n",
    "max_index_diff = -1\n",
    "for i in range(len(input)):\n",
    "    for j in range(1+i,len(input)):\n",
    "        if input[i] > input[j]:\n",
    "            continue\n",
    "        # Whatever is coming here is statisfying input[i] < input[j]\n",
    "        # i < j because of 2 loops\n",
    "        diff = j - i\n",
    "        # print(in)\n",
    "\n",
    "        if diff > max_index_diff:\n",
    "            max_index_diff = diff\n",
    "\n",
    "print(max_index_diff)\n",
    "\n",
    "# retry tommorow\n",
    "\n",
    "\n"
   ]
  },
  {
   "cell_type": "code",
   "execution_count": null,
   "metadata": {},
   "outputs": [],
   "source": [
    "# How to find max diff in 2 elements of array\n",
    "\n"
   ]
  },
  {
   "cell_type": "code",
   "execution_count": 28,
   "metadata": {},
   "outputs": [
    {
     "name": "stdout",
     "output_type": "stream",
     "text": [
      "1 1\n",
      "Not Found the vale\n"
     ]
    }
   ],
   "source": [
    "# Solve the code to find an sorted array and return the index using binary search\n",
    "\n",
    "# binarySearch(22) # return 1 since it is the index of the array\n",
    "\n",
    "def binarySearch(array,val):\n",
    "\n",
    "    start,end = 0, len(array)\n",
    "    def binaryHelper(start,end):\n",
    "        print(array[start],array[end-1])\n",
    "        if array[start] == val:\n",
    "            print(\"value found\")\n",
    "            return\n",
    "        if (end-start) == 1:\n",
    "            print(\"Not Found the vale\")\n",
    "            return\n",
    "        \n",
    "        median_index = (start+end)//2\n",
    "        print(median_index,\"median\")\n",
    "        if array[median_index] > val:\n",
    "            #Left array\n",
    "            print(\"left_array\")\n",
    "            binaryHelper(start,median_index)\n",
    "        else:\n",
    "            #Right array\n",
    "            print(\"right_array\")\n",
    "            binaryHelper(median_index,end)\n",
    "    binaryHelper(start,end)\n",
    "\n",
    "\n",
    "array = [1]\n",
    "binarySearch(array,77)\n",
    "\n",
    "    \n",
    "    "
   ]
  },
  {
   "cell_type": "code",
   "execution_count": 18,
   "metadata": {},
   "outputs": [
    {
     "name": "stdout",
     "output_type": "stream",
     "text": [
      "['a']\n",
      "['a', 'b']\n",
      "['a'] popping\n",
      "[] popping\n",
      "['c']\n",
      "['c', 'd']\n",
      "['c', 'd']\n"
     ]
    }
   ],
   "source": [
    "# Backspace string comparision\n",
    "\n",
    "def string_modiyfier(s):\n",
    "    my_list_s = list(s)\n",
    "    for i in range(len(s)):\n",
    "\n",
    "        if my_list_s[i] == \"#\":\n",
    "            my_list_s[i] = \"\"\n",
    "            if i > 0: \n",
    "                my_list_s[i-1] = \"\"\n",
    "    s = \"\".join(my_list_s)\n",
    "    return s\n",
    "\n",
    "s = \"ab##cd\"\n",
    "# s = string_modiyfier(s)\n",
    "# t = \"cd\"\n",
    "# t = string_modiyfier(t)\n",
    "# print(s,t)\n",
    "\n",
    "\n",
    "\n",
    "s_stack = []\n",
    "\n",
    "for i in s:\n",
    "    if len(s_stack)!=0:\n",
    "        if i=='#':\n",
    "            s_stack.pop()\n",
    "            print(s_stack,\"popping\")\n",
    "            continue\n",
    "    elif i=='#':\n",
    "        continue\n",
    "    s_stack.append(i)\n",
    "    print(s_stack)\n",
    "\n",
    "print(s_stack)"
   ]
  },
  {
   "cell_type": "code",
   "execution_count": 34,
   "metadata": {},
   "outputs": [
    {
     "name": "stdout",
     "output_type": "stream",
     "text": [
      "K is found\n"
     ]
    }
   ],
   "source": [
    "# Binary Search in Forest for Wood Collection\n",
    "\n",
    "\n",
    "# def find_k(array,k):\n",
    "#     total_height = 0\n",
    "#     for i in range(len(forest_tree_height)):\n",
    "#         for j in range(len(forest_tree_height)):\n",
    "\n",
    "#             if forest_tree_height[i] > forest_tree_height[j]:\n",
    "#                 # Since we know that \n",
    "#                 continue \n",
    "#             total_height += (forest_tree_height[j] - forest_tree_height[i])\n",
    "#         if total_height == K:\n",
    "#             print(\"K is found\")\n",
    "#             return\n",
    "\n",
    "#         total_height = 0\n",
    "#     return -1\n",
    "\n",
    "\n",
    "# forest_tree_height = [6, 4, 9, 2, 1, 8]\n",
    "# find_k(forest_tree_height,K)\n",
    "forest_tree_height = [3, 6, 1, 8, 4] \n",
    "K = 9\n",
    "\n",
    "\n"
   ]
  },
  {
   "cell_type": "code",
   "execution_count": 24,
   "metadata": {},
   "outputs": [
    {
     "name": "stdout",
     "output_type": "stream",
     "text": [
      "[1, 1, 2, 2, 2, 2, 2, 3, 5, 5]\n",
      "1 2\n",
      "1 1 test\n",
      "2 2\n",
      "2 3\n",
      "2 4\n",
      "2 5\n",
      "2 1 test\n",
      "3 1 test\n",
      "5 2\n",
      "5\n"
     ]
    }
   ],
   "source": [
    "\n",
    "\n",
    "\n",
    "# myinput.sort()\n",
    "\n",
    "# print(myinput)\n",
    "\n",
    "# max_window = 0\n",
    "# window_start = 1\n",
    "# majority_element = 0\n",
    "\n",
    "# for i in range(len(myinput)-1):\n",
    "#     # Check if current element is matching with next element\n",
    "#     if myinput[i] != myinput[i+1]:\n",
    "#         # Resetting window\n",
    "#         window_start=1\n",
    "#     window_start+=1\n",
    "    \n",
    "#     if window_start > max_window:\n",
    "#         max_window = window_start\n",
    "#         majority_element = myinput[i]\n",
    "\n",
    "# print(majority_element,max_window)"
   ]
  },
  {
   "attachments": {},
   "cell_type": "markdown",
   "metadata": {},
   "source": [
    "\n"
   ]
  },
  {
   "cell_type": "code",
   "execution_count": 50,
   "metadata": {},
   "outputs": [
    {
     "name": "stdout",
     "output_type": "stream",
     "text": [
      "5 test\n",
      "55 5\n",
      "555 55\n",
      "{'data': 5, 'next': <__main__.Node object at 0x1123e1820>}\n",
      "{'data': 55, 'next': <__main__.Node object at 0x1123ea1c0>}\n",
      "{'data': 555, 'next': None}\n"
     ]
    }
   ],
   "source": [
    "# Reverse the linklist using recursion\n",
    "\n",
    "class Node():\n",
    "    def __init__(self,data):\n",
    "        self.data = data\n",
    "        self.next = None\n",
    "\n",
    "class LinkList():\n",
    "    def __init__(self) -> None:\n",
    "        self.root = None\n",
    "    \n",
    "    def insert_data(self,data):\n",
    "\n",
    "        new_data = Node(data)\n",
    "\n",
    "        if self.root is None:\n",
    "            self.root = new_data\n",
    "        else:\n",
    "            new_data.next = self.root\n",
    "            self.root = new_data\n",
    "    \n",
    "    # def reverse_linklist(self):\n",
    "    #     current_node = self.root\n",
    "    #     previous_node = None\n",
    "    #     next_node = None\n",
    "\n",
    "    #     while current_node is not None:\n",
    "    #         next_node = current_node.next\n",
    "    #         current_node.next = previous_node\n",
    "    #         previous_node = current_node\n",
    "    #         current_node = next_node\n",
    "\n",
    "    #     self.root = previous_node \n",
    "\n",
    "    def recursion_reverse(self):\n",
    "        node = self.root\n",
    "        if node is None:\n",
    "            return node\n",
    "        else:\n",
    "            self.reverse_recursion(node)\n",
    "        \n",
    "\n",
    "\n",
    "    def reverse_recursion(self,node):\n",
    "\n",
    "        if node is None or node.next is None:\n",
    "            print(node.data,\"test\")\n",
    "            return node\n",
    "        next_node = node.next\n",
    "        new_head_node = self.reverse_recursion(next_node)\n",
    "        # print(new_head_node.__dict__)\n",
    "        # new_head_node.next = node\n",
    "        print(node.data,node.next.data)\n",
    "        node.next.next = node\n",
    "        node.next = None\n",
    "        self.root = new_head_node\n",
    "        return self.root\n",
    "\n",
    "\n",
    "\n",
    "    # def recursive_reverse_linklist(self, head: ListNode) -> ListNode:\n",
    "    #     if head is None:\n",
    "    #         return head\n",
    "    #     if head.next is None:\n",
    "    #         return head\n",
    "    #     new_head_node = self.recursive_reverse_linklist(head.next)\n",
    "    #     head.next.next = head\n",
    "    #     head.next = None\n",
    "    #     return new_head_node\n",
    "\n",
    "\n",
    "\n",
    "\n",
    "\n",
    "\n",
    "\n",
    "\n",
    "my_obj = LinkList()\n",
    "my_obj.insert_data(5)\n",
    "my_obj.insert_data(55)\n",
    "my_obj.insert_data(555)\n",
    "# print(my_obj.root.__dict__)\n",
    "# print(my_obj.root.next.__dict__)\n",
    "my_obj.recursion_reverse()\n",
    "print(my_obj.root.__dict__)\n",
    "print(my_obj.root.next.__dict__)\n",
    "print(my_obj.root.next.next.__dict__)"
   ]
  },
  {
   "cell_type": "code",
   "execution_count": 60,
   "metadata": {},
   "outputs": [
    {
     "name": "stdout",
     "output_type": "stream",
     "text": [
      "{6: 0, 3: 0, 4: 0, 5: 0, 0: 0}\n",
      "Key found\n",
      "Key found\n",
      "Key found\n",
      "[1, 2]\n"
     ]
    }
   ],
   "source": [
    "A = [1, 6, 4, 0, 2]\n",
    "B = [6, 3, 4, 5, 0]\n",
    "# A.sort()\n",
    "# B.sort()\n",
    "\n",
    "# print(A,B)\n",
    "# missing_element = []\n",
    "# for val in A:\n",
    "#     if val not in B:\n",
    "#         missing_element.append(val)\n",
    "# print(missing_element)\n",
    "\n",
    "my_dict = {}\n",
    "missing_element = []\n",
    "for i in B:\n",
    "    my_dict[i] =0\n",
    "\n",
    "print(my_dict)\n",
    "\n",
    "for i in A:\n",
    "\n",
    "    try:\n",
    "        if my_dict[i] == 0:\n",
    "            print(\"Key found\")\n",
    "    except KeyError:\n",
    "        missing_element.append(i)\n",
    "print(missing_element)\n",
    "\n",
    "\n"
   ]
  },
  {
   "cell_type": "code",
   "execution_count": 12,
   "metadata": {},
   "outputs": [
    {
     "name": "stdout",
     "output_type": "stream",
     "text": [
      "16 17\n",
      "16 14\n",
      "16 9\n"
     ]
    }
   ],
   "source": [
    "k = 3\n",
    "array = [4,3,9,5,1,2]\n",
    "\n",
    "# k = 2\n",
    "# array = [1,2,3]\n",
    "\n",
    "# start = 0\n",
    "# end = k-1\n",
    "# sum_of_k_subarray = []\n",
    "# max_sum = 0\n",
    "# for i in range(len(array)-end):\n",
    "#     max_sum = max(max_sum,sum(array[i:i+k]))\n",
    "# print(max_sum)\n",
    "\n",
    "k_sum = sum(array[0:k])\n",
    "start_index =0\n",
    "for i in range(k,len(array)):\n",
    "    my_sum = k_sum - array[start_index] + array[i]\n",
    "    start_index+=1\n",
    "    print(k_sum,my_sum)\n",
    "    \n"
   ]
  },
  {
   "cell_type": "code",
   "execution_count": 38,
   "metadata": {},
   "outputs": [
    {
     "name": "stdout",
     "output_type": "stream",
     "text": [
      "8 8\n",
      "2 10000000000000000000000000000000000000000000000000000000000000000000000000000000000000000000000000000 windoe\n",
      "10 8\n",
      "2 2 windoe\n",
      "8 8\n",
      "2 2 windoe\n",
      "8 8\n",
      "2 2 windoe\n",
      "10 8\n",
      "2 2 windoe\n",
      "8 8\n",
      "3 2 windoe\n",
      "2 window\n"
     ]
    }
   ],
   "source": [
    "# array = [4, 3, 9, 5, 1, 2]\n",
    "\n",
    "# This is a brute for solution to find the min of element which will sum upto \n",
    "# the target elements\n",
    "\n",
    "\n",
    "array = [4,4,6,2,6,4,3,1]\n",
    "target = 8\n",
    "\n",
    "min_window = 10**100\n",
    "# for i in range(len(array)):\n",
    "#     sum_of_subarray = array[i]\n",
    "#     for j in range(i+1,len(array)):\n",
    "#         sum_of_subarray +=array[j]\n",
    "\n",
    "#         if sum_of_subarray == K:\n",
    "#             print(j-i+1)\n",
    "#             print(array[i:j+1]) \n",
    "#             min_size = min(min_size,j-i+1)\n",
    "# print(min_size)\n",
    "\n",
    "total = 0\n",
    "start =0 \n",
    "end = 0\n",
    "\n",
    "for end in range(len(array)):\n",
    "    total  += array[end]\n",
    "\n",
    "    while total >= target:\n",
    "        print(total,target)\n",
    "        window = end - start + 1\n",
    "        print(window,min_window,\"windoe\")\n",
    "        min_window = min(window,min_window)\n",
    "\n",
    "        total -=array[start]\n",
    "        # print(total)\n",
    "        start+=1\n",
    "\n",
    "print(min_window,\"window\")\n",
    "\n",
    "\n",
    "\n",
    "\n"
   ]
  },
  {
   "cell_type": "code",
   "execution_count": 61,
   "metadata": {},
   "outputs": [
    {
     "name": "stdout",
     "output_type": "stream",
     "text": [
      "6\n"
     ]
    }
   ],
   "source": [
    "# Slinding window Longest Repeating Character Replacement\n",
    "\n",
    "mystring = \"AZZYZZYAB\" \n",
    "k = 2\n",
    "\n",
    "my_char_freq = {}\n",
    "\n",
    "s = 0\n",
    "e = 0\n",
    "result = 0\n",
    "max_freq = 0\n",
    "\n",
    "for i in mystring:\n",
    "\n",
    "    if i not in my_char_freq:\n",
    "        my_char_freq[i] =1\n",
    "    else:\n",
    "        my_char_freq[i] += 1\n",
    "\n",
    "    for value in my_char_freq.values():\n",
    "        max_freq = max(max_freq,value)\n",
    "    \n",
    "    max_length = e - s + 1\n",
    "\n",
    "    # Condition to find out how many character I can replace\n",
    "    # Max length of substring - max_occurance of the number | What's left <= No_of replacements avaialble declare it good substring\n",
    "\n",
    "    if max_length - max_freq <= k:\n",
    "        result = max(max_length,result)\n",
    "        # Extend the length of the end window\n",
    "        e +=1\n",
    "    else:\n",
    "        # Removing the occurance of start element \n",
    "        my_char_freq[mystring[s]] -=1\n",
    "        s+=1\n",
    "\n",
    "print(result)\n"
   ]
  },
  {
   "cell_type": "code",
   "execution_count": 76,
   "metadata": {},
   "outputs": [
    {
     "name": "stdout",
     "output_type": "stream",
     "text": [
      "{'a': 1}\n",
      "1 sum\n",
      "{'a': 1, 'b': 1}\n",
      "1 sum\n",
      "2 sum\n",
      "{'b': 1, 'c': 1}\n",
      "1 sum\n",
      "2 sum\n",
      "{'b': 1, 'c': 2}\n",
      "1 sum\n",
      "3 sum\n",
      "{'c': 2, 'a': 1}\n",
      "2 sum\n",
      "3 sum\n",
      "{'c': 3, 'a': 1}\n",
      "3 sum\n",
      "4 sum\n",
      "{'c': 4, 'a': 1}\n",
      "4 sum\n",
      "5 sum\n",
      "5\n"
     ]
    }
   ],
   "source": [
    "# Max consecutive fruits in the basket\n",
    "\n",
    "fruits = ['a','b','c','c','a','c','c']\n",
    "\n",
    "fruit_basket = {}\n",
    "s = 0\n",
    "max_fruit = 0\n",
    "for fruit in fruits:\n",
    "\n",
    "    if fruit not in fruit_basket:\n",
    "        fruit_basket[fruit] = 1 \n",
    "    else:\n",
    "        fruit_basket[fruit] +=1\n",
    "    \n",
    "    # Always making sure that our basket size is under or equal to 2\n",
    "    if len(fruit_basket) > 2:\n",
    "        # remove the starting fruit\n",
    "        del fruit_basket[fruits[s]]\n",
    "        s+=1\n",
    "    print(fruit_basket)\n",
    "\n",
    "    # Count the number of fruits in the basket\n",
    "    sum = 0\n",
    "    for value in fruit_basket.values():\n",
    "        sum +=value\n",
    "        print(sum,\"sum\")\n",
    "    \n",
    "    max_fruit = max(max_fruit,sum)\n",
    "    \n",
    "\n",
    "print(max_fruit)\n",
    "\n"
   ]
  },
  {
   "cell_type": "code",
   "execution_count": 98,
   "metadata": {},
   "outputs": [
    {
     "name": "stdout",
     "output_type": "stream",
     "text": [
      "Element a has last been seen at 0\n",
      "a\n",
      "Element t has last been seen at 10\n",
      "t\n",
      "Element t has last been seen at 11\n",
      "t\n",
      "10\n"
     ]
    }
   ],
   "source": [
    "# No repeating substring\n",
    "\n",
    "\n",
    "    \n",
    "    # # unique_element_size = max(unique_element_size, i-start+1)\n",
    "    # print(unique_element_size,freq_count[S[i]])\n",
    "    \n",
    "    # if freq_count[S[i]] > 1:\n",
    "    #     # We are seeing this character for the 2nd time\n",
    "    #     # Calculating the diff\n",
    "    #     # unique_element_size = i - start\n",
    "    #     unique_element_size = max(unique_element_size, i-start)\n",
    "    #     #Updating the start index to the current index\n",
    "    #     start = i\n",
    "    #     # Reduce the count of the current element in the freq counter\n",
    "    #     # Reset the freq_count\n",
    "    #     freq_count[S[i]] = 1\n",
    "    # else:\n",
    "    #      # Keep increasing the size of unique array\n",
    "    #      unique_element_size = max(unique_element_size, i-start)\n",
    "\n",
    "# S = \"aabcbaxzyu\"\n",
    "S = \"abcdxyaresttest\"\n",
    "freq_count = {}\n",
    "start = 0\n",
    "unique_element_size = 0\n",
    "for i in range(len(S)):\n",
    "    if S[i] not in freq_count:\n",
    "        freq_count[S[i]] = i\n",
    "        unique_element_size = max(unique_element_size, i-start+1)\n",
    "    else:\n",
    "        print(\"Element\",S[i],\"has last been seen at\", freq_count[S[i]])\n",
    "        start = freq_count[S[i]] + 1 # Resetting the start pointer to the element seen last time + 1\n",
    "        # Reset the frequenecy counter\n",
    "        freq_count = {}\n",
    "        # Restart the count from current index\n",
    "        print(S[i])\n",
    "        freq_count[S[i]] = i\n",
    "\n",
    "\n",
    "print(unique_element_size)"
   ]
  },
  {
   "cell_type": "code",
   "execution_count": 105,
   "metadata": {},
   "outputs": [
    {
     "name": "stdout",
     "output_type": "stream",
     "text": [
      "{3: 0}\n",
      "{3: 1}\n",
      "{3: 1, 8: 2}\n",
      "[2, 3]\n"
     ]
    }
   ],
   "source": [
    "\n",
    "index_hash = {}\n",
    "# nums = [2,7,11,15]\n",
    "nums = [3,3,8,8]\n",
    "target = 16\n",
    "sum_number = []\n",
    "for index in range(len(nums)):\n",
    "    diff = target - nums[index]\n",
    "    if diff not in index_hash:\n",
    "       index_hash[nums[index]] = index\n",
    "       print(index_hash)\n",
    "    else:\n",
    "        sum_number.append(index_hash[diff])\n",
    "        sum_number.append(index)\n",
    "print(sum_number)\n",
    "\n",
    "    \n"
   ]
  },
  {
   "cell_type": "code",
   "execution_count": 26,
   "metadata": {},
   "outputs": [
    {
     "name": "stdout",
     "output_type": "stream",
     "text": [
      "None None 6\n",
      "<__main__.Node object at 0x107482a90> None 6\n",
      "<__main__.Node object at 0x107482a90> <__main__.Node object at 0x10751ea30> 6\n",
      "None None 7\n",
      "<__main__.Node object at 0x107482a90> <__main__.Node object at 0x10751ea30> 6\n",
      "None <__main__.Node object at 0x10751ee20> 7\n",
      "None None 71\n"
     ]
    }
   ],
   "source": [
    "class Node():\n",
    "    def __init__(self, data):\n",
    "        self.left = None\n",
    "        self.right = None\n",
    "        self.data = data\n",
    "    \n",
    "class Tree():\n",
    "    def __init__(self) -> None:\n",
    "        self.root = None\n",
    "\n",
    "    def insert(self,data):\n",
    "        new_node = Node(data)\n",
    "        if self.root is None:\n",
    "            self.root = new_node\n",
    "        else:\n",
    "            self.insert_node(data, self.root)\n",
    "    \n",
    "    def insert_node(self, data,node):\n",
    "        print(node.left, node.right,node.data)\n",
    "        if data < node.data:\n",
    "\n",
    "            if node.left:\n",
    "                self.insert_node(data, node.left)\n",
    "            else:\n",
    "                node.left = Node(data)\n",
    "        else:\n",
    "            if node.right:\n",
    "                self.insert_node(data, node.right)\n",
    "            else:\n",
    "                node.right = Node(data)\n",
    "\n",
    "tree_obj = Tree()\n",
    "tree_obj.insert(6)\n",
    "tree_obj.insert(5)\n",
    "tree_obj.insert(7)\n",
    "tree_obj.insert(71)\n",
    "tree_obj.insert(711)\n",
    "\n",
    "# print(tree_obj.__dict__)\n",
    "# print(tree_obj.root.__dict__)\n",
    "# print(tree_obj.root.left.__dict__)\n",
    "# print(tree_obj.root.right.__dict__)"
   ]
  },
  {
   "cell_type": "code",
   "execution_count": 31,
   "metadata": {},
   "outputs": [
    {
     "name": "stdout",
     "output_type": "stream",
     "text": [
      "[[0, 0, 0], [0, 0, 0], [0, 0, 0], [0, 0, 0], [0, 0, 0], [0, 0, 0], [0, 0, 0], [0, 0, 0], [0, 0, 0], [0, 0, 0]]\n",
      "[[0, 0, 0]]\n"
     ]
    }
   ],
   "source": [
    "nums = [-1,0,1,2,-1,-4]\n",
    "nums = [0,0,0,0,0]\n",
    "\n",
    "\n",
    "# nums.sort()\n",
    "\n",
    "# for i in range(len(nums)):\n",
    "#     j = i+1\n",
    "#     k = len(nums)-1\n",
    "#     while j < k:\n",
    "#         if nums[i] + nums[j] + nums[k] == 0:\n",
    "\n",
    "new_array = []\n",
    "\n",
    "for i in range(len(nums)):\n",
    "    for j in range(i+1,len(nums)):\n",
    "        for k in range(j+1,len(nums)):\n",
    "            if nums[i] + nums[j] + nums[k] == 0:\n",
    "                new_array.append([nums[i] , nums[j] , nums[k]])\n",
    "print(new_array)\n",
    "new_array = set(tuple(item) for item in new_array)\n",
    "new_array = [list(item) for item in new_array]\n",
    "\n",
    "print(new_array)\n",
    "\n",
    "\n",
    "\n"
   ]
  },
  {
   "cell_type": "code",
   "execution_count": 18,
   "metadata": {},
   "outputs": [
    {
     "name": "stdout",
     "output_type": "stream",
     "text": [
      "[[1, 2, 1], [1, 4, 1]]\n"
     ]
    }
   ],
   "source": [
    "array_list = [[1,2,1], [1,4,1],[1,2,1]]\n",
    "\n",
    "unique_array = list(set(tuple(item) for item in array_list))\n",
    "unique_array = [list(item) for item in unique_array]\n",
    "\n",
    "print(unique_array)\n"
   ]
  },
  {
   "cell_type": "code",
   "execution_count": 29,
   "metadata": {},
   "outputs": [
    {
     "name": "stdout",
     "output_type": "stream",
     "text": [
      "Not Equal abe aabe\n"
     ]
    }
   ],
   "source": [
    "s = \"###abv#cdd###t#e\"\n",
    "t = \"###aa#abv#cdd###t#e\"\n",
    "result = \"abcde\"\n",
    "# Remove all the backspaces and return the string\n",
    "\n",
    "def filter_backspace(s):\n",
    "    s_stack = []\n",
    "\n",
    "    for i in range(len(s)):\n",
    "        if s[i] == \"#\":\n",
    "            try:\n",
    "                s_stack.pop()\n",
    "            except IndexError:\n",
    "                continue\n",
    "        else:\n",
    "            s_stack.append(s[i])\n",
    "    s = ''.join(s_stack)\n",
    "    return s\n",
    "# def check_same(s,t):\n",
    "#  return \n",
    "try:\n",
    "    assert filter_backspace(s) == filter_backspace(t)\n",
    "    print(\"Equal\")\n",
    "except AssertionError:\n",
    "    print(\"Not Equal\",filter_backspace(s),filter_backspace(t))\n",
    "\n",
    "# While coming back to this program first \n",
    "# You implemented try and expect block\n",
    "# Then also ran assertion to catch if they \n",
    "# Are not e\n"
   ]
  },
  {
   "cell_type": "code",
   "execution_count": 55,
   "metadata": {},
   "outputs": [
    {
     "name": "stdout",
     "output_type": "stream",
     "text": [
      "2 slow\n",
      "3\n",
      "3 slow\n",
      "5\n",
      "3 middle_index\n"
     ]
    }
   ],
   "source": [
    "class ListNode:\n",
    "    def __init__(self, val=0, next=None):\n",
    "        self.val = val\n",
    "        self.next = next\n",
    "\n",
    "\n",
    "ll = ListNode(1,ListNode(2,ListNode(3,ListNode(4,ListNode(5)))))\n",
    "# ll = ListNode(5,ListNode(6,ListNode(7,ListNode(8))))\n",
    "\n",
    "slow_pointer = ll\n",
    "\n",
    "while ll.next and ll.next.next:\n",
    "    slow_pointer = slow_pointer.next\n",
    "    print(slow_pointer.val,\"slow\")\n",
    "    ll = ll.next.next\n",
    "    print(ll.val)\n",
    "\n",
    "# if ll.next:\n",
    "#     slow_pointer = slow_pointer.next\n",
    "print(slow_pointer.val,\"middle_index\")\n",
    "# print(ll.__dict__)\n",
    "# print(ll.next.__dict__)"
   ]
  },
  {
   "cell_type": "code",
   "execution_count": 83,
   "metadata": {},
   "outputs": [
    {
     "name": "stdout",
     "output_type": "stream",
     "text": [
      "[1, 2, 2, 2, 1]\n",
      "value matched 1 1\n",
      "value matched 2 2\n",
      "value matched 2 2\n",
      "value matched 2 2\n",
      "value matched 1 1\n"
     ]
    }
   ],
   "source": [
    "no_pal_ll = ListNode(1,ListNode(2,ListNode(3,ListNode(4,ListNode(5)))))\n",
    "pal_ll = ListNode(1,ListNode(2,ListNode(2,ListNode(2,ListNode(1)))))\n",
    "dub_head = ListNode\n",
    "\n",
    "previous_node = None\n",
    "current_node = pal_ll\n",
    "next_node = None\n",
    "my_list = []\n",
    "\n",
    "\n",
    "while current_node is not None:\n",
    "    my_list.append(current_node.val)\n",
    "    next_node = current_node.next\n",
    "    current_node.next = previous_node\n",
    "    previous_node = current_node\n",
    "    current_node = next_node\n",
    "reverse_head_node = previous_node\n",
    "\n",
    "print(my_list)\n",
    "count = 0\n",
    "while reverse_head_node and count < len(my_list):\n",
    "    if reverse_head_node.val !=  my_list[count]:\n",
    "        print(\"No fibonnachi\")\n",
    "        break\n",
    "    print(\"value matched\",reverse_head_node.val,my_list[count])\n",
    "    reverse_head_node = reverse_head_node.next\n",
    "    count+=1\n",
    "\n",
    "\n",
    "\n"
   ]
  },
  {
   "cell_type": "code",
   "execution_count": 90,
   "metadata": {},
   "outputs": [
    {
     "name": "stdout",
     "output_type": "stream",
     "text": [
      "1 4\n",
      "4 4\n",
      "4 4\n",
      "4 4\n",
      "1\n",
      "4\n"
     ]
    }
   ],
   "source": [
    "dup_ll = ListNode(1,ListNode(4,ListNode(4,ListNode(4,ListNode(4)))))\n",
    "\n",
    "\n",
    "current_node = dup_ll\n",
    "traverse = dup_ll\n",
    "while current_node and current_node.next:\n",
    "    print(current_node.val,current_node.next.val)\n",
    "    if current_node.val == current_node.next.val:\n",
    "        current_node.next = current_node.next.next\n",
    "        continue\n",
    "    current_node = current_node.next\n",
    "\n",
    "while traverse:\n",
    "    print(traverse.val)\n",
    "    traverse = traverse.next "
   ]
  },
  {
   "cell_type": "code",
   "execution_count": 104,
   "metadata": {},
   "outputs": [
    {
     "name": "stdout",
     "output_type": "stream",
     "text": [
      "6\n"
     ]
    }
   ],
   "source": [
    "# Find all the subarrays\n",
    "\n",
    "nums = [10,5,2,6]\n",
    "k = 100\n",
    "nums = [2,2,2,20,20]\n",
    "k = 10\n",
    "# my_arr = []\n",
    "# product_count = 0\n",
    "\n",
    "# def multiply_arr(array):\n",
    "#     product_array = 1\n",
    "#     for i in array:\n",
    "#         product_array *= i \n",
    "#     return product_array\n",
    "\n",
    "# for i in range(len(array)):\n",
    "#     for j in range(i,len(array)):\n",
    "#         sub_array = array[i:j+1]\n",
    "#         if multiply_arr(sub_array) < 100:\n",
    "#             product_count+=1\n",
    "# print(product_count)\n",
    "\n",
    "\n",
    "\n",
    "res = 0\n",
    "l = 0 \n",
    "product = 1\n",
    "\n",
    "for r in range(len(nums)):\n",
    "    product *= nums[r]\n",
    "    while l <= r and product >=k:\n",
    "        product = product//nums[l]\n",
    "        l +=1\n",
    "    res += (r-l +1)\n",
    "print(res)\n",
    "\n"
   ]
  },
  {
   "cell_type": "code",
   "execution_count": 128,
   "metadata": {},
   "outputs": [
    {
     "name": "stdout",
     "output_type": "stream",
     "text": [
      "[-4, -1, 1, 2]\n",
      "4 abs -4 -1 2\n",
      "-4 -1 2\n",
      "2 abs -4 1 2\n",
      "-4 1 2\n",
      "1 abs -1 1 2\n",
      "-1 1 2\n",
      "2\n"
     ]
    }
   ],
   "source": [
    "nums = [-1,2,1,-4]\n",
    "nums.sort()\n",
    "print(nums)\n",
    "min_diff = 10**5\n",
    "target = 1\n",
    "my_array = []\n",
    "# Find the sum where 3 element of the array equals to target\n",
    "\n",
    "for i in range(len(nums)-2):\n",
    "    if i > 0 and nums[i] == nums[i-1]:\n",
    "        continue\n",
    "    l = i+1\n",
    "    r = len(nums)-1\n",
    "\n",
    "    while l < r:\n",
    "        current_sum = nums[i] + nums[l] + nums[r]\n",
    "        if current_sum <= target:\n",
    "            abs_diff = abs(current_sum - target)\n",
    "            if abs_diff < min_diff:\n",
    "                closest_sum = nums[i] + nums[l] + nums[r]\n",
    "                min_diff = abs_diff\n",
    "\n",
    "            l +=1\n",
    "            while nums[l] == nums[l-1] and l < r:\n",
    "                l+=1\n",
    "        else:\n",
    "            abs_diff = abs(current_sum - target)\n",
    "            if abs_diff < min_diff:\n",
    "                closest_sum = nums[i] + nums[l] + nums[r]\n",
    "                min_diff = abs_diff\n",
    "            r-=1\n",
    "print(closest_sum)"
   ]
  },
  {
   "cell_type": "code",
   "execution_count": 10,
   "metadata": {},
   "outputs": [
    {
     "ename": "KeyboardInterrupt",
     "evalue": "",
     "output_type": "error",
     "traceback": [
      "\u001b[0;31m---------------------------------------------------------------------------\u001b[0m",
      "\u001b[0;31mKeyboardInterrupt\u001b[0m                         Traceback (most recent call last)",
      "Cell \u001b[0;32mIn[10], line 31\u001b[0m\n\u001b[1;32m     28\u001b[0m         valToIndex[stack\u001b[39m.\u001b[39mpop()] \u001b[39m=\u001b[39m nums2[i]\n\u001b[1;32m     29\u001b[0m     stack\u001b[39m.\u001b[39mappend(nums2[i])\n\u001b[0;32m---> 31\u001b[0m \u001b[39mwhile\u001b[39;00m stack:\n\u001b[1;32m     32\u001b[0m     valToIndex[stack\u001b[39m.\u001b[39mpop()] \u001b[39m=\u001b[39m \u001b[39m-\u001b[39m\u001b[39m1\u001b[39m\n\u001b[1;32m     34\u001b[0m \u001b[39mfor\u001b[39;00m num \u001b[39min\u001b[39;00m nums1:\n",
      "Cell \u001b[0;32mIn[10], line 31\u001b[0m\n\u001b[1;32m     28\u001b[0m         valToIndex[stack\u001b[39m.\u001b[39mpop()] \u001b[39m=\u001b[39m nums2[i]\n\u001b[1;32m     29\u001b[0m     stack\u001b[39m.\u001b[39mappend(nums2[i])\n\u001b[0;32m---> 31\u001b[0m \u001b[39mwhile\u001b[39;00m stack:\n\u001b[1;32m     32\u001b[0m     valToIndex[stack\u001b[39m.\u001b[39mpop()] \u001b[39m=\u001b[39m \u001b[39m-\u001b[39m\u001b[39m1\u001b[39m\n\u001b[1;32m     34\u001b[0m \u001b[39mfor\u001b[39;00m num \u001b[39min\u001b[39;00m nums1:\n",
      "File \u001b[0;32m_pydevd_bundle/pydevd_cython.pyx:1457\u001b[0m, in \u001b[0;36m_pydevd_bundle.pydevd_cython.SafeCallWrapper.__call__\u001b[0;34m()\u001b[0m\n",
      "File \u001b[0;32m_pydevd_bundle/pydevd_cython.pyx:701\u001b[0m, in \u001b[0;36m_pydevd_bundle.pydevd_cython.PyDBFrame.trace_dispatch\u001b[0;34m()\u001b[0m\n",
      "File \u001b[0;32m_pydevd_bundle/pydevd_cython.pyx:1152\u001b[0m, in \u001b[0;36m_pydevd_bundle.pydevd_cython.PyDBFrame.trace_dispatch\u001b[0;34m()\u001b[0m\n",
      "File \u001b[0;32m_pydevd_bundle/pydevd_cython.pyx:1135\u001b[0m, in \u001b[0;36m_pydevd_bundle.pydevd_cython.PyDBFrame.trace_dispatch\u001b[0;34m()\u001b[0m\n",
      "File \u001b[0;32m_pydevd_bundle/pydevd_cython.pyx:312\u001b[0m, in \u001b[0;36m_pydevd_bundle.pydevd_cython.PyDBFrame.do_wait_suspend\u001b[0;34m()\u001b[0m\n",
      "File \u001b[0;32m~/Library/Python/3.9/lib/python/site-packages/debugpy/_vendored/pydevd/pydevd.py:2070\u001b[0m, in \u001b[0;36mPyDB.do_wait_suspend\u001b[0;34m(self, thread, frame, event, arg, exception_type)\u001b[0m\n\u001b[1;32m   2067\u001b[0m             from_this_thread\u001b[39m.\u001b[39mappend(frame_custom_thread_id)\n\u001b[1;32m   2069\u001b[0m     \u001b[39mwith\u001b[39;00m \u001b[39mself\u001b[39m\u001b[39m.\u001b[39m_threads_suspended_single_notification\u001b[39m.\u001b[39mnotify_thread_suspended(thread_id, thread, stop_reason):\n\u001b[0;32m-> 2070\u001b[0m         keep_suspended \u001b[39m=\u001b[39m \u001b[39mself\u001b[39;49m\u001b[39m.\u001b[39;49m_do_wait_suspend(thread, frame, event, arg, suspend_type, from_this_thread, frames_tracker)\n\u001b[1;32m   2072\u001b[0m frames_list \u001b[39m=\u001b[39m \u001b[39mNone\u001b[39;00m\n\u001b[1;32m   2074\u001b[0m \u001b[39mif\u001b[39;00m keep_suspended:\n\u001b[1;32m   2075\u001b[0m     \u001b[39m# This means that we should pause again after a set next statement.\u001b[39;00m\n",
      "File \u001b[0;32m~/Library/Python/3.9/lib/python/site-packages/debugpy/_vendored/pydevd/pydevd.py:2106\u001b[0m, in \u001b[0;36mPyDB._do_wait_suspend\u001b[0;34m(self, thread, frame, event, arg, suspend_type, from_this_thread, frames_tracker)\u001b[0m\n\u001b[1;32m   2103\u001b[0m         \u001b[39mself\u001b[39m\u001b[39m.\u001b[39m_call_input_hook()\n\u001b[1;32m   2105\u001b[0m     \u001b[39mself\u001b[39m\u001b[39m.\u001b[39mprocess_internal_commands()\n\u001b[0;32m-> 2106\u001b[0m     time\u001b[39m.\u001b[39;49msleep(\u001b[39m0.01\u001b[39;49m)\n\u001b[1;32m   2108\u001b[0m \u001b[39mself\u001b[39m\u001b[39m.\u001b[39mcancel_async_evaluation(get_current_thread_id(thread), \u001b[39mstr\u001b[39m(\u001b[39mid\u001b[39m(frame)))\n\u001b[1;32m   2110\u001b[0m \u001b[39m# process any stepping instructions\u001b[39;00m\n",
      "\u001b[0;31mKeyboardInterrupt\u001b[0m: "
     ]
    }
   ],
   "source": [
    "nums1 = [4,1,2]\n",
    "nums2 = [1,3,4,2]\n",
    "\n",
    "# my_dict = {}\n",
    "# for i in range(len(nums2)):\n",
    "#     my_dict[nums2[i]] = i\n",
    "\n",
    "# my_array = []\n",
    "# for i in range(len(nums1)):\n",
    "#     index_value = my_dict[nums1[i]]\n",
    "#     great_num_found = False\n",
    "#     while index_value < len(nums2):\n",
    "#         if nums1[i] < nums2[index_value]:\n",
    "#             my_array.append(nums2[index_value])\n",
    "#             great_num_found = True\n",
    "#             break\n",
    "#         index_value +=1\n",
    "#     if not great_num_found:\n",
    "#         my_array.append(-1)\n",
    "\n",
    "\n",
    "res = []\n",
    "valToIndex = {}\n",
    "\n",
    "stack = []\n",
    "for i in range(len(nums2)):\n",
    "    while stack and stack[-1] < nums2[i]:\n",
    "        valToIndex[stack.pop()] = nums2[i]\n",
    "    stack.append(nums2[i])\n",
    "\n",
    "while stack:\n",
    "    valToIndex[stack.pop()] = -1\n",
    "\n",
    "for num in nums1:\n",
    "    res.append(valToIndex[num])\n",
    "\n",
    "print(res)\n",
    "\n"
   ]
  },
  {
   "cell_type": "code",
   "execution_count": 41,
   "metadata": {},
   "outputs": [
    {
     "name": "stdout",
     "output_type": "stream",
     "text": [
      "{'a': 1}\n",
      "1 1\n",
      "ajay\n",
      "{'a': 2}\n",
      "2 2\n",
      "ajay\n",
      "{'a': 3}\n",
      "3 3\n",
      "ajay\n",
      "{'a': 4}\n",
      "4 4\n",
      "ajay\n",
      "{'a': 4, 'b': 1}\n",
      "5 4\n",
      "ajay\n",
      "{'a': 4, 'b': 2}\n",
      "6 4\n",
      "ajay\n",
      "{'a': 4, 'b': 2, 'c': 1}\n",
      "7 4\n",
      "{'a': 3, 'b': 2, 'c': 2}\n",
      "6 4\n",
      "ajay\n",
      "{'a': 3, 'b': 2, 'c': 3}\n",
      "7 4\n",
      "6\n"
     ]
    }
   ],
   "source": [
    "longest_sub_string = \"aaaabbccc\" \n",
    "k = 2\n",
    "\n",
    "# Logic is simple create a dictonary which records the occurence of string in the given window\n",
    "start_pointer = 0\n",
    "max_freq = 0\n",
    "my_freq = {}\n",
    "max_window = 0\n",
    "end = 0\n",
    "for i in range(len(longest_sub_string)):\n",
    "    if longest_sub_string[i] not in my_freq:\n",
    "        my_freq[longest_sub_string[i]] = 1\n",
    "    else: \n",
    "        my_freq[longest_sub_string[i]] += 1\n",
    "    \n",
    "\n",
    "    print(my_freq)\n",
    "    for i in my_freq.values():\n",
    "        max_freq = max(i,max_freq)\n",
    "\n",
    "    window_length = end - start_pointer + 1\n",
    "    print(window_length, max_freq)\n",
    "    if window_length - max_freq <= k:\n",
    "        print(\"ajay\")\n",
    "        max_window = max(max_window, window_length)\n",
    "        end+=1\n",
    "    else:\n",
    "        my_freq[longest_sub_string[start_pointer]] -= 1\n",
    "        start_pointer +=1\n",
    "\n",
    "print(max_window)\n"
   ]
  },
  {
   "cell_type": "code",
   "execution_count": null,
   "metadata": {},
   "outputs": [],
   "source": []
  },
  {
   "cell_type": "code",
   "execution_count": 52,
   "metadata": {},
   "outputs": [
    {
     "ename": "KeyboardInterrupt",
     "evalue": "",
     "output_type": "error",
     "traceback": [
      "\u001b[0;31m---------------------------------------------------------------------------\u001b[0m",
      "\u001b[0;31mKeyboardInterrupt\u001b[0m                         Traceback (most recent call last)",
      "Cell \u001b[0;32mIn[52], line 11\u001b[0m\n\u001b[1;32m      7\u001b[0m \u001b[39mfor\u001b[39;00m i \u001b[39min\u001b[39;00m \u001b[39mrange\u001b[39m (\u001b[39mlen\u001b[39m(nums)\u001b[39m-\u001b[39m\u001b[39m1\u001b[39m):\n\u001b[1;32m      8\u001b[0m     \u001b[39m# if i > 0 and nums[i] != nums[i-1]:\u001b[39;00m\n\u001b[1;32m      9\u001b[0m     \u001b[39m#     start = i\u001b[39;00m\n\u001b[1;32m     10\u001b[0m     \u001b[39mif\u001b[39;00m nums [i] \u001b[39m!=\u001b[39m nums[i\u001b[39m+\u001b[39m\u001b[39m1\u001b[39m]:\n\u001b[0;32m---> 11\u001b[0m         start \u001b[39m=\u001b[39m \u001b[39m1\u001b[39m\n\u001b[1;32m     12\u001b[0m     \u001b[39melse\u001b[39;00m:\n\u001b[1;32m     13\u001b[0m         \u001b[39mif\u001b[39;00m nums[i] \u001b[39m==\u001b[39m \u001b[39m1\u001b[39m:\n",
      "Cell \u001b[0;32mIn[52], line 11\u001b[0m\n\u001b[1;32m      7\u001b[0m \u001b[39mfor\u001b[39;00m i \u001b[39min\u001b[39;00m \u001b[39mrange\u001b[39m (\u001b[39mlen\u001b[39m(nums)\u001b[39m-\u001b[39m\u001b[39m1\u001b[39m):\n\u001b[1;32m      8\u001b[0m     \u001b[39m# if i > 0 and nums[i] != nums[i-1]:\u001b[39;00m\n\u001b[1;32m      9\u001b[0m     \u001b[39m#     start = i\u001b[39;00m\n\u001b[1;32m     10\u001b[0m     \u001b[39mif\u001b[39;00m nums [i] \u001b[39m!=\u001b[39m nums[i\u001b[39m+\u001b[39m\u001b[39m1\u001b[39m]:\n\u001b[0;32m---> 11\u001b[0m         start \u001b[39m=\u001b[39m \u001b[39m1\u001b[39m\n\u001b[1;32m     12\u001b[0m     \u001b[39melse\u001b[39;00m:\n\u001b[1;32m     13\u001b[0m         \u001b[39mif\u001b[39;00m nums[i] \u001b[39m==\u001b[39m \u001b[39m1\u001b[39m:\n",
      "File \u001b[0;32m_pydevd_bundle/pydevd_cython.pyx:1457\u001b[0m, in \u001b[0;36m_pydevd_bundle.pydevd_cython.SafeCallWrapper.__call__\u001b[0;34m()\u001b[0m\n",
      "File \u001b[0;32m_pydevd_bundle/pydevd_cython.pyx:701\u001b[0m, in \u001b[0;36m_pydevd_bundle.pydevd_cython.PyDBFrame.trace_dispatch\u001b[0;34m()\u001b[0m\n",
      "File \u001b[0;32m_pydevd_bundle/pydevd_cython.pyx:1152\u001b[0m, in \u001b[0;36m_pydevd_bundle.pydevd_cython.PyDBFrame.trace_dispatch\u001b[0;34m()\u001b[0m\n",
      "File \u001b[0;32m_pydevd_bundle/pydevd_cython.pyx:1135\u001b[0m, in \u001b[0;36m_pydevd_bundle.pydevd_cython.PyDBFrame.trace_dispatch\u001b[0;34m()\u001b[0m\n",
      "File \u001b[0;32m_pydevd_bundle/pydevd_cython.pyx:312\u001b[0m, in \u001b[0;36m_pydevd_bundle.pydevd_cython.PyDBFrame.do_wait_suspend\u001b[0;34m()\u001b[0m\n",
      "File \u001b[0;32m~/Library/Python/3.9/lib/python/site-packages/debugpy/_vendored/pydevd/pydevd.py:2070\u001b[0m, in \u001b[0;36mPyDB.do_wait_suspend\u001b[0;34m(self, thread, frame, event, arg, exception_type)\u001b[0m\n\u001b[1;32m   2067\u001b[0m             from_this_thread\u001b[39m.\u001b[39mappend(frame_custom_thread_id)\n\u001b[1;32m   2069\u001b[0m     \u001b[39mwith\u001b[39;00m \u001b[39mself\u001b[39m\u001b[39m.\u001b[39m_threads_suspended_single_notification\u001b[39m.\u001b[39mnotify_thread_suspended(thread_id, thread, stop_reason):\n\u001b[0;32m-> 2070\u001b[0m         keep_suspended \u001b[39m=\u001b[39m \u001b[39mself\u001b[39;49m\u001b[39m.\u001b[39;49m_do_wait_suspend(thread, frame, event, arg, suspend_type, from_this_thread, frames_tracker)\n\u001b[1;32m   2072\u001b[0m frames_list \u001b[39m=\u001b[39m \u001b[39mNone\u001b[39;00m\n\u001b[1;32m   2074\u001b[0m \u001b[39mif\u001b[39;00m keep_suspended:\n\u001b[1;32m   2075\u001b[0m     \u001b[39m# This means that we should pause again after a set next statement.\u001b[39;00m\n",
      "File \u001b[0;32m~/Library/Python/3.9/lib/python/site-packages/debugpy/_vendored/pydevd/pydevd.py:2106\u001b[0m, in \u001b[0;36mPyDB._do_wait_suspend\u001b[0;34m(self, thread, frame, event, arg, suspend_type, from_this_thread, frames_tracker)\u001b[0m\n\u001b[1;32m   2103\u001b[0m         \u001b[39mself\u001b[39m\u001b[39m.\u001b[39m_call_input_hook()\n\u001b[1;32m   2105\u001b[0m     \u001b[39mself\u001b[39m\u001b[39m.\u001b[39mprocess_internal_commands()\n\u001b[0;32m-> 2106\u001b[0m     time\u001b[39m.\u001b[39;49msleep(\u001b[39m0.01\u001b[39;49m)\n\u001b[1;32m   2108\u001b[0m \u001b[39mself\u001b[39m\u001b[39m.\u001b[39mcancel_async_evaluation(get_current_thread_id(thread), \u001b[39mstr\u001b[39m(\u001b[39mid\u001b[39m(frame)))\n\u001b[1;32m   2110\u001b[0m \u001b[39m# process any stepping instructions\u001b[39;00m\n",
      "\u001b[0;31mKeyboardInterrupt\u001b[0m: "
     ]
    }
   ],
   "source": [
    "# nums = [1,0,1,1,0,1,1,1]\n",
    "nums = [1,0]\n",
    "\n",
    "start = 1\n",
    "max_one = 0\n",
    "\n",
    "for i in range (len(nums)-1):\n",
    "    # if i > 0 and nums[i] != nums[i-1]:\n",
    "    #     start = i\n",
    "    if nums [i] != nums[i+1]:\n",
    "        start = 1\n",
    "    else:\n",
    "        if nums[i] == 1:\n",
    "            start+=1\n",
    "            max_one = max(start,max_one)\n",
    "print(max_one)\n",
    "\n",
    "\n",
    "    \n"
   ]
  },
  {
   "cell_type": "code",
   "execution_count": 66,
   "metadata": {},
   "outputs": [
    {
     "name": "stdout",
     "output_type": "stream",
     "text": [
      "[]\n",
      "['a']\n",
      "['a', 'b']\n",
      "['a', 'b']\n"
     ]
    }
   ],
   "source": [
    "s = \"1abc1\"\n",
    "stack = []\n",
    "s_list = list(s)\n",
    "\n",
    "for s_element in s_list:\n",
    "\n",
    "    if stack and s_element.isdigit():\n",
    "        stack.pop()\n",
    "    elif not s_element.isdigit():\n",
    "        print(stack)\n",
    "        stack.append(s_element)\n",
    "        # if s_element.isdigit():\n",
    "        #     stack.pop()\n",
    "print(stack)\n",
    "\n"
   ]
  },
  {
   "cell_type": "code",
   "execution_count": 65,
   "metadata": {},
   "outputs": [
    {
     "name": "stdout",
     "output_type": "stream",
     "text": [
      "[]\n",
      "['d1/']\n",
      "['d1/', 'd2/']\n",
      "['d1/']\n",
      "['d1/', 'd21/']\n",
      "2\n"
     ]
    }
   ],
   "source": [
    "logs = [\"d1/\",\"d2/\",\"../\",\"d21/\",\"./\"]\n",
    "\n",
    "# sum = 0 \n",
    "# for item in array:\n",
    "\n",
    "#     if item == \"../\":\n",
    "#         sum -=1\n",
    "#     elif item == \"./\":\n",
    "#         sum -= 0\n",
    "#     else:\n",
    "#         sum+=1\n",
    "# if sum < 0:\n",
    "#     sum = 0\n",
    "\n",
    "stack = []\n",
    "for op in logs:\n",
    "    if stack and op == \"../\":\n",
    "        print(stack)\n",
    "        stack.pop()\n",
    "\n",
    "    elif op != \"../\" and op != \"./\":\n",
    "        print(stack)\n",
    "        stack.append(op)\n",
    "\n",
    "print(stack)\n",
    "print(len(stack))\n"
   ]
  },
  {
   "cell_type": "code",
   "execution_count": 94,
   "metadata": {},
   "outputs": [
    {
     "name": "stdout",
     "output_type": "stream",
     "text": [
      "['1']\n",
      "1\n",
      "['0', '0', '0', '0', '2', '0', '0']\n",
      "0\n",
      "1\n",
      "2\n",
      "3\n"
     ]
    }
   ],
   "source": [
    "num = \"10000200\"\n",
    "k = 1\n",
    "monotonic_stack = []\n",
    "\n",
    "for i in range(len(num)):\n",
    "\n",
    "    while True:\n",
    "        if monotonic_stack and num[i] < monotonic_stack[-1] and k > 0:\n",
    "            # Current current number is smaller is what \n",
    "            # Alreay in stack keep on pooping\n",
    "            print(monotonic_stack)\n",
    "            monotonic_stack.pop()\n",
    "            print(k)\n",
    "            k-=1\n",
    "        else:\n",
    "            monotonic_stack.append(num[i])\n",
    "            break\n",
    "my_int = len(monotonic_stack) - k\n",
    "print(monotonic_stack[:my_int])\n",
    "\n",
    "monotonic_stack = monotonic_stack[:my_int]\n",
    "i = 0\n",
    "while i < len(monotonic_stack) and monotonic_stack[i] == \"0\":\n",
    "    print(i)\n",
    "    i += 1"
   ]
  },
  {
   "cell_type": "code",
   "execution_count": 36,
   "metadata": {},
   "outputs": [
    {
     "name": "stdout",
     "output_type": "stream",
     "text": [
      "5\n"
     ]
    }
   ],
   "source": [
    "# Max sum of distinct subarrays with length K\n",
    "\n",
    "# nums = [5,3,3,1,1]\n",
    "nums = [1,1,1,7,8,9,11,12,23]\n",
    "# nums = [9,9,9]\n",
    "k = 3\n",
    "start = 0\n",
    "max_sum = 0\n",
    "odd_count = 0 \n",
    "freq_counter = {}\n",
    "# for i in range(len(nums)):\n",
    "#     if nums[i] not in freq_counter:\n",
    "#         freq_counter[nums[i]] = 1\n",
    "#     else:\n",
    "#         freq_counter[nums[i]] +=1\n",
    "    \n",
    "#     new_val = 0\n",
    "#     sum = 0\n",
    "#     for key,val in freq_counter.items():\n",
    "#         new_val += val\n",
    "#         if val == 1:\n",
    "#             sum += key\n",
    "\n",
    "#         print(new_val, val,freq_counter)\n",
    "#         if new_val == k:\n",
    "#             print(freq_counter, \"finalle\")\n",
    "#             max_sum = max(max_sum,sum)\n",
    "#             freq_counter[nums[start]] -=1\n",
    "#             # del(freq_counter[nums[start]])\n",
    "#             start+=1\n",
    "#             break\n",
    "\n",
    "for i in range(len(nums)):\n",
    "  # Update frequency counter\n",
    "  if nums[i] not in freq_counter:\n",
    "    freq_counter[nums[i]] = 1\n",
    "  else:\n",
    "    freq_counter[nums[i]] += 1\n",
    "\n",
    "  # Update odd count (if element has only 1 occurrence)\n",
    "  if freq_counter[nums[i]] == 1:\n",
    "    odd_count += 1\n",
    "\n",
    "  # Check if window has k odd numbers (or more)\n",
    "  while odd_count >= k:\n",
    "    # Update max_sum with the current window size\n",
    "    max_sum = max(max_sum, i - start + 1)\n",
    "\n",
    "    # Decrement odd_count if starting element is odd\n",
    "    if freq_counter[nums[start]] == 1:\n",
    "      odd_count -= 1\n",
    "    # Decrement frequency of starting element\n",
    "    freq_counter[nums[start]] -= 1\n",
    "    start += 1\n",
    "\n",
    "# Check for remaining window after loop\n",
    "if odd_count >= k:\n",
    "  max_sum = max(max_sum, i - start + 1)\n",
    "\n",
    "print(max_sum)\n"
   ]
  },
  {
   "cell_type": "code",
   "execution_count": 45,
   "metadata": {},
   "outputs": [
    {
     "name": "stdout",
     "output_type": "stream",
     "text": [
      "1\n",
      "2\n",
      "{1: 1, 2: 1}\n",
      "2\n",
      "2\n",
      "3\n",
      "4\n",
      "5\n",
      "[2]\n"
     ]
    }
   ],
   "source": [
    "nums1 = [1,2,2,1]\n",
    "nums2 = [2,2,3,4,5]\n",
    "\n",
    "my_dict = {}\n",
    "for i in range(len(nums1)):\n",
    "    if nums1[i] not in my_dict:\n",
    "        print(nums1[i])\n",
    "        my_dict[nums1[i]] = 1\n",
    "\n",
    "print(my_dict)\n",
    "array =[]\n",
    "for i in nums2:\n",
    "    print(i)\n",
    "    \n",
    "    try:\n",
    "        if my_dict[i] == 1:\n",
    "            array.append(i)\n",
    "            my_dict[i] -=1\n",
    "    except KeyError:\n",
    "        continue\n",
    "\n",
    "print(array)\n",
    "        "
   ]
  },
  {
   "cell_type": "code",
   "execution_count": 52,
   "metadata": {},
   "outputs": [
    {
     "name": "stdout",
     "output_type": "stream",
     "text": [
      "{1: 3, 2: 5, 3: 1, 5: 7}\n",
      "[[3, 1], [5, 2], [1, 3], [7, 5]]\n",
      "[[1, 3], [3, 1], [5, 2], [7, 5]]\n",
      "[5, 2]\n"
     ]
    }
   ],
   "source": [
    "nums = [1,1,1,2,2,2,2,2,3,5,5,5,5,5,5,5]\n",
    "k = 2\n",
    "\n",
    "my_dict = {}\n",
    "\n",
    "for i in range(len(nums)):\n",
    "    if nums[i] not in my_dict:\n",
    "        my_dict[nums[i]] = 1\n",
    "    else:\n",
    "        my_dict[nums[i]] +=1\n",
    "\n",
    "array_of_array = []\n",
    "for key, value in my_dict.items():\n",
    "    array_of_array.append([value,key])\n",
    "print(my_dict)\n",
    "print(array_of_array)\n",
    "array_of_array.sort()\n",
    "print(array_of_array)\n",
    "\n",
    "res_array = []\n",
    "\n",
    "for i in range(k):\n",
    "    last_element = len(array_of_array)-1\n",
    "    res_array.append(array_of_array[last_element-i][1])\n",
    "print(res_array)\n"
   ]
  },
  {
   "cell_type": "code",
   "execution_count": 65,
   "metadata": {},
   "outputs": [
    {
     "name": "stdout",
     "output_type": "stream",
     "text": [
      "[0, 0, 0, 0, 0]\n",
      "2\n",
      "1\n",
      "1\n",
      "0\n",
      "{'c': 0, 'a': 0, 't': 1}\n",
      "0\n",
      "{'c': 0, 'a': 0, 't': 1}\n",
      "1\n",
      "{'c': 0, 'a': 0, 't': 1}\n"
     ]
    },
    {
     "data": {
      "text/plain": [
       "False"
      ]
     },
     "execution_count": 65,
     "metadata": {},
     "output_type": "execute_result"
    }
   ],
   "source": [
    "N = 5\n",
    "words = [\"act\",\"god\",\"cat\",\"dog\",\"tac\"]\n",
    "group_indicator = [0] * N\n",
    "print(group_indicator)\n",
    "\n",
    "def checkAnagram(word1,word2):\n",
    "    my_dict = {}\n",
    "    for i in word1:\n",
    "        if i not in my_dict:\n",
    "            my_dict[i] = 1\n",
    "        else:\n",
    "            my_dict[i] += 1\n",
    "    \n",
    "    for i in word2:\n",
    "        print(my_dict.get(i))\n",
    "        if my_dict.get(i) is None:\n",
    "            return False\n",
    "        my_dict[i] -= 1\n",
    "\n",
    "    for val in my_dict.values():\n",
    "        print(my_dict)\n",
    "        if val != 0:\n",
    "            return False\n",
    "    return True\n",
    "        \n",
    "i = 0\n",
    "j = 0\n",
    "while i < len(words):\n",
    "    if group_indicator[i] == 1:\n",
    "        i+=1\n",
    "        continue\n",
    "    while j < len(words):\n",
    "        if checkAnagram(words[i],words[j]):  \n",
    "\n",
    "checkAnagram(\"catt\",\"tac\")\n"
   ]
  },
  {
   "cell_type": "code",
   "execution_count": 1,
   "metadata": {},
   "outputs": [
    {
     "name": "stdout",
     "output_type": "stream",
     "text": [
      "4\n"
     ]
    }
   ],
   "source": [
    "\n",
    "\n",
    "my_str = \"a123bc34d8ef34\"\n",
    "# my_str = \"1234\"\n",
    "\n",
    "temp_str = \"\"\n",
    "# my_list = []\n",
    "count = 0\n",
    "\n",
    "for i in range(len(my_str)):\n",
    "\n",
    "    if my_str[i].isdigit():\n",
    "        temp_str +=my_str[i]\n",
    "    else:\n",
    "        if temp_str:\n",
    "            # my_list.append(temp_str)\n",
    "            count +=1\n",
    "\n",
    "        temp_str = \"\"\n",
    "    \n",
    "if temp_str:\n",
    "    # my_list.append(temp_str)\n",
    "    count +=1\n",
    "\n",
    "# print(my_list,len(my_list))\n",
    "print(count)\n",
    "\n",
    "         "
   ]
  },
  {
   "cell_type": "code",
   "execution_count": 25,
   "metadata": {},
   "outputs": [
    {
     "name": "stdout",
     "output_type": "stream",
     "text": [
      "a3b1x2c1a2d3\n"
     ]
    }
   ],
   "source": [
    "my_str = \"aaabxxcaaddd\"\n",
    "new_str = \"\"\n",
    "s = 0\n",
    "for i in range(len(my_str)-1):\n",
    "    if my_str[i] != my_str[i+1]:\n",
    "        window = i - s + 1\n",
    "        s = i+1\n",
    "        new_str += my_str[i] + str(window)\n",
    "# For the last element occurance count\n",
    "new_str += my_str[-1] + str(len(my_str)-s)\n",
    "print(new_str)"
   ]
  },
  {
   "cell_type": "code",
   "execution_count": 2,
   "metadata": {},
   "outputs": [
    {
     "name": "stdout",
     "output_type": "stream",
     "text": [
      "0\n",
      "1\n",
      "2\n",
      "3\n",
      "4\n",
      "{' ': 1}\n"
     ]
    }
   ],
   "source": [
    "s = \"     \"\n",
    "my_dict  = {}\n",
    "for i in range(len(s)):\n",
    "    print(i)\n",
    "    if s[i] not in my_dict:\n",
    "        my_dict[s[i]] = 1\n",
    "        my_dict.\n",
    "print(my_dict)\n"
   ]
  },
  {
   "cell_type": "code",
   "execution_count": 4,
   "metadata": {},
   "outputs": [
    {
     "name": "stdout",
     "output_type": "stream",
     "text": [
      "ASCII value of 'A': 65\n",
      "67\n"
     ]
    }
   ],
   "source": [
    "\n",
    "character = \"A\"\n",
    "ascii_value = ord(character)\n",
    "print(f\"ASCII value of '{character}': {ascii_value}\") \n",
    "print(2+ascii_value)"
   ]
  },
  {
   "cell_type": "code",
   "execution_count": 8,
   "metadata": {},
   "outputs": [
    {
     "name": "stdout",
     "output_type": "stream",
     "text": [
      "1\n"
     ]
    },
    {
     "ename": "TypeError",
     "evalue": "argument of type 'int' is not iterable",
     "output_type": "error",
     "traceback": [
      "\u001b[0;31m---------------------------------------------------------------------------\u001b[0m",
      "\u001b[0;31mTypeError\u001b[0m                                 Traceback (most recent call last)",
      "Cell \u001b[0;32mIn[8], line 7\u001b[0m\n\u001b[1;32m      5\u001b[0m \u001b[39mprint\u001b[39m(num)\n\u001b[1;32m      6\u001b[0m num \u001b[39m=\u001b[39m \u001b[39mstr\u001b[39m(num)\n\u001b[0;32m----> 7\u001b[0m \u001b[39mif\u001b[39;00m num \u001b[39mnot\u001b[39;49;00m \u001b[39min\u001b[39;49;00m freq_counter:\n\u001b[1;32m      8\u001b[0m     freq_counter[num] \u001b[39m=\u001b[39m \u001b[39m1\u001b[39m\n\u001b[1;32m      9\u001b[0m \u001b[39melse\u001b[39;00m:\n",
      "\u001b[0;31mTypeError\u001b[0m: argument of type 'int' is not iterable"
     ]
    }
   ],
   "source": [
    "nums = [1,2,3,1,1,3]\n",
    "\n",
    "freq_counter = 0\n",
    "for num in nums:\n",
    "    print(num)\n",
    "    num = str(num)\n",
    "    if num not in freq_counter:\n",
    "        freq_counter[num] = 1\n",
    "    else:\n",
    "        freq_counter[num] +=1\n",
    "        "
   ]
  },
  {
   "cell_type": "code",
   "execution_count": 19,
   "metadata": {},
   "outputs": [
    {
     "name": "stdout",
     "output_type": "stream",
     "text": [
      "0 3\n",
      "1 4\n",
      "2 5\n",
      "[2, 3, 5, 4, 1, 7]\n"
     ]
    }
   ],
   "source": [
    "nums = [2,5,1,3,4,7]\n",
    "# 0 \n",
    "n = 3\n",
    "shuffled_list = []\n",
    "for i in range(len(nums)//2):\n",
    "    print(i,i+n)\n",
    "    shuffled_list.append(nums[i])\n",
    "    shuffled_list.append(nums[i+n])\n",
    "print(shuffled_list)\n",
    "\n",
    "\n",
    "        "
   ]
  },
  {
   "cell_type": "code",
   "execution_count": 20,
   "metadata": {},
   "outputs": [
    {
     "name": "stdout",
     "output_type": "stream",
     "text": [
      "[[5], [5, 1], [1]]\n"
     ]
    }
   ],
   "source": [
    "# print (5^1^6)\n",
    "# print(5^1) # 4\n",
    "# print(4^6) # 2\n",
    "my_list = [5,1,6]\n",
    "# my_list = [3,4,5,6,7,8]\n",
    "\n",
    "\n",
    "def find_xor(my_list):\n",
    "\n",
    "    if len(my_list) == 1:\n",
    "        return my_list[0]\n",
    "\n",
    "    x_or = my_list[0] ^ my_list[1]\n",
    "    print(\"<--\",x_or)\n",
    "\n",
    "    for i in range(2,len(my_list)):\n",
    "        x_or = x_or ^ my_list[i]\n",
    "        print(\"-->\",x_or)\n",
    "    return x_or\n",
    "\n",
    "new_list = []\n",
    "for i in range(len(my_list)):\n",
    "    for j in range(i+1,len(my_list)):\n",
    "        new_list.append(my_list[i:j])\n",
    "print(new_list)\n",
    "\n",
    "# find_xor(my_list)\n"
   ]
  },
  {
   "cell_type": "code",
   "execution_count": 23,
   "metadata": {},
   "outputs": [
    {
     "name": "stdout",
     "output_type": "stream",
     "text": [
      "[True, True, True, False, True]\n"
     ]
    }
   ],
   "source": [
    "kids = [2,3,5,1,3]\n",
    "extra = 3\n",
    "max_candy = 0\n",
    "for candy in kids:\n",
    "    if candy > max_candy:\n",
    "        max_candy = candy\n",
    "\n",
    "bool_array = []\n",
    "for candy in kids:\n",
    "    if candy + extra >= max_candy:\n",
    "        bool_array.append(True)\n",
    "    else:\n",
    "        bool_array.append(False)\n",
    "\n",
    "print(bool_array)"
   ]
  },
  {
   "cell_type": "code",
   "execution_count": 29,
   "metadata": {},
   "outputs": [
    {
     "name": "stdout",
     "output_type": "stream",
     "text": [
      "3\n"
     ]
    }
   ],
   "source": [
    "points = [[3,1],[9,0],[1,0],[1,4],[5,3],[8,8]]\n",
    "\n",
    "# points.sort(key=lambda x:x[1])\n",
    "points.sort()\n",
    "\n",
    "max_diff = 0\n",
    "for index in range (len(points)-1):\n",
    "    diff = points[index+1][0] - points[index][0]\n",
    "    max_diff = max(diff,max_diff)\n",
    "print(max_diff)"
   ]
  },
  {
   "cell_type": "code",
   "execution_count": 32,
   "metadata": {},
   "outputs": [
    {
     "name": "stdout",
     "output_type": "stream",
     "text": [
      "324\n",
      "32\n",
      "3\n",
      "0\n"
     ]
    }
   ],
   "source": [
    "\n",
    "digit = 3245\n",
    "\n",
    "while digit > 0:\n",
    "    last_digit = digit % 10\n",
    "    digit = digit//10\n",
    "    print(digit)\n"
   ]
  },
  {
   "cell_type": "code",
   "execution_count": 35,
   "metadata": {},
   "outputs": [
    {
     "name": "stdout",
     "output_type": "stream",
     "text": [
      "[1, 2, 3, 4, 5, 6, 7, 8]\n"
     ]
    }
   ],
   "source": [
    "n = 8\n",
    "\n",
    "my_array = [ i for i in range(1,n+1)]\n",
    "\n",
    "\n",
    "for i in range(len(my_array)):\n",
    "\n",
    "print(my_array)"
   ]
  },
  {
   "cell_type": "code",
   "execution_count": 8,
   "metadata": {},
   "outputs": [
    {
     "name": "stdout",
     "output_type": "stream",
     "text": [
      "6 6.0\n"
     ]
    }
   ],
   "source": [
    "n = 8\n",
    "a = ((n**2+n)/2)**0.5\n",
    "assert int(a) == a\n",
    "print(int(a),a)"
   ]
  },
  {
   "cell_type": "code",
   "execution_count": 10,
   "metadata": {},
   "outputs": [
    {
     "name": "stdout",
     "output_type": "stream",
     "text": [
      "()()()\n"
     ]
    }
   ],
   "source": [
    "s = \"(()())(())\"\n",
    "\n",
    "queue = []\n",
    "out_par = 0\n",
    "new_str = \"\"\n",
    "for char in s:\n",
    "    if char == '(':\n",
    "        queue.append(char)\n",
    "        out_par +=1\n",
    "    else:\n",
    "        out_par -=1\n",
    "\n",
    "        if out_par == 0:\n",
    "            queue.pop(0)\n",
    "            my_new_str = ''.join(queue)\n",
    "            new_str += my_new_str\n",
    "            queue = []\n",
    "        else:\n",
    "            queue.append(char)\n",
    "print(new_str)\n",
    "\n"
   ]
  },
  {
   "cell_type": "code",
   "execution_count": 21,
   "metadata": {},
   "outputs": [
    {
     "name": "stdout",
     "output_type": "stream",
     "text": [
      "Yes\n"
     ]
    }
   ],
   "source": [
    "if 'a' < 'b':\n",
    "    print(\"Yes\")\n",
    "else:\n",
    "    print(\"No\")"
   ]
  },
  {
   "cell_type": "code",
   "execution_count": 36,
   "metadata": {},
   "outputs": [
    {
     "name": "stdout",
     "output_type": "stream",
     "text": [
      "0 0 0\n",
      "1 1 0\n",
      "0 1\n",
      "2 1 1\n",
      "3 2 1\n",
      "1 3\n",
      "4 2 2\n",
      "5 3 2\n",
      "2 5\n",
      "axbyczopqer\n"
     ]
    }
   ],
   "source": [
    "# Merge string alternatively\n",
    "\n",
    "str1 = \"abcopqer\"\n",
    "str2 = 'xyz'\n",
    "\n",
    "new_str = \"\"\n",
    "s1 = 0 \n",
    "s2 = 0\n",
    "val = 2 * len(new_str)\n",
    "while s1 < len(str1) and s2 < len(str2):\n",
    "    print(val,s1,s2)\n",
    "    if val%2 ==0:\n",
    "        new_str += str1[s1]\n",
    "        s1+=1\n",
    "    else:\n",
    "        print(s2,val)\n",
    "        new_str += str2[s2]\n",
    "        s2+=1\n",
    "    val+=1\n",
    "\n",
    "while s1 < len(str1):\n",
    "    new_str += str1[s1]\n",
    "    s1+=1\n",
    "\n",
    "while s2 < len(str2):\n",
    "    new_str += str2[s2]\n",
    "    s2+=1\n",
    "\n",
    "print(new_str)\n",
    "\n",
    "\n"
   ]
  }
 ],
 "metadata": {
  "kernelspec": {
   "display_name": "Python 3",
   "language": "python",
   "name": "python3"
  },
  "language_info": {
   "codemirror_mode": {
    "name": "ipython",
    "version": 3
   },
   "file_extension": ".py",
   "mimetype": "text/x-python",
   "name": "python",
   "nbconvert_exporter": "python",
   "pygments_lexer": "ipython3",
   "version": "3.9.6"
  },
  "orig_nbformat": 4
 },
 "nbformat": 4,
 "nbformat_minor": 2
}
