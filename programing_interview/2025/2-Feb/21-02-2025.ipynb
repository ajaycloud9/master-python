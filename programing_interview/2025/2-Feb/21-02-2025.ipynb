{
 "cells": [
  {
   "cell_type": "code",
   "execution_count": 6,
   "metadata": {},
   "outputs": [
    {
     "name": "stdout",
     "output_type": "stream",
     "text": [
      "{'data': 4, 'next': <__main__.Node object at 0x105648af0>}\n",
      "{'data': 3, 'next': <__main__.Node object at 0x105656f40>}\n",
      "{'data': 2, 'next': None}\n"
     ]
    }
   ],
   "source": [
    "class Node:\n",
    "    def __init__(self,data):\n",
    "        self.data = data\n",
    "        self.next = None\n",
    "class LinkList:\n",
    "    def __init__(self):\n",
    "        self.head = None\n",
    "    \n",
    "    def insert_node(self,data):\n",
    "        new_node = Node(data)\n",
    "\n",
    "        if self.head is None:\n",
    "            self.head = new_node\n",
    "        else:\n",
    "            new_node.next = self.head\n",
    "            self.head = new_node\n",
    "\n",
    "test = LinkList()\n",
    "test.insert_node(2)\n",
    "test.insert_node(3)\n",
    "test.insert_node(4)\n",
    "\n",
    "print(test.head.__dict__)\n",
    "print(test.head.next.__dict__)\n",
    "print(test.head.next)\n",
    "print(test.head.next.next.__dict__)\n",
    "\n"
   ]
  }
 ],
 "metadata": {
  "kernelspec": {
   "display_name": "Python 3",
   "language": "python",
   "name": "python3"
  },
  "language_info": {
   "codemirror_mode": {
    "name": "ipython",
    "version": 3
   },
   "file_extension": ".py",
   "mimetype": "text/x-python",
   "name": "python",
   "nbconvert_exporter": "python",
   "pygments_lexer": "ipython3",
   "version": "3.9.6"
  }
 },
 "nbformat": 4,
 "nbformat_minor": 2
}
