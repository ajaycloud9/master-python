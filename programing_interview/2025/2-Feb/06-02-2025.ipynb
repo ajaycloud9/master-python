{
 "cells": [
  {
   "cell_type": "markdown",
   "metadata": {},
   "source": [
    "# Markdown\n",
    "\n",
    "394. Decode String"
   ]
  },
  {
   "cell_type": "code",
   "execution_count": 12,
   "metadata": {},
   "outputs": [
    {
     "name": "stdout",
     "output_type": "stream",
     "text": [
      "[]\n",
      "['3']\n",
      "['3', '[']\n",
      "['3', '[', 'a']\n",
      "['3', '[', 'a', '2']\n",
      "['3', '[', 'a', '2', '[']\n",
      "['3', '[', 'a', '2', '[', 'c']\n",
      "c\n",
      "2\n",
      "['3', '[', 'a', 'cc']\n",
      "cc\n",
      "acc\n",
      "3\n",
      "[] accaccacc\n"
     ]
    }
   ],
   "source": [
    "s = \"3[a2[c]]\"\n",
    "\n",
    "stack = []\n",
    "mystring = []\n",
    "test = \"\"\n",
    "for i in s:\n",
    "    print(stack)\n",
    "    if i != \"]\":\n",
    "        stack.append(i)\n",
    "    else:\n",
    "        substring = \"\"\n",
    "        while stack[-1] != \"[\":\n",
    "            substring = stack.pop() + substring\n",
    "            print(substring)\n",
    "        stack.pop()\n",
    "        multiplier = \"\"\n",
    "        while stack and stack[-1].isdigit():\n",
    "            multiplier+=stack.pop()\n",
    "            print(multiplier)\n",
    "\n",
    "        stack.append(int(multiplier) * substring)\n",
    "test += int(multiplier) * substring\n",
    "print(mystring,test)\n"
   ]
  },
  {
   "cell_type": "code",
   "execution_count": 21,
   "metadata": {},
   "outputs": [
    {
     "name": "stdout",
     "output_type": "stream",
     "text": [
      "-2999 1\n",
      "1 deque([1])\n",
      "-2900 100\n",
      "2 deque([1, 100])\n",
      "1 3001\n",
      "3 deque([1, 100, 3001])\n",
      "2 3002\n",
      "3 deque([100, 3001, 3002])\n",
      "100 3100\n",
      "4 deque([100, 3001, 3002, 3100])\n",
      "1001 4001\n",
      "4 deque([3001, 3002, 3100, 4001])\n",
      "7000 10000\n",
      "1 deque([10000])\n"
     ]
    }
   ],
   "source": [
    "# Check the number of  \n",
    "from collections import deque\n",
    "mylist = [0,1,2,12]\n",
    "\n",
    "# [[],[1],[100],[3001],[3002]]\n",
    "# [\"RecentCounter\",\"ping\",\"ping\",\"ping\",\"ping\"]\n",
    "\n",
    "myqueue = deque()\n",
    "\n",
    "val = [1,100,3001,3002,3100,4001,10000]\n",
    "for item in val:\n",
    "    start = item - 3000\n",
    "    end = item\n",
    "    myqueue.append(item)\n",
    "    while myqueue and start > myqueue[0]:\n",
    "        myqueue.popleft()\n",
    "    print(len(myqueue),myqueue)\n",
    "\n",
    "\n"
   ]
  }
 ],
 "metadata": {
  "kernelspec": {
   "display_name": "Python 3",
   "language": "python",
   "name": "python3"
  },
  "language_info": {
   "codemirror_mode": {
    "name": "ipython",
    "version": 3
   },
   "file_extension": ".py",
   "mimetype": "text/x-python",
   "name": "python",
   "nbconvert_exporter": "python",
   "pygments_lexer": "ipython3",
   "version": "3.9.6"
  }
 },
 "nbformat": 4,
 "nbformat_minor": 2
}
