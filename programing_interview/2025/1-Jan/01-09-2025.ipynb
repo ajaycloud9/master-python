{
 "cells": [
  {
   "cell_type": "markdown",
   "metadata": {},
   "source": [
    "2185. Counting Words With a Given Prefix\n",
    "\n",
    "Input: words = [\"pay\",\"attention\",\"practice\",\"attend\"], pref = \"at\"\n",
    "Output: 2\n",
    "Explanation: The 2 strings that contain \"at\" as a prefix are: \"attention\" and \"attend\"."
   ]
  },
  {
   "cell_type": "code",
   "execution_count": 3,
   "metadata": {},
   "outputs": [
    {
     "name": "stdout",
     "output_type": "stream",
     "text": [
      "2\n"
     ]
    }
   ],
   "source": [
    "words = [\"pay\",\"attention\",\"practice\",\"attend\"]\n",
    "pref = \"at\"\n",
    "counter = 0\n",
    "\n",
    "for i in range(len(words)):\n",
    "    if pref == words[i][0:len(pref)]:\n",
    "        counter+=1\n",
    "print(counter)"
   ]
  },
  {
   "cell_type": "markdown",
   "metadata": {},
   "source": [
    "2255. Count Prefixes of a Given String\n",
    "\n",
    "You are given a string array words and a string s, where words[i] and s comprise only of lowercase English letters.\n",
    "\n",
    "Return the number of strings in words that are a prefix of s.\n",
    "\n",
    "Example 1:\n",
    "\n",
    "Input: words = [\"a\",\"b\",\"c\",\"ab\",\"bc\",\"abc\"], s = \"abc\"\n",
    "Output: 3\n",
    "Explanation:\n",
    "The strings in words which are a prefix of s = \"abc\" are:\n",
    "\"a\", \"ab\", and \"abc\".\n",
    "Thus the number of strings in words which are a prefix of s is 3."
   ]
  },
  {
   "cell_type": "code",
   "execution_count": 37,
   "metadata": {},
   "outputs": [
    {
     "name": "stdout",
     "output_type": "stream",
     "text": [
      "f w\n",
      "w w\n",
      "Entering If\n",
      "w w\n",
      "1 1\n",
      "w w\n",
      "Entering If\n",
      "w w\n",
      "2 2\n",
      "l w\n",
      "c w\n",
      "s w\n",
      "v w\n",
      "z w\n",
      "n w\n",
      "w w\n",
      "Entering If\n",
      "w w\n",
      "3 9\n",
      "s w\n",
      "q w\n",
      "w w\n",
      "Entering If\n",
      "w w\n",
      "4 12\n",
      "w w\n",
      "Entering If\n",
      "w w\n",
      "5 13\n",
      "m w\n",
      "w w\n",
      "Entering If\n",
      "w w\n",
      "6 15\n",
      "w w\n",
      "Entering If\n",
      "w w\n",
      "7 16\n",
      "w w\n",
      "Entering If\n",
      "w w\n",
      "8 17\n",
      "g w\n",
      "w w\n",
      "Entering If\n",
      "w w\n",
      "9 19\n",
      "q w\n",
      "x w\n",
      "b w\n",
      "w w\n",
      "Entering If\n",
      "w w\n",
      "10 23\n",
      "r w\n",
      "w w\n",
      "g w\n",
      "w w\n",
      "Entering If\n",
      "w w\n",
      "11 27\n",
      "w w\n",
      "Entering If\n",
      "w w\n",
      "12 28\n",
      "f w\n",
      "w w\n",
      "Entering If\n",
      "w w\n",
      "13 30\n",
      "w w\n",
      "Entering If\n",
      "w w\n",
      "14 31\n",
      "s w\n",
      "14\n"
     ]
    }
   ],
   "source": [
    "pref = [\"feh\",\"w\",\"w\",\"lwd\",\"c\",\"s\",\"vk\",\"zwlv\",\"n\",\"w\",\"sw\",\"qrd\",\"w\",\"w\",\"mqe\",\"w\",\"w\",\"w\",\"gb\",\"w\",\"qy\",\"xs\",\"br\",\"w\",\"rypg\",\"wh\",\"g\",\"w\",\"w\",\"fh\",\"w\",\"w\",\"sccy\"]\n",
    "word = \"w\"\n",
    "\n",
    "# pref = [\"a\",\"b\",\"c\",\"ab\",\"bc\",\"abc\"]\n",
    "# word = \"abc\"\n",
    "# We need to check is pref[i] is a sub-string of word\n",
    "# Simple: len(prefix[i]) <= len(word)  \n",
    "# look_up_table = {}\n",
    "# for i in pref:\n",
    "#     look_up_table[i] = look_up_table.get(i,0) + 1\n",
    "# print(look_up_table)\n",
    "counter = 0\n",
    "for i, char in enumerate(pref):\n",
    "    word_len = len(word)\n",
    "    pref_len = len(char)\n",
    "    print(char[0:word_len], word[0:pref_len])\n",
    "    if len(pref[i]) <= word_len and char[0:word_len] == word[0:pref_len]:\n",
    "        print(\"Entering If\")\n",
    "        print(char[0:word_len], word[0:pref_len])\n",
    "        counter+=1\n",
    "        print(counter, i)\n",
    "print(counter)"
   ]
  },
  {
   "cell_type": "code",
   "execution_count": 39,
   "metadata": {},
   "outputs": [
    {
     "name": "stdout",
     "output_type": "stream",
     "text": [
      "w\n",
      "14\n"
     ]
    }
   ],
   "source": [
    "words = [\"feh\",\"w\",\"w\",\"lwd\",\"c\",\"s\",\"vk\",\"zwlv\",\"n\",\"w\",\"sw\",\"qrd\",\"w\",\"w\",\"mqe\",\"w\",\"w\",\"w\",\"gb\",\"w\",\"qy\",\"xs\",\"br\",\"w\",\"rypg\",\"wh\",\"g\",\"w\",\"w\",\"fh\",\"w\",\"w\",\"sccy\"]\n",
    "s = \"w\"\n",
    "\n",
    "cnt = 0  # 🔢 Initialize counter\n",
    "for word in words:\n",
    "    # ⚡ Check if the word is a prefix of s\n",
    "    if s[:len(word)] == word:\n",
    "        cnt += 1  # ✅ Increment count for a match\n",
    "print(s[:100])\n",
    "print(cnt)"
   ]
  },
  {
   "cell_type": "markdown",
   "metadata": {},
   "source": [
    "1. Can you make square from this array?\n",
    "\n",
    "[1,1,1,1,2,2,2,2] —> Yes [1,2]\n",
    "\n",
    "[3,1,3,1,1,1,1,1] —→ 4 X 3 can be made return 3"
   ]
  },
  {
   "cell_type": "markdown",
   "metadata": {},
   "source": [
    "1. Return first in max occurrence and then lexicologically order\n",
    "\n",
    " [bb11,bb11,aa22,aa22,a22,b33,a33,d33] —> Return [b11,b11,b11,a22,a22,a33,b33,d33]"
   ]
  },
  {
   "cell_type": "code",
   "execution_count": null,
   "metadata": {},
   "outputs": [],
   "source": [
    "\n",
    "\n"
   ]
  }
 ],
 "metadata": {
  "kernelspec": {
   "display_name": "Python 3",
   "language": "python",
   "name": "python3"
  },
  "language_info": {
   "codemirror_mode": {
    "name": "ipython",
    "version": 3
   },
   "file_extension": ".py",
   "mimetype": "text/x-python",
   "name": "python",
   "nbconvert_exporter": "python",
   "pygments_lexer": "ipython3",
   "version": "3.9.6"
  }
 },
 "nbformat": 4,
 "nbformat_minor": 2
}
