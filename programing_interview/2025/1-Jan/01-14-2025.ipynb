{
 "cells": [
  {
   "cell_type": "markdown",
   "metadata": {},
   "source": [
    "2657. Find the Prefix Common Array of Two Arrays\n",
    "Input: A = [1,3,2,4], B = [3,1,2,4]\n",
    "Output: [0,2,3,4]"
   ]
  },
  {
   "cell_type": "code",
   "execution_count": 11,
   "metadata": {},
   "outputs": [
    {
     "name": "stdout",
     "output_type": "stream",
     "text": [
      "[1]\n"
     ]
    }
   ],
   "source": [
    "A = [1]\n",
    "B = [1]\n",
    "look_up_table = {}\n",
    "total_seen = 0\n",
    "output = []\n",
    "for i in range(len(A)):\n",
    "    if A[i] == B[i]:\n",
    "        total_seen+=1\n",
    "        output.append(total_seen)\n",
    "        continue\n",
    "    # Add to the lookup table\n",
    "    look_up_table[A[i]] = look_up_table.get(A[i],-1) + 1\n",
    "    look_up_table[B[i]] = look_up_table.get(B[i],-1) + 1\n",
    "\n",
    "    if i !=0 and look_up_table.get(A[i]) > 0:\n",
    "        total_seen+=1\n",
    "    if i !=0 and look_up_table.get(B[i]) > 0:\n",
    "        total_seen+=1\n",
    "    output.append(total_seen)\n",
    "    \n",
    "print(output)\n",
    "\n"
   ]
  },
  {
   "cell_type": "code",
   "execution_count": 12,
   "metadata": {},
   "outputs": [
    {
     "name": "stdout",
     "output_type": "stream",
     "text": [
      "True\n"
     ]
    }
   ],
   "source": [
    "candy = 8\n",
    "extraCandies = 10\n",
    "max_candy = 20\n",
    "\n",
    "print(max_candy >= candy+extraCandies)"
   ]
  }
 ],
 "metadata": {
  "kernelspec": {
   "display_name": "Python 3",
   "language": "python",
   "name": "python3"
  },
  "language_info": {
   "codemirror_mode": {
    "name": "ipython",
    "version": 3
   },
   "file_extension": ".py",
   "mimetype": "text/x-python",
   "name": "python",
   "nbconvert_exporter": "python",
   "pygments_lexer": "ipython3",
   "version": "3.9.6"
  }
 },
 "nbformat": 4,
 "nbformat_minor": 2
}
