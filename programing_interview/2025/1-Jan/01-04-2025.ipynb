{
 "cells": [
  {
   "cell_type": "markdown",
   "metadata": {},
   "source": [
    "#### Intersection of Two Arrays II\n",
    "Input: nums1 = [1,2,2,1], nums2 = [2,2]\n",
    "Output: [2,2]\n",
    "\n",
    "Problem link: https://leetcode.com/explore/interview/card/top-interview-questions-easy/92/array/674/"
   ]
  },
  {
   "cell_type": "markdown",
   "metadata": {},
   "source": [
    "# Thoughprocess\n",
    "\n",
    "I am thiking on creating a dictionary whichever len of the list is small is going to act as look table. \n",
    "Now will iterate over the other list and, will store the elements which are common.  "
   ]
  },
  {
   "cell_type": "code",
   "execution_count": 5,
   "metadata": {},
   "outputs": [
    {
     "name": "stdout",
     "output_type": "stream",
     "text": [
      "[2, 2, 1, 1, 3]\n"
     ]
    }
   ],
   "source": [
    "# Solution - 1\n",
    "\n",
    "nums1 = [1,2,2,1,3,3]\n",
    "nums2 = [2,2,1,1,1,1,1,3]\n",
    "\n",
    "look_up_table = {}\n",
    "\n",
    "def fill_table(nums_list):\n",
    "    \n",
    "    for i in nums_list:\n",
    "        # Increase the frequency counter for the element\n",
    "        look_up_table[i] = look_up_table.get(i,0) + 1\n",
    "\n",
    "def intersection_list(nums_list):\n",
    "    my_overlap = []\n",
    "    for i in nums_list:\n",
    "        if i in look_up_table and look_up_table[i] > 0:\n",
    "            look_up_table[i] = look_up_table.get(i) - 1\n",
    "            my_overlap.append(i)\n",
    "    return my_overlap    \n",
    "\n",
    "if len(nums1) < len(nums2):\n",
    "    fill_table(nums1)\n",
    "    print(intersection_list(nums2))\n",
    "else:\n",
    "    fill_table(nums2)\n",
    "    print(intersection_list(nums1))\n"
   ]
  },
  {
   "cell_type": "markdown",
   "metadata": {},
   "source": [
    " ### Plus One\n",
    "Input: digits = [1,2,3]\n",
    "Output: [1,2,4]\n",
    "Explanation: The array represents the integer 123.\n",
    "Incrementing by one gives 123 + 1 = 124.\n",
    "Thus, the result should be [1,2,4].\n",
    "\n",
    "Problem link: https://leetcode.com/explore/interview/card/top-interview-questions-easy/92/array/559/"
   ]
  },
  {
   "cell_type": "markdown",
   "metadata": {},
   "source": [
    "# Brainstorm\n",
    "I am thinking to convert these number to an interger and, then add the returned number + 1; Then again make those intergers into an array. \n",
    "\n",
    "Idea is to use mathmatical calucations Nums * 10 and, then nums % 10 (overall leftover or remainder after the division)"
   ]
  },
  {
   "cell_type": "code",
   "execution_count": 29,
   "metadata": {},
   "outputs": [
    {
     "name": "stdout",
     "output_type": "stream",
     "text": [
      "[1, 2, 4]\n"
     ]
    }
   ],
   "source": [
    "digits = [1,2,3]\n",
    "\n",
    "def integer_to_array(nums_list):\n",
    "    actual_num = 0\n",
    "    power = 0\n",
    "    for i in range(len(nums_list)-1,-1,-1):\n",
    "        actual_num = actual_num + ((10**power) * nums_list[i])\n",
    "        power+=1\n",
    "    return actual_num\n",
    "\n",
    "digitPlusOne = integer_to_array(digits) + 1\n",
    "\n",
    "def array_to_integer(digitPlusOne):\n",
    "    new_array = []\n",
    "    while digitPlusOne > 0:\n",
    "        leftover = digitPlusOne % 10\n",
    "        digitPlusOne = digitPlusOne // 10\n",
    "        # new_array.append(leftover)\n",
    "        new_array.insert(0,leftover)\n",
    "    # print(new_array)\n",
    "    # reverse_array = reversed(new_array)\n",
    "    # return reverse_array\n",
    "    return new_array\n",
    "\n",
    "# test = array_to_integer(digitPlusOne)\n",
    "# print(list(test))\n",
    "print(array_to_integer(digitPlusOne))\n",
    "\n"
   ]
  },
  {
   "cell_type": "markdown",
   "metadata": {},
   "source": [
    "### Move Zeroes\n",
    "nums = [0,1,0,3,12]\n",
    "Given an integer array nums, move all 0's to the end of it while maintaining the relative order of the non-zero elements.\n",
    "\n",
    "Note that you must do this in-place without making a copy of the array.\n",
    "\n",
    "Problem link: https://leetcode.com/explore/interview/card/top-interview-questions-easy/92/array/567/"
   ]
  },
  {
   "cell_type": "markdown",
   "metadata": {},
   "source": [
    "### Brainstorm\n",
    "\n"
   ]
  },
  {
   "cell_type": "code",
   "execution_count": 1,
   "metadata": {},
   "outputs": [
    {
     "name": "stdout",
     "output_type": "stream",
     "text": [
      "[1, 2, 3, 4, 0, 0]\n"
     ]
    }
   ],
   "source": [
    "nums = [1,0,2,3,0,4]\n",
    "\n",
    "for i in range(len(nums)):\n",
    "    if nums[i] == 0:\n",
    "        j = i\n",
    "        while j < len(nums)-1:\n",
    "            nums[j], nums[j+1] = nums[j+1], nums[j]\n",
    "            j+=1\n",
    "print(nums)\n",
    "        \n"
   ]
  },
  {
   "cell_type": "markdown",
   "metadata": {},
   "source": [
    "# Two Sum\n",
    "Input: nums = [2,7,11,15], target = 9\n",
    "Output: [0,1]\n",
    "Explanation: Because nums[0] + nums[1] == 9, we return [0, 1]."
   ]
  },
  {
   "cell_type": "code",
   "execution_count": 5,
   "metadata": {},
   "outputs": [
    {
     "name": "stdout",
     "output_type": "stream",
     "text": [
      "3 0 4\n"
     ]
    }
   ],
   "source": [
    "look_up_diff = {}\n",
    "\n",
    "nums = [1,4,5,6,3,2]\n",
    "target = 4\n",
    "\n",
    "for i in range(len(nums)):\n",
    "    if nums[i] not in look_up_diff:\n",
    "        # key 9-2: 0\n",
    "        look_up_diff[target - nums[i]] = i\n",
    "    else:\n",
    "        # element combination found\n",
    "        print(nums[i], look_up_diff[nums[i]],i)\n"
   ]
  },
  {
   "cell_type": "code",
   "execution_count": 15,
   "metadata": {},
   "outputs": [
    {
     "name": "stdout",
     "output_type": "stream",
     "text": [
      "['', '', 'world', '', '', '', 'hello', '', '']\n",
      "world hello\n",
      "xy\n"
     ]
    }
   ],
   "source": [
    "s = \"  hello    world  \"\n",
    "\n",
    "list_of_str = s.split(' ')\n",
    "end = len(list_of_str)-1\n",
    "for i in range(len(list_of_str)//2):\n",
    "    list_of_str[i],list_of_str[end] = list_of_str[end],list_of_str[i]\n",
    "    end-=1\n",
    "print(list_of_str)\n",
    "\n",
    "reverse_str = ''\n",
    "for word in list_of_str:\n",
    "    if word:\n",
    "        reverse_str+= word + \" \"\n",
    "print(reverse_str[:-1])\n",
    "\n",
    "\n",
    "test = \"xyz\"\n",
    "print(test[:-1])\n"
   ]
  },
  {
   "cell_type": "code",
   "execution_count": 21,
   "metadata": {},
   "outputs": [
    {
     "name": "stdout",
     "output_type": "stream",
     "text": [
      "24\n",
      "12\n",
      "8\n",
      "6\n"
     ]
    }
   ],
   "source": [
    "# 238. Product of Array Except Self\n",
    "nums = [1,2,3,4]\n",
    "\n",
    "for i in range(len(nums)):\n",
    "    product = 1\n",
    "    for j in range(len(nums)):\n",
    "        if i ==j:\n",
    "            continue\n",
    "        product *= nums[j]\n",
    "    print(product)\n",
    "\n"
   ]
  },
  {
   "cell_type": "code",
   "execution_count": 31,
   "metadata": {},
   "outputs": [
    {
     "name": "stdout",
     "output_type": "stream",
     "text": [
      "[1, 2, 4, 12]\n",
      "[1, 2, 4, 12]\n",
      "[1, 2, 16, 12]\n",
      "[1, 24, 16, 12]\n",
      "[24, 24, 16, 12]\n"
     ]
    }
   ],
   "source": [
    "nums = [2,2,3,4]\n",
    "\n",
    "output = [1]\n",
    "\n",
    "product = 1\n",
    "for i in range(len(nums)-1):\n",
    "    product *= nums[i]\n",
    "    output.append(product)\n",
    "\n",
    "post_product = 1\n",
    "for i in range(len(nums)-1,-1,-1):\n",
    "    output[i] = post_product * output[i]\n",
    "    post_product *= nums[i]\n"
   ]
  },
  {
   "cell_type": "markdown",
   "metadata": {},
   "source": [
    "### 3 Triplet Sub-sequence"
   ]
  },
  {
   "cell_type": "code",
   "execution_count": 43,
   "metadata": {},
   "outputs": [],
   "source": [
    "nums = [5,3,0,3,1,-1,2]\n",
    "\n",
    "# Subarray\n",
    "window = 3\n",
    "\n",
    "for i in range(1,len(nums)-1):\n",
    "    if nums[i-1] < nums[i] and nums[i] < nums[i+1]:\n",
    "        print(nums[i-1], nums[i],nums[i+1])\n"
   ]
  },
  {
   "cell_type": "code",
   "execution_count": 63,
   "metadata": {},
   "outputs": [
    {
     "name": "stdout",
     "output_type": "stream",
     "text": [
      "Not Found the triplet 1 2 1\n"
     ]
    }
   ],
   "source": [
    "first_pos_inf = float('inf')\n",
    "second_pos_inf = float('inf')\n",
    "\n",
    "array = [1,2,2,1]\n",
    "triplet_sub_sequence = [0,0,0]\n",
    "for i in range(len(array)):\n",
    "    if first_pos_inf > array[i]:\n",
    "        first_pos_inf = array[i]\n",
    "    elif second_pos_inf > array[i] and first_pos_inf != array[i]:\n",
    "        second_pos_inf = array[i]\n",
    "    else:\n",
    "        # Here I am check strictly increasing order\n",
    "        if first_pos_inf == array[i] or second_pos_inf == array[i]:\n",
    "            continue\n",
    "        print(\"Found the triplet\", first_pos_inf,second_pos_inf,array[i])\n",
    "print(\"Not Found the triplet\", first_pos_inf,second_pos_inf,array[i])"
   ]
  },
  {
   "cell_type": "code",
   "execution_count": 65,
   "metadata": {},
   "outputs": [
    {
     "name": "stdout",
     "output_type": "stream",
     "text": [
      "Not Found the triplet 1 inf 1\n"
     ]
    }
   ],
   "source": [
    "first_pos_inf = float('inf')\n",
    "second_pos_inf = float('inf')\n",
    "\n",
    "array = [1,1,1]\n",
    "triplet_sub_sequence = [0,0,0]\n",
    "for i in range(len(array)):\n",
    "    if first_pos_inf >= array[i]:\n",
    "        first_pos_inf = array[i]\n",
    "    elif second_pos_inf >= array[i]:\n",
    "        second_pos_inf = array[i]\n",
    "    else:\n",
    "        print(\"Found the triplet\", first_pos_inf,second_pos_inf,array[i])\n",
    "print(\"Not Found the triplet\", first_pos_inf,second_pos_inf,array[i])"
   ]
  },
  {
   "cell_type": "markdown",
   "metadata": {},
   "source": [
    "\n"
   ]
  },
  {
   "cell_type": "code",
   "execution_count": null,
   "metadata": {},
   "outputs": [],
   "source": []
  },
  {
   "cell_type": "code",
   "execution_count": 81,
   "metadata": {},
   "outputs": [
    {
     "name": "stdout",
     "output_type": "stream",
     "text": [
      "['a', 'b', 'b', 'b', 'b', 'b', 'b', 'b', 'b', 'b', 'b', 'b', 'b', '']\n",
      "ab12\n",
      "['a', 'b', '1', '2']\n",
      "4\n"
     ]
    }
   ],
   "source": [
    "chars = [\"a\",\"b\",\"b\",\"b\",\"b\",\"b\",\"b\",\"b\",\"b\",\"b\",\"b\",\"b\",\"b\"]\n",
    "chars = chars + [\"\"]\n",
    "print(chars)\n",
    "string = \"\"\n",
    "count=1\n",
    "for i in range(len(chars)-1):\n",
    "    if chars[i] != chars[i+1]:\n",
    "        if count > 1:\n",
    "            string += chars[i] + str(count)\n",
    "        else:\n",
    "            string += chars[i]\n",
    "        count = 0\n",
    "    count+=1\n",
    "    \n",
    "# print(string + chars[len(chars)-1] +str(count))\n",
    "print(string)\n",
    "print(list(string))\n",
    "print(len(string))"
   ]
  },
  {
   "cell_type": "markdown",
   "metadata": {},
   "source": [
    "2661. First Completely Painted Row or Column"
   ]
  },
  {
   "cell_type": "code",
   "execution_count": 96,
   "metadata": {},
   "outputs": [
    {
     "name": "stdout",
     "output_type": "stream",
     "text": [
      "1 1\n",
      "1 1\n",
      "0 2\n",
      "2 0\n",
      "===========\n",
      "1 0\n",
      "1 2\n",
      "1 0\n"
     ]
    }
   ],
   "source": [
    "matrix = [[1,0],[1,2],[1,0]]\n",
    "\n",
    "# Checking if any column has same elements\n",
    "# Wanted to check if any of the columns has same element ?\n",
    "\n",
    "#Expecting it to iterate - 2 times in columns(0,1)\n",
    "for column in range(len(matrix[0])):\n",
    "    for row in range(len(matrix)-1):\n",
    "        print(matrix[row][column],matrix[row+1][column]) # Comparing the next column\n",
    "\n",
    "print(\"===========\")\n",
    "for column in range(len(matrix[0])-1):\n",
    "    for row in range(len(matrix)):\n",
    "        print(matrix[row][column], matrix[row][column+1])\n",
    "\n",
    "\n",
    "# Iterate over columns\n",
    "# for col in range(len(matrix[0])):  # Iterate through each column (0th column, 1st column, ...)\n",
    "#     same_elements = True  # Flag to track if all elements in the current column are the same\n",
    "#     for row in range(1, len(matrix)):\n",
    "#         print(matrix[row][col],matrix[row-1][col])\n",
    "\n",
    "\n",
    "https://leetcode.com/problems/first-completely-painted-row-or-column/?envType=daily-question&envId=2025-01-20"
   ]
  },
  {
   "cell_type": "code",
   "execution_count": 97,
   "metadata": {},
   "outputs": [
    {
     "name": "stdout",
     "output_type": "stream",
     "text": [
      "[1, 3, 2, 5, 0, 0]\n"
     ]
    }
   ],
   "source": [
    "array = [1,0,0,3,2,5]\n",
    "\n",
    "non_zero = 0\n",
    "\n",
    "for i in range(len(array)):\n",
    "\n",
    "    if array[i] != 0:\n",
    "        \n",
    "        array[i], array[non_zero] = array[non_zero], array[i]\n",
    "        non_zero+=1\n",
    "print(array)"
   ]
  },
  {
   "cell_type": "code",
   "execution_count": 105,
   "metadata": {},
   "outputs": [
    {
     "name": "stdout",
     "output_type": "stream",
     "text": [
      "True\n",
      "0\n",
      "Empty Strings\n"
     ]
    }
   ],
   "source": [
    "s = \"b\"\n",
    "t = \"ahbgdc\"\n",
    "\n",
    "len_sub = 0\n",
    "for char in range(len(t)):\n",
    "    if  len_sub < len(s) and t[char] == s[len_sub]:\n",
    "        len_sub+=1\n",
    "print(len_sub == len(s))\n",
    "\n",
    "\n",
    "\n",
    "xyz = \"\"\n",
    "\n",
    "print(len(xyz))\n",
    "\n",
    "if not xyz:\n",
    "    print(\"Empty Strings\")\n"
   ]
  },
  {
   "cell_type": "code",
   "execution_count": 113,
   "metadata": {},
   "outputs": [
    {
     "name": "stdout",
     "output_type": "stream",
     "text": [
      "49\n"
     ]
    }
   ],
   "source": [
    "height = [1,8,6,2,5,4,8,3,7]\n",
    "\n",
    "# width = 0\n",
    "# height = [1,2]\n",
    "min_vol = -1\n",
    "for i in range(len(height)):\n",
    "    for j in range(i+1,len(height)):\n",
    "        actual_height = min(height[i],height[j])\n",
    "        width = j-i\n",
    "        container_vol = (actual_height * width)\n",
    "        if min_vol < container_vol:\n",
    "            min_vol = container_vol\n",
    "print(min_vol)\n",
    "\n",
    "\n"
   ]
  },
  {
   "cell_type": "code",
   "execution_count": 122,
   "metadata": {},
   "outputs": [
    {
     "name": "stdout",
     "output_type": "stream",
     "text": [
      "0 1 1\n",
      "1\n"
     ]
    }
   ],
   "source": [
    "height = [1,1]\n",
    "\n",
    "l = 0\n",
    "r = len(height)-1\n",
    "max_area = -1\n",
    "while l < r:\n",
    "    width = r-l\n",
    "    print(l,r,width)\n",
    "    if height[l] < height[r]:\n",
    "        container_vol = width * height[l]\n",
    "        l+=1\n",
    "    else:\n",
    "        container_vol = width * height[r]\n",
    "        r-=1\n",
    "    max_area = max(max_area, container_vol)\n",
    "print(max_area)"
   ]
  },
  {
   "cell_type": "code",
   "execution_count": 124,
   "metadata": {},
   "outputs": [
    {
     "name": "stdout",
     "output_type": "stream",
     "text": [
      "{1: 0}\n",
      "{1: 0, 2: 1}\n",
      "2\n"
     ]
    }
   ],
   "source": [
    "nums = [1,2,3,4]\n",
    "k = 5\n",
    "\n",
    "look_up_table = {}\n",
    "\n",
    "pairs = 0\n",
    "for i in range(len(nums)):\n",
    "    target = k - nums[i]\n",
    "    if target not in look_up_table:\n",
    "        look_up_table[nums[i]] = look_up_table.get(nums[i],i)\n",
    "        print(look_up_table)\n",
    "    else:\n",
    "        pairs+=1\n",
    "print(pairs)"
   ]
  },
  {
   "cell_type": "markdown",
   "metadata": {},
   "source": [
    "1679. Max Number of K-Sum Pairs"
   ]
  },
  {
   "cell_type": "code",
   "execution_count": 128,
   "metadata": {},
   "outputs": [
    {
     "name": "stdout",
     "output_type": "stream",
     "text": [
      "[3, 3, 3, 3]\n",
      "3 3 0 3\n",
      "3 3 1 2\n",
      "2\n"
     ]
    }
   ],
   "source": [
    "nums = [3,3,3,3] \n",
    "k = 6\n",
    "\n",
    "nums.sort()\n",
    "print(nums)\n",
    "\n",
    "l = 0\n",
    "r = len(nums)-1\n",
    "pairs = 0\n",
    "while l < r:\n",
    "    total = nums[l] + nums[r]\n",
    "\n",
    "    if total < k:\n",
    "        l+=1\n",
    "    elif total > k:\n",
    "        r-=1\n",
    "    else:\n",
    "        pairs+=1\n",
    "        print(nums[l],nums[r],l,r)\n",
    "        l+=1\n",
    "        r-=1\n",
    "print(pairs)\n"
   ]
  }
 ],
 "metadata": {
  "kernelspec": {
   "display_name": "Python 3",
   "language": "python",
   "name": "python3"
  },
  "language_info": {
   "codemirror_mode": {
    "name": "ipython",
    "version": 3
   },
   "file_extension": ".py",
   "mimetype": "text/x-python",
   "name": "python",
   "nbconvert_exporter": "python",
   "pygments_lexer": "ipython3",
   "version": "3.9.6"
  }
 },
 "nbformat": 4,
 "nbformat_minor": 2
}
