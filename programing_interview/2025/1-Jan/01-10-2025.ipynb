{
 "cells": [
  {
   "cell_type": "markdown",
   "metadata": {},
   "source": [
    "916. Word Subsets\n",
    "\n",
    "Input: words1 = [\"amazon\",\"apple\",\"facebook\",\"google\",\"leetcode\"], words2 = [\"e\",\"o\"]\n",
    "Output: [\"facebook\",\"google\",\"leetcode\"]"
   ]
  },
  {
   "cell_type": "code",
   "execution_count": 21,
   "metadata": {},
   "outputs": [
    {
     "name": "stdout",
     "output_type": "stream",
     "text": [
      "['warriors', 'rrraw', 'exwarrr']\n"
     ]
    }
   ],
   "source": [
    "# Brute force it\n",
    "\n",
    "# words1 = [\"amazon\",\"apple\",\"facebook\",\"google\",\"leetcode\"]\n",
    "# words2 = [\"o\",\"e\"]\n",
    "words1 = [\"warriors\", \"rrraw\", \"exwarrr\", \"rrw\"]\n",
    "words2 = [\"w\",\"arr\",\"r\"]\n",
    "\n",
    "\n",
    "def fill_lookup_table (word):\n",
    "    look_up_table={}\n",
    "    for letter in word:\n",
    "        look_up_table[letter] = look_up_table.get(letter,0) +1\n",
    "    return look_up_table\n",
    "\n",
    "\n",
    "universal_list = []\n",
    "\n",
    "for word in words1:\n",
    "    temp_look_up_table = fill_lookup_table(word)\n",
    "    flag = True\n",
    "    for letter in words2:\n",
    "        temp_word_table = fill_lookup_table(letter)\n",
    "        for key, val in temp_word_table.items():\n",
    "            if temp_look_up_table.get(key) is not None and temp_look_up_table.get(key) >= temp_word_table.get(key):\n",
    "                continue\n",
    "            else:\n",
    "                flag = False\n",
    "                break\n",
    "    if flag:\n",
    "        universal_list.append(word)\n",
    "\n",
    "print(universal_list)\n"
   ]
  },
  {
   "cell_type": "code",
   "execution_count": 23,
   "metadata": {},
   "outputs": [
    {
     "name": "stdout",
     "output_type": "stream",
     "text": [
      "Counter({'w': 1})\n",
      "Counter({'r': 2, 'a': 1})\n",
      "Counter({'r': 1})\n",
      "['warriors', 'rrraw', 'exwarrr']\n"
     ]
    }
   ],
   "source": [
    "from collections import Counter\n",
    "words1 = [\"warriors\", \"rrraw\", \"exwarrr\", \"rrw\"]\n",
    "words2 = [\"w\",\"arr\",\"r\"]\n",
    "\n",
    "\n",
    " # Step 1: Create the frequency map for all words in words2\n",
    "# This map will keep the maximum frequency of each character needed\n",
    "required_freq = Counter()\n",
    "\n",
    "# Traverse through all words in words2 and update the required frequency map\n",
    "for word in words2:\n",
    "    word_freq = Counter(word)\n",
    "    print(word_freq)\n",
    "    for char, count in word_freq.items():\n",
    "        required_freq[char] = max(required_freq[char], count)\n",
    "\n",
    "# Step 2: Check each word in words1\n",
    "result = []\n",
    "for word in words1:\n",
    "    word_freq = Counter(word)\n",
    "    # Check if the word meets the frequency requirements\n",
    "    if all(word_freq[char] >= required_freq[char] for char in required_freq):\n",
    "        result.append(word)\n",
    "\n",
    "print(result)\n"
   ]
  },
  {
   "cell_type": "code",
   "execution_count": null,
   "metadata": {},
   "outputs": [],
   "source": []
  }
 ],
 "metadata": {
  "kernelspec": {
   "display_name": "Python 3",
   "language": "python",
   "name": "python3"
  },
  "language_info": {
   "codemirror_mode": {
    "name": "ipython",
    "version": 3
   },
   "file_extension": ".py",
   "mimetype": "text/x-python",
   "name": "python",
   "nbconvert_exporter": "python",
   "pygments_lexer": "ipython3",
   "version": "3.9.6"
  }
 },
 "nbformat": 4,
 "nbformat_minor": 2
}
