{
 "cells": [
  {
   "cell_type": "markdown",
   "metadata": {},
   "source": [
    "Input: flowerbed = [1,0,0,0,1], n = 1\n",
    "Output: true"
   ]
  },
  {
   "cell_type": "code",
   "execution_count": 14,
   "metadata": {},
   "outputs": [
    {
     "name": "stdout",
     "output_type": "stream",
     "text": [
      "0 0 0\n",
      "[0, 1, 0, 1, 0, 1, 0, 0, 0]\n",
      "[1, 0, 1, 0, 1, 0, 0]\n",
      "-1\n"
     ]
    }
   ],
   "source": [
    "flowerbed = [0,0,1,0,1,0,0]\n",
    "flowerbed = [0] + flowerbed + [0]\n",
    "\n",
    "n = 0\n",
    "\n",
    "for i in range(1,len(flowerbed)-1):\n",
    "    if flowerbed[i] == 0 and flowerbed[i-1] !=1 and flowerbed[i+1] != 1:\n",
    "        # plant the flower at this location\n",
    "        print(flowerbed[i-1],flowerbed[i],flowerbed[i+1])\n",
    "        flowerbed[i] = 1\n",
    "        print(flowerbed)\n",
    "        n-=1\n",
    "        if n <= 0:\n",
    "            break\n",
    "print(flowerbed[1:len(flowerbed)-1])\n",
    "print(n)"
   ]
  },
  {
   "cell_type": "code",
   "execution_count": 23,
   "metadata": {},
   "outputs": [
    {
     "name": "stdout",
     "output_type": "stream",
     "text": [
      "['I', 'c', 'e', 'C', 'r', 'e', 'A', 'm']\n",
      "['I', 'e', 'e', 'A']\n",
      "AceCreIm\n"
     ]
    }
   ],
   "source": [
    "vowel = ['a', 'e', 'i', 'o', 'u',\"A\",\"E\",\"I\",\"O\",\"U\"]\n",
    "\n",
    "s = \"IceCreAm\"\n",
    "s_list = list(s)\n",
    "print(s_list)\n",
    "all_vowels = []\n",
    "for i in range(len(s_list)):\n",
    "    if s_list[i] in vowel:\n",
    "        all_vowels.append(s_list[i])\n",
    "        s_list[i] = 0\n",
    "\n",
    "count = len(all_vowels)-1\n",
    "for i in range(len(s_list)):\n",
    "    if s_list[i] == 0 and count >=0:\n",
    "        s_list[i] = all_vowels[count]\n",
    "        count-=1\n",
    "s = ''.join(s_list)\n",
    "print(s)\n",
    "\n",
    "\n"
   ]
  }
 ],
 "metadata": {
  "kernelspec": {
   "display_name": "Python 3",
   "language": "python",
   "name": "python3"
  },
  "language_info": {
   "codemirror_mode": {
    "name": "ipython",
    "version": 3
   },
   "file_extension": ".py",
   "mimetype": "text/x-python",
   "name": "python",
   "nbconvert_exporter": "python",
   "pygments_lexer": "ipython3",
   "version": "3.9.6"
  }
 },
 "nbformat": 4,
 "nbformat_minor": 2
}
