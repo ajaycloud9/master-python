{
 "cells": [
  {
   "cell_type": "code",
   "execution_count": null,
   "metadata": {},
   "outputs": [],
   "source": []
  },
  {
   "cell_type": "code",
   "execution_count": 4,
   "metadata": {},
   "outputs": [
    {
     "name": "stdout",
     "output_type": "stream",
     "text": [
      "0 0\n",
      "1 0\n",
      "2 0\n",
      "3 0\n",
      "4 0\n",
      "5 4\n",
      "6 4\n",
      "7 4\n",
      "8 4\n",
      "9 4\n",
      "10 5\n",
      "6\n"
     ]
    }
   ],
   "source": [
    "nums = [1,1,1,0,0,0,1,1,1,1,0]\n",
    "k = 2\n",
    "\n",
    "l = 0\n",
    "r = 0\n",
    "zeros = 0\n",
    "max_len = 0\n",
    "\n",
    "while r < len(nums):\n",
    "    if nums[r] == 0:\n",
    "        zeros +=1\n",
    "    while zeros >k:\n",
    "        if nums[l] == 0:\n",
    "            zeros-=1    \n",
    "        l+=1\n",
    "\n",
    "    if zeros <= k:\n",
    "        test_length = r-l+1\n",
    "        max_len = max(max_len,test_length)\n",
    "    r+=1\n",
    "print(max_len)"
   ]
  },
  {
   "cell_type": "markdown",
   "metadata": {},
   "source": [
    "1732. Find the Highest Altitude"
   ]
  },
  {
   "cell_type": "code",
   "execution_count": 12,
   "metadata": {},
   "outputs": [
    {
     "name": "stdout",
     "output_type": "stream",
     "text": [
      "[0, -3, -2, -1, 4, 3, 2] -4\n",
      "[0, -4, -2, -1, 4, 3, 2] -7\n",
      "[0, -4, -7, -1, 4, 3, 2] -9\n",
      "[0, -4, -7, -9, 4, 3, 2] -10\n",
      "[0, -4, -7, -9, -10, 3, 2] -6\n",
      "[0, -4, -7, -9, -10, -6, 2] -3\n",
      "[0, -4, -7, -9, -10, -6, -3] -1\n",
      "0\n"
     ]
    }
   ],
   "source": [
    "gain = [-4,-3,-2,-1,4,3,2]\n",
    "\n",
    "incline = 0\n",
    "max_incline = 0\n",
    "for i in range(len(gain)):\n",
    "    temp = gain[i]\n",
    "    gain[i] = incline \n",
    "    incline += temp\n",
    "    if max_incline < incline:\n",
    "        max_incline = incline\n",
    "    print(gain, incline)\n",
    "print(max_incline)\n"
   ]
  },
  {
   "cell_type": "markdown",
   "metadata": {},
   "source": [
    "724. Find Pivot Index"
   ]
  },
  {
   "cell_type": "code",
   "execution_count": 25,
   "metadata": {},
   "outputs": [
    {
     "name": "stdout",
     "output_type": "stream",
     "text": [
      "[0, 1, 8, 11, 17, 22]\n",
      "[0, 6, 11, 17, 20, 27]\n",
      "0 0 27\n",
      "1 1 20\n",
      "2 8 17\n",
      "3 11 11\n",
      "Found Index 3 11 11\n",
      "4 17 6\n",
      "5 22 0\n"
     ]
    }
   ],
   "source": [
    "\n",
    "nums = [1,7,3,6,5,6]\n",
    "\n",
    "left_prefix_sum = []\n",
    "right_prefix_sum = []\n",
    "left_sum = 0\n",
    "right_sum = 0\n",
    "\n",
    "for num in nums:\n",
    "    left_prefix_sum.append(left_sum)\n",
    "    left_sum = left_sum+num\n",
    "print(left_prefix_sum)\n",
    "\n",
    "for i in range(len(nums)-1,-1,-1):\n",
    "    right_prefix_sum.append(right_sum)\n",
    "    right_sum = right_sum+nums[i]\n",
    "print(right_prefix_sum)\n",
    "\n",
    "for i in range(len(left_prefix_sum)):\n",
    "    if left_prefix_sum[i] == right_prefix_sum[len(left_prefix_sum)-i-1]:\n",
    "        print(\"Found Index\", i,left_prefix_sum[i],right_prefix_sum[len(left_prefix_sum)-i-1])\n",
    "    "
   ]
  },
  {
   "cell_type": "markdown",
   "metadata": {},
   "source": [
    "2215. Find the Difference of Two Arrays"
   ]
  },
  {
   "cell_type": "code",
   "execution_count": 29,
   "metadata": {},
   "outputs": [
    {
     "name": "stdout",
     "output_type": "stream",
     "text": [
      "[[1, 3], [4, 6]]\n"
     ]
    }
   ],
   "source": [
    "\n",
    "nums1 = [1,2,3]\n",
    "nums2 = [2,4,6]\n",
    "\n",
    "set1_nums = set(nums1)\n",
    "set2_nums = set(nums2)\n",
    "\n",
    "diff1 = set1_nums.difference(nums2)\n",
    "diff2 = set2_nums.difference(nums1)\n",
    "my_list = [list(diff1), list(diff2)]\n",
    "\n",
    "print(my_list)\n"
   ]
  },
  {
   "cell_type": "markdown",
   "metadata": {},
   "source": [
    "1207. Unique Number of Occurrences"
   ]
  },
  {
   "cell_type": "code",
   "execution_count": 34,
   "metadata": {},
   "outputs": [
    {
     "name": "stdout",
     "output_type": "stream",
     "text": [
      "{1: 3, 2: 3, 3: 1}\n",
      "3\n",
      "3\n",
      "Found the occurence 3\n",
      "1\n"
     ]
    }
   ],
   "source": [
    "arr = [1,2,2,1,1,3,2]\n",
    "\n",
    "freq_counter= {}\n",
    "counter_unique = {}\n",
    "for item in arr:\n",
    "    freq_counter[item] = freq_counter.get(item,0) +1\n",
    "print(freq_counter)\n",
    "\n",
    "for value in freq_counter.values():\n",
    "    print(value)\n",
    "    if value not in counter_unique:\n",
    "        counter_unique[value] = 1\n",
    "    else:\n",
    "        print(\"Found the occurence\", value)"
   ]
  },
  {
   "cell_type": "code",
   "execution_count": 5,
   "metadata": {},
   "outputs": [
    {
     "name": "stdout",
     "output_type": "stream",
     "text": [
      "1 0 1\n",
      "1 1 2\n",
      "1\n"
     ]
    }
   ],
   "source": [
    "nums = [0,0]\n",
    "\n",
    "l = 0 \n",
    "r = 0\n",
    "k = 1\n",
    "zeros = 0\n",
    "max_len = 0\n",
    "while r < len(nums):\n",
    "    if nums[r] == 0:\n",
    "        zeros+=1\n",
    "    while zeros > k:\n",
    "        if nums[l] == 0:\n",
    "            zeros-=1\n",
    "        l+=1\n",
    "    max_len = max(max_len, r-l+1)\n",
    "    r+=1\n",
    "    print(max_len,l,r)\n",
    "\n",
    "print(max_len)\n",
    "    \n",
    "\n",
    "\n",
    "\n"
   ]
  },
  {
   "cell_type": "code",
   "execution_count": 16,
   "metadata": {},
   "outputs": [
    {
     "name": "stdout",
     "output_type": "stream",
     "text": [
      "return true\n"
     ]
    }
   ],
   "source": [
    "# nums = [4,3,1,6]\n",
    "nums = [1,2,3,4]\n",
    "\n",
    "if len(nums) == 1:\n",
    "    print(\"Return true\")\n",
    "\n",
    "if nums[0] %2 ==0:\n",
    "    current = 0\n",
    "else:\n",
    "    current = 1\n",
    "\n",
    "# Anticipating next move\n",
    "next = int(not current)\n",
    "\n",
    "for i in range(1,len(nums)):\n",
    "    if nums[i] %2 ==0:\n",
    "        current = 0\n",
    "    else:\n",
    "        current = 1\n",
    "    if current != next:\n",
    "        print(i,nums[i])\n",
    "        print(\"return false\")\n",
    "    next = int(not current)\n",
    "\n",
    "print(\"return true\")\n",
    "\n"
   ]
  },
  {
   "cell_type": "code",
   "execution_count": 35,
   "metadata": {},
   "outputs": [
    {
     "name": "stdout",
     "output_type": "stream",
     "text": [
      "{'a': 3, 'b': 4, 'c': 2, 'd': 2, 'e': 5, 'f': 5} {'a': 5, 'b': 2, 'c': 3, 'd': 3, 'e': 4, 'f': 4}\n",
      "False\n",
      "False\n",
      "False\n",
      "False\n",
      "False\n",
      "False\n"
     ]
    }
   ],
   "source": [
    "# 1657. Determine if Two Strings Are Close\n",
    "\n",
    "word1 = \"aaabbbbccddeeeeefffff\"\n",
    "word2 =\"aaaaabbcccdddeeeeffff\"\n",
    "\n",
    "def freq_counter(words):\n",
    "    look_up_table = {}\n",
    "    for char in words:\n",
    "        look_up_table[char] = look_up_table.get(char,0) +1\n",
    "    return look_up_table\n",
    "\n",
    "words1_dict = freq_counter(word1)\n",
    "words2_dict = freq_counter(word2)\n",
    "print(words1_dict,words2_dict)\n",
    "\n",
    "\n",
    "for key,value in words1_dict.items():\n",
    "    if key not in words2_dict.keys():\n",
    "        print(\"Key not found\",key,value,words2_dict)\n",
    "\n",
    "for key,value in words2_dict.items():\n",
    "    if key not in words1_dict.keys():\n",
    "        print(\"Key not found\",key,value,words1_dict)\n",
    "sort_val1 = list(words1_dict.values())\n",
    "sort_val1.sort()\n",
    "sort_val2 = list(words2_dict.values())\n",
    "sort_val2.sort()\n",
    "\n",
    "for i in range(len(sort_val1)):\n",
    "    if sort_val1[i] != sort_val2:\n",
    "        print(\"False\")"
   ]
  },
  {
   "cell_type": "code",
   "execution_count": 45,
   "metadata": {},
   "outputs": [
    {
     "name": "stdout",
     "output_type": "stream",
     "text": [
      "[3]\n",
      "[3, 1]\n",
      "[3, 1, 2]\n",
      "[3, 1, 2, 2]\n",
      "[1]\n",
      "[1, 4]\n",
      "[1, 4, 4]\n",
      "[1, 4, 4, 4]\n",
      "[2]\n",
      "[2, 4]\n",
      "[2, 4, 2]\n",
      "[2, 4, 2, 2]\n",
      "[2]\n",
      "[2, 5]\n",
      "[2, 5, 2]\n",
      "[2, 5, 2, 2]\n",
      "[[3, 1, 2, 2], [1, 4, 4, 4], [2, 4, 2, 2], [2, 5, 2, 2]]\n",
      "{'[3, 1, 2, 2]': 1, '[1, 4, 4, 5]': 1, '[2, 4, 2, 2]': 2}\n",
      "Found Pair [3, 1, 2, 2]\n",
      "Found Pair [2, 4, 2, 2]\n",
      "3\n"
     ]
    }
   ],
   "source": [
    "mat = [[3,1,2,2],[1,4,4,5],[2,4,2,2],[2,4,2,2]]\n",
    "\n",
    "col_mat = []\n",
    "\n",
    "for i in range(len(mat)):\n",
    "    temp = []\n",
    "    for j in range(len(mat)):\n",
    "        temp.append(mat[j][i])\n",
    "        print(temp)\n",
    "    col_mat.append(temp)\n",
    "print(col_mat)\n",
    "\n",
    "look_up_table = {}\n",
    "for i in mat:\n",
    "    look_up_table[str(i)] = look_up_table.get(str(i),0) +1\n",
    "print(look_up_table)\n",
    "\n",
    "count = 0\n",
    "for i in col_mat:\n",
    "    if str(i) in look_up_table:\n",
    "        print(\"Found Pair\",i)\n",
    "        count += look_up_table[str(i)]\n",
    "print(count)"
   ]
  },
  {
   "cell_type": "code",
   "execution_count": 48,
   "metadata": {},
   "outputs": [
    {
     "name": "stdout",
     "output_type": "stream",
     "text": [
      "[]\n"
     ]
    }
   ],
   "source": [
    "s = \"leet****\"\n",
    "\n",
    "stack = []\n",
    "\n",
    "for char in s:\n",
    "    if char != \"*\":\n",
    "        stack.append(char)\n",
    "    else:\n",
    "        stack.pop()\n",
    "print(stack)\n"
   ]
  },
  {
   "cell_type": "code",
   "execution_count": 63,
   "metadata": {},
   "outputs": [
    {
     "name": "stdout",
     "output_type": "stream",
     "text": [
      "Both collided d\n",
      "[] final\n"
     ]
    }
   ],
   "source": [
    "# Asteriod Collection\n",
    "\n",
    "\n",
    "\n",
    "asteroids = [-1, 4,3,1,1,2,-3,-7,17,15,-16]\n",
    "asteroids = [8,-8]\n",
    "stack = []\n",
    "\n",
    "for i in range(len(asteroids)):\n",
    "    if asteroids[i] > 0:\n",
    "        stack.append(asteroids[i])\n",
    "    else:\n",
    "        while stack and stack[-1] > 0 and abs(asteroids[i]) > stack[-1]:\n",
    "                print(stack,asteroids[i],stack[-1])\n",
    "                stack.pop()\n",
    "        if stack and stack[-1] == abs(asteroids[i]):\n",
    "             print(\"Both collided d\")\n",
    "             stack.pop()\n",
    "        elif not stack or stack[-1] < 0:\n",
    "             stack.append(asteroids[i])\n",
    "\n",
    "        \n",
    "\n",
    "print(stack, \"final\")"
   ]
  },
  {
   "cell_type": "code",
   "execution_count": null,
   "metadata": {},
   "outputs": [],
   "source": [
    "s = \"2[abc]3[cd]ef\"\n",
    "outpu = \"abc abc cd cd cd ef\"\n",
    "\n",
    "s = \"3[a2[c]]\"\n",
    "# Output = 3 acc --> \"acc acc acc\"\n",
    "# Outpit 2cc cc\n"
   ]
  }
 ],
 "metadata": {
  "kernelspec": {
   "display_name": "Python 3",
   "language": "python",
   "name": "python3"
  },
  "language_info": {
   "codemirror_mode": {
    "name": "ipython",
    "version": 3
   },
   "file_extension": ".py",
   "mimetype": "text/x-python",
   "name": "python",
   "nbconvert_exporter": "python",
   "pygments_lexer": "ipython3",
   "version": "3.9.6"
  }
 },
 "nbformat": 4,
 "nbformat_minor": 2
}
