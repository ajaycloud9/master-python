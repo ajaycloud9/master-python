{
 "cells": [
  {
   "cell_type": "markdown",
   "metadata": {},
   "source": [
    "1400. Construct K Palindrome Strings"
   ]
  },
  {
   "cell_type": "code",
   "execution_count": 4,
   "metadata": {},
   "outputs": [
    {
     "name": "stdout",
     "output_type": "stream",
     "text": [
      "{'a': 3, 'j': 1, 'y': 1}\n",
      "3\n"
     ]
    }
   ],
   "source": [
    "s = \"aajay\"\n",
    "k = 2\n",
    "\n",
    "def Counter(my_str):\n",
    "    look_up_table = {}\n",
    "    for char in my_str:\n",
    "        look_up_table[char] = look_up_table.get(char,0)+1\n",
    "    return look_up_table\n",
    "new_table = Counter(s)\n",
    "\n",
    "odd = 0\n",
    "for val in new_table.values():\n",
    "    if val % 2 == 1:\n",
    "        # Values are odd\n",
    "        odd = odd + (val%2)\n",
    "print(odd)"
   ]
  },
  {
   "cell_type": "markdown",
   "metadata": {},
   "source": [
    "1768. Merge Strings Alternately\n",
    "\n",
    "Example 1:\n",
    "\n",
    "Input: word1 = \"abc\", word2 = \"pqr\"\n",
    "Output: \"apbqcr\"\n",
    "Explanation: The merged string will be merged as so:\n",
    "word1:  a   b   c\n",
    "word2:    p   q   r\n",
    "merged: a p b q c r"
   ]
  },
  {
   "cell_type": "code",
   "execution_count": 15,
   "metadata": {},
   "outputs": [
    {
     "name": "stdout",
     "output_type": "stream",
     "text": [
      "0 0\n",
      "ap\n",
      "1 1\n",
      "bq\n",
      "2 2\n",
      "cr\n",
      "3 3\n",
      "apbqcrajay\n"
     ]
    }
   ],
   "source": [
    "word1 = \"abc\"\n",
    "word2 = \"pqrajay\"\n",
    "\n",
    "len_w1 = len(word1)\n",
    "len_w2 = len(word2)\n",
    "\n",
    "l = 0\n",
    "r = 0\n",
    "new_str = \"\"\n",
    "while l < len_w1 and r < len_w2:\n",
    "    print(l,r)\n",
    "    print(word1[l] + word2[r])\n",
    "    new_str += word1[l] + word2[r]\n",
    "    l+=1\n",
    "    r+=1\n",
    "\n",
    "print(l,r)\n",
    "while l < len_w1:\n",
    "    new_str += word1[l]\n",
    "    l+=1\n",
    "\n",
    "while r < len_w2:\n",
    "    new_str += word2[r]\n",
    "    r+=1\n",
    "\n",
    "print(new_str)"
   ]
  },
  {
   "cell_type": "markdown",
   "metadata": {},
   "source": [
    "1071. Greatest Common Divisor of Strings\n",
    "\n",
    "For two strings s and t, we say \"t divides s\" if and only if s = t + t + t + ... + t + t (i.e., t is concatenated with itself one or more times).\n",
    "\n",
    "Given two strings str1 and str2, return the largest string x such that x divides both str1 and str2.\n",
    "\n",
    " \n",
    "\n",
    "Example 1:\n",
    "\n",
    "Input: str1 = \"ABCABC\", str2 = \"ABC\"\n",
    "Output: \"ABC\""
   ]
  },
  {
   "cell_type": "code",
   "execution_count": null,
   "metadata": {},
   "outputs": [],
   "source": [
    "str1 = \"AAAAAAAA\" \n",
    "str2 = \"AAAAAAAAAA\""
   ]
  },
  {
   "cell_type": "code",
   "execution_count": 49,
   "metadata": {},
   "outputs": [
    {
     "name": "stdout",
     "output_type": "stream",
     "text": [
      "25\n"
     ]
    }
   ],
   "source": [
    "str1 = \"TAUXXTAUXXTAUXXTAUXXTAUXX\"\n",
    "str2 = \"TAUXXTAUXXTAUXXTAUXXTAUXXTAUXXTAUXXTAUXXTAUXX\"\n",
    "\n",
    "len_str1 = len(str1)\n",
    "len_str2 = len(str2)\n",
    "\n",
    "min_len = min(len_str1,len_str2)\n",
    "\n",
    "if str1[:min_len] != str2[:min_len]:\n",
    "    print(str1[:min_len] == str2[:min_len])\n",
    "    print(\"No match\")\n",
    "\n",
    "print(min_len)\n",
    "\n",
    "for i in range(1,min_len//2):\n",
    "    print()\n",
    "\n",
    "\n",
    "# while min_len > 0:\n",
    "#     half = min_len//2\n",
    "#     if str1[0:half] != str1[half:min_len]:\n",
    "#         print(str1[0:half],str1[half:min_len])\n",
    "#         print(\"half\",half,\"min_len\",min_len)\n",
    "#         break\n",
    "#     print(str1[0:half],str1[half:min_len])\n",
    "#     min_len = half\n",
    "# gcd = str1[0:min_len]\n",
    "# unit_lenth = len(gcd)\n",
    "# print(gcd)\n",
    "\n",
    "# if len(str1) > len(str2):\n",
    "#     len_remains = len(str1) - min_len\n",
    "#     print(len_remains,\"len_remains\")\n",
    "#     if len_remains % unit_lenth != 0:\n",
    "#         print(\"False\")\n",
    "#     while unit_lenth <= len_remains:\n",
    "#         if str1[unit_lenth:unit_lenth+len(gcd)] != gcd:\n",
    "#             print(\"Not Matching print False\") \n",
    "#         print(str1[unit_lenth:unit_lenth+len(gcd)],gcd)\n",
    "#         unit_lenth += len(gcd)\n",
    "\n",
    "# def get_gcd(value):\n",
    "#     if value == 0:\n",
    "#         return 1\n",
    "#     value = value//2\n",
    "#     print(value)\n",
    "#     get_gcd(value)\n",
    "# get_gcd(8)\n",
    "    \n"
   ]
  },
  {
   "cell_type": "code",
   "execution_count": 55,
   "metadata": {},
   "outputs": [
    {
     "name": "stdout",
     "output_type": "stream",
     "text": [
      "Before a 25 b 45\n",
      "After a 45 b 25\n",
      "Before a 45 b 25\n",
      "After a 25 b 20\n",
      "Before a 25 b 20\n",
      "After a 20 b 5\n",
      "Before a 20 b 5\n",
      "After a 5 b 0\n",
      "TAUXX\n"
     ]
    }
   ],
   "source": [
    "str1 = \"TAUXXTAUXXTAUXXTAUXXTAUXX\"\n",
    "str2 = \"TAUXXTAUXXTAUXXTAUXXTAUXXTAUXXTAUXXTAUXXTAUXX\"\n",
    "\n",
    "\n",
    "if str1 + str2 != str2 + str1:\n",
    "    print (\"\")\n",
    "\n",
    "def gcd(a, b):\n",
    "    while b:\n",
    "        print(\"Before\",\"a\",a,\"b\",b)\n",
    "        a, b = b, a % b\n",
    "        print(\"After\",\"a\",a,\"b\",b)\n",
    "    return a\n",
    "\n",
    "    \n",
    "print (str1[:gcd(len(str1), len(str2))])"
   ]
  },
  {
   "cell_type": "code",
   "execution_count": 67,
   "metadata": {},
   "outputs": [
    {
     "name": "stdout",
     "output_type": "stream",
     "text": [
      "Before a 150 b 15\n",
      "After a 15 b 0\n",
      "15\n"
     ]
    }
   ],
   "source": [
    "def gcd(a, b):\n",
    "    while b:\n",
    "        print(\"Before\",\"a\",a,\"b\",b)\n",
    "        a, b = b, a % b\n",
    "        print(\"After\",\"a\",a,\"b\",b)\n",
    "    return a\n",
    "\n",
    "print(gcd (150,15))\n"
   ]
  },
  {
   "cell_type": "code",
   "execution_count": 2,
   "metadata": {},
   "outputs": [
    {
     "name": "stdout",
     "output_type": "stream",
     "text": [
      "32\n"
     ]
    }
   ],
   "source": [
    "test = [23,1,23,5,6,32,24,6,3,3]\n",
    "\n",
    "# give me the largest number\n",
    "\n",
    "max_number=  0\n",
    "\n",
    "for i in test:\n",
    "    if max_number < i:\n",
    "        max_number = i\n",
    "print(max_number)"
   ]
  },
  {
   "cell_type": "code",
   "execution_count": null,
   "metadata": {},
   "outputs": [],
   "source": []
  }
 ],
 "metadata": {
  "kernelspec": {
   "display_name": "Python 3",
   "language": "python",
   "name": "python3"
  },
  "language_info": {
   "codemirror_mode": {
    "name": "ipython",
    "version": 3
   },
   "file_extension": ".py",
   "mimetype": "text/x-python",
   "name": "python",
   "nbconvert_exporter": "python",
   "pygments_lexer": "ipython3",
   "version": "3.9.6"
  }
 },
 "nbformat": 4,
 "nbformat_minor": 2
}
