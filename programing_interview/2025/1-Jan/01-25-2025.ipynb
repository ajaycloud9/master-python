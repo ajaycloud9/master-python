{
 "cells": [
  {
   "cell_type": "markdown",
   "metadata": {},
   "source": [
    "643. Maximum Average Subarray I"
   ]
  },
  {
   "cell_type": "code",
   "execution_count": 30,
   "metadata": {},
   "outputs": [
    {
     "name": "stdout",
     "output_type": "stream",
     "text": [
      "-inf\n",
      "5 5\n",
      "-inf 5.0\n",
      "0 0\n",
      "5.0\n"
     ]
    }
   ],
   "source": [
    "nums = [5]\n",
    "k = 1\n",
    "\n",
    "sum_of_4 = 0\n",
    "max_average = -float('inf')\n",
    "average = 0\n",
    "print(max_average)\n",
    "\n",
    "left_pointer = 0\n",
    "for i in range(len(nums)):\n",
    "    if i > k-1:\n",
    "        # Removing elements from the back\n",
    "        # Once the i crosses the window size\n",
    "        sum_of_4 = sum_of_4-nums[left_pointer]\n",
    "        sum_of_4+=nums[i]\n",
    "        left_pointer+=1\n",
    "        print(sum_of_4, nums,nums[left_pointer], \"Above k\")\n",
    "    else:\n",
    "        sum_of_4+=nums[i]\n",
    "        print(sum_of_4,nums[i])\n",
    "    average = sum_of_4/k\n",
    "    \n",
    "    print(max_average, average)\n",
    "    print(i,k-1)\n",
    "    if i>= k-1 and max_average < average:\n",
    "        max_average = average\n",
    "print(max_average)\n",
    "\n",
    "\n"
   ]
  },
  {
   "cell_type": "markdown",
   "metadata": {},
   "source": [
    "1456. Maximum Number of Vowels in a Substring of Given Length"
   ]
  },
  {
   "cell_type": "code",
   "execution_count": 34,
   "metadata": {},
   "outputs": [
    {
     "name": "stdout",
     "output_type": "stream",
     "text": [
      "0\n"
     ]
    }
   ],
   "source": [
    "s = \"z\"\n",
    "string = list(s)\n",
    "k = 1\n",
    "\n",
    "vowelCount = 0\n",
    "maxVowelInSubArray = 0\n",
    "leftPointer = 0\n",
    "def isVowel(string):\n",
    "    vowel_list = [\"a\",\"e\",\"i\",\"o\",\"u\"]\n",
    "    if string in vowel_list:\n",
    "        return True\n",
    "    return False\n",
    "\n",
    "for i in range(len(s)):\n",
    "    if i > k-1:\n",
    "        if isVowel(s[i]):\n",
    "            vowelCount+=1\n",
    "        if isVowel(s[leftPointer]):\n",
    "            vowelCount-=1\n",
    "        leftPointer+=1\n",
    "    else:\n",
    "        if isVowel(s[i]):\n",
    "            vowelCount+=1\n",
    "    if maxVowelInSubArray < vowelCount:\n",
    "        maxVowelInSubArray = vowelCount\n",
    "print(maxVowelInSubArray) "
   ]
  },
  {
   "cell_type": "code",
   "execution_count": 43,
   "metadata": {},
   "outputs": [
    {
     "ename": "TypeError",
     "evalue": "'int' object is not callable",
     "output_type": "error",
     "traceback": [
      "\u001b[0;31m---------------------------------------------------------------------------\u001b[0m",
      "\u001b[0;31mTypeError\u001b[0m                                 Traceback (most recent call last)",
      "Cell \u001b[0;32mIn[43], line 9\u001b[0m\n\u001b[1;32m      6\u001b[0m zeros \u001b[38;5;241m=\u001b[39m \u001b[38;5;241m0\u001b[39m\n\u001b[1;32m      8\u001b[0m max_len \u001b[38;5;241m=\u001b[39m \u001b[38;5;241m0\u001b[39m\n\u001b[0;32m----> 9\u001b[0m test \u001b[38;5;241m=\u001b[39m \u001b[38;5;28;43mlen\u001b[39;49m\u001b[43m(\u001b[49m\u001b[43mxyz\u001b[49m\u001b[43m)\u001b[49m\n\u001b[1;32m     10\u001b[0m \u001b[38;5;28mprint\u001b[39m(r, test)\n\u001b[1;32m     12\u001b[0m \u001b[38;5;28;01mwhile\u001b[39;00m r \u001b[38;5;241m<\u001b[39m \u001b[38;5;28mlen\u001b[39m(nums):\n",
      "\u001b[0;31mTypeError\u001b[0m: 'int' object is not callable"
     ]
    }
   ],
   "source": [
    "xyz = [1,1,1,0,0,0,1,1,1,1,0]\n",
    "k = 2\n",
    "\n",
    "l = 0\n",
    "r = 0\n",
    "zeros = 0\n",
    "\n",
    "max_len = 0\n",
    "test = len(xyz)\n",
    "print(r, test)\n",
    "\n",
    "while r < len(nums):\n",
    "    if nums[r] == 0:\n",
    "        zeros +=1\n",
    "    while zeros >k:\n",
    "        if nums[l] == 0:\n",
    "            zeros-=1    \n",
    "        l+=1\n",
    "    r+=1\n",
    "\n",
    "    if zeros <= k:\n",
    "        test_length = r-l+1\n",
    "        max_len = max(max_len,test_length)\n",
    "print(max_len)"
   ]
  }
 ],
 "metadata": {
  "kernelspec": {
   "display_name": "Python 3",
   "language": "python",
   "name": "python3"
  },
  "language_info": {
   "codemirror_mode": {
    "name": "ipython",
    "version": 3
   },
   "file_extension": ".py",
   "mimetype": "text/x-python",
   "name": "python",
   "nbconvert_exporter": "python",
   "pygments_lexer": "ipython3",
   "version": "3.9.6"
  }
 },
 "nbformat": 4,
 "nbformat_minor": 2
}
