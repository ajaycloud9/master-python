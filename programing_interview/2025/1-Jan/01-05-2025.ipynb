{
 "cells": [
  {
   "cell_type": "markdown",
   "metadata": {},
   "source": []
  },
  {
   "cell_type": "markdown",
   "metadata": {},
   "source": [
    "## Rotate Image\n",
    "Input: matrix = [[1,2,3],[4,5,6],[7,8,9]]\n",
    "Output: [[7,4,1],[8,5,2],[9,6,3]]\n",
    "Problem link: https://leetcode.com/explore/interview/card/top-interview-questions-easy/92/array/770/\n"
   ]
  },
  {
   "cell_type": "code",
   "execution_count": 2,
   "metadata": {},
   "outputs": [
    {
     "name": "stdout",
     "output_type": "stream",
     "text": [
      "[[7, 4, 1], [8, 5, 2], [9, 6, 3]]\n"
     ]
    }
   ],
   "source": [
    "matrix = [[1,2,3],[4,5,6],[7,8,9]]\n",
    "l,r = 0, len(matrix)-1\n",
    "while l < r:\n",
    "    for i in range(r-l):\n",
    "        top,bottom = l,r\n",
    "        temp = matrix[top][l+i]\n",
    "        \n",
    "        # Move in anti-clock direction\n",
    "        matrix[top][l+i] = matrix[bottom-i][l]\n",
    "        matrix[bottom-i][l] = matrix[bottom][r-i]\n",
    "        matrix[bottom][r-i] = matrix[top+i][r]\n",
    "        matrix[top+i][r] = temp\n",
    "    l+=1\n",
    "    r-=1\n",
    "print(matrix)"
   ]
  },
  {
   "cell_type": "markdown",
   "metadata": {},
   "source": [
    "# Reverse the string with IN_PLACE solution\n",
    "Input: s = [\"h\",\"e\",\"l\",\"l\",\"o\"]\n",
    "Output: [\"o\",\"l\",\"l\",\"e\",\"h\"]"
   ]
  },
  {
   "cell_type": "code",
   "execution_count": 15,
   "metadata": {},
   "outputs": [
    {
     "name": "stdout",
     "output_type": "stream",
     "text": [
      "['o', 'l', 'l', 'e', 'h']\n",
      "21\n"
     ]
    }
   ],
   "source": [
    "# Reverse the string\n",
    "s = [\"h\",\"e\",\"l\",\"l\",\"o\"]\n",
    "\n",
    "for i in range(len(s)//2):\n",
    "    s[i], s[len(s)-i-1] = s[len(s)-i-1], s[i]\n",
    "print(s)\n",
    "\n",
    "# Reverse the integer\n",
    "integer = 120\n",
    "my_int = abs(integer)\n",
    "\n",
    "total_len = len(str(my_int))\n",
    "reverse_num = 0\n",
    "\n",
    "count = 1\n",
    "while my_int > 0:\n",
    "    leftover = my_int%10\n",
    "    reverse_num = reverse_num + ((10 ** (total_len-count))* leftover)\n",
    "    count+=1\n",
    "    my_int = my_int//10\n",
    "\n",
    "if integer < 0:\n",
    "    print(reverse_num * -1)\n",
    "else:\n",
    "    print(reverse_num)\n"
   ]
  },
  {
   "cell_type": "markdown",
   "metadata": {},
   "source": [
    "First Unique Character in a String\n",
    "Input: s = \"leetcode\"\n",
    "\n",
    "Output: 0\n",
    "\n",
    "Explanation:\n",
    "\n",
    "The character 'l' at index 0 is the first character that does not occur at any other index."
   ]
  },
  {
   "cell_type": "code",
   "execution_count": 18,
   "metadata": {},
   "outputs": [
    {
     "name": "stdout",
     "output_type": "stream",
     "text": [
      "{'l': 2, 'o': 2, 'v': 1, 'e': 4, 't': 1, 'c': 1, 'd': 1}\n",
      "-1\n",
      "-1\n",
      "2 v\n",
      "-1\n",
      "-1\n",
      "-1\n",
      "-1\n",
      "7 t\n",
      "8 c\n",
      "-1\n",
      "10 d\n",
      "-1\n"
     ]
    }
   ],
   "source": [
    "# Create a frequency counter table, and, then iterate in array once again to undestand\n",
    "# whether this has been seen only one, if the frequency is 1 just return it from there\n",
    "# Otherwise return -1\n",
    "\n",
    "s = \"loveleetcode\"\n",
    "\n",
    "freq_counter = {}\n",
    "for char in s:\n",
    "    freq_counter[char] = freq_counter.get(char,0) + 1\n",
    "\n",
    "for i in range(len(s)):\n",
    "    if freq_counter[s[i]] == 1:\n",
    "        # found the first unique element\n",
    "        print (i,s[i])\n",
    "    else:\n",
    "        print(-1) \n"
   ]
  },
  {
   "cell_type": "markdown",
   "metadata": {},
   "source": [
    "  ### Valid Anagram\n",
    "\n",
    "  s = \"anagram\"\n",
    "  t = \"nagaram\""
   ]
  },
  {
   "cell_type": "code",
   "execution_count": 25,
   "metadata": {},
   "outputs": [
    {
     "name": "stdout",
     "output_type": "stream",
     "text": [
      "['a', 'n', 'a', 'g', 'r', 'a', 'm']\n",
      "['a', 'a', 'a', 'g', 'm', 'n', 'r']\n"
     ]
    }
   ],
   "source": [
    "s = \"anagram\"\n",
    "t = \"nbgaram\"\n",
    "\n",
    "# freq_counter = {}\n",
    "# for char in s:\n",
    "#     freq_counter[char] = freq_counter.get(char,0) + 1\n",
    "\n",
    "# for char in t:\n",
    "#     freq_counter[char] = freq_counter.get(char,0) - 1\n",
    "\n",
    "# for value in freq_counter.values():\n",
    "#     print(value)\n",
    "\n",
    "# print(freq_counter)\n",
    "\n",
    "mylist = list(s)\n",
    "print(mylist)\n",
    "\n",
    "mylist.sort()\n",
    "print(mylist)"
   ]
  }
 ],
 "metadata": {
  "kernelspec": {
   "display_name": "Python 3",
   "language": "python",
   "name": "python3"
  },
  "language_info": {
   "codemirror_mode": {
    "name": "ipython",
    "version": 3
   },
   "file_extension": ".py",
   "mimetype": "text/x-python",
   "name": "python",
   "nbconvert_exporter": "python",
   "pygments_lexer": "ipython3",
   "version": "3.9.6"
  }
 },
 "nbformat": 4,
 "nbformat_minor": 2
}
