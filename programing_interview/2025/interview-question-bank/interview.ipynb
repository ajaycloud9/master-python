{
 "cells": [
  {
   "cell_type": "markdown",
   "metadata": {},
   "source": [
    "## Problem - 1\n",
    "You’re building a new feature for a personal finance app that helps users get quick insights into their spending habits. The app organizes transactions into different categories like groceries, entertainment, travel, and more.Each category stores a list of transaction amounts, and users want quick summaries. But they’re not interested in just the highest or lowest spends — that’s too predictable.\n",
    "\n",
    "**Instead, they want a smarter insight:**\n",
    "What’s the second highest amount they spent in each category?\n",
    "What’s the second lowest?\n",
    "This gives them a better feel for their typical behavior — avoiding one-off extremes and focusing on recurring habits.\n",
    "Your job is to build this logic.\n",
    "You are given a list of spending categories. Each category contains a list of transaction amounts (integers).\n",
    "\n",
    "###  Write two functions:\n",
    "second_largest(transactions: List[List[int]]) -> List[int]\n",
    "second_smallest(transactions: List[List[int]]) -> List[int]\n",
    "Each function returns a list of numbers — one for each category — showing either the second largest or second smallest distinct transaction in that category.\n",
    "\n",
    "## Example - 1: \n",
    "[[1, 2, 2, 2, 3], [9, 9, 8, 7, 6]]\n",
    "second_largest ➞ [2, 8]\n",
    "second_smallest ➞ [2, 7]\n",
    "\n",
    "## Example - 2: \n",
    "[\n",
    "  [1234],                    # Only 1 transaction → invalid\n",
    "  [],                        # Empty category → invalid\n",
    "  [100, 100, 100],           # Only one distinct value → invalid\n",
    "  [20, 30, 40]               # Valid\n",
    "]\n",
    "second_largest ➞ [None, None, None, 30]\n",
    "second_smallest ➞ [None, None, None, 30]\n",
    "\n",
    "## Example - 3:\n",
    "[[-100, -50, -1], [-1, -1, -2, -3]]\n",
    "second_largest ➞ [-50, -2]\n",
    "second_smallest ➞ [-50, -2]"
   ]
  },
  {
   "cell_type": "markdown",
   "metadata": {},
   "source": [
    "## Problem - 2\n",
    "Imagine you're managing your calendar for the day, and you’ve been given a list of meetings you need to attend. Each meeting has a start time and an end time.\n",
    "Your task is to determine whether it's possible to attend all the meetings without any overlaps. That means, no two meetings should be happening at the same time — even a little overlap makes it impossible to attend both.\n",
    "\n",
    "\n",
    "What You Need to Do:\n",
    "Write a function that returns true if a person can attend all the meetings, or false if there is any overlap.\n",
    "\n",
    "\n",
    "Example 1:\n",
    "Input:\n",
    "intervals = [(0, 30), (5, 10), (15, 20)]\n",
    "\n",
    "Output:\n",
    "(0, 30) overlaps with (5, 10)\n",
    "(0, 30) also overlaps with (15, 20)\n",
    "So, it’s not possible to attend all meetings.\n",
    "\n",
    "Example 2:\n",
    "intervals = [(5, 8), (9, 15)]\n",
    "\n",
    "Explanation:\n",
    "The first meeting ends at 8\n",
    "The second meeting starts at 9\n",
    "No overlap — you can attend both.\n",
    "\n",
    "Contraints:\n",
    "0 ≤ start < end ≤ 10^6\n",
    "0 ≤ intervals.length ≤ 10^4\n",
    "Each interval has exactly 2 elements: [start, end]\n",
    "Note: If one meeting ends exactly when the next one starts (e.g. (0, 8) and (8, 10)), that’s not a conflict — you can attend both.\n"
   ]
  }
 ],
 "metadata": {
  "language_info": {
   "name": "python"
  }
 },
 "nbformat": 4,
 "nbformat_minor": 2
}
