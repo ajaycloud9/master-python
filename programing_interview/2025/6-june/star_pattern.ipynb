{
 "cells": [
  {
   "cell_type": "markdown",
   "metadata": {},
   "source": [
    "Problem statement\n",
    "Sam is making a forest visualizer. An N-dimensional forest is represented by the pattern of size NxN filled with ‘*’.\n",
    "\n",
    "For every value of ‘N’, help sam to print the corresponding N-dimensional forest.\n",
    "\n",
    "Example:\n",
    "Input: ‘N’ = 3\n",
    "\n",
    "Output: \n",
    "* * *\n",
    "* * *\n",
    "* * *"
   ]
  },
  {
   "cell_type": "code",
   "execution_count": 5,
   "metadata": {},
   "outputs": [
    {
     "name": "stdout",
     "output_type": "stream",
     "text": [
      "*****\n",
      "*****\n",
      "*****\n",
      "*****\n",
      "*****\n"
     ]
    }
   ],
   "source": [
    "n = 5\n",
    "for y in range(n):\n",
    "    for x in range(n):\n",
    "        print(\"*\",end=\"\")\n",
    "    print()\n"
   ]
  },
  {
   "cell_type": "markdown",
   "metadata": {},
   "source": [
    "![alt text](https://static.takeuforward.org/wp/uploads/2022/08/P2.png)"
   ]
  },
  {
   "cell_type": "code",
   "execution_count": 7,
   "metadata": {},
   "outputs": [
    {
     "name": "stdout",
     "output_type": "stream",
     "text": [
      "*\n",
      "**\n",
      "***\n",
      "****\n",
      "*****\n"
     ]
    }
   ],
   "source": [
    "n = 5\n",
    "\n",
    "for y in range(1,n+1):\n",
    "    for y_ele in range(y):\n",
    "        print(\"*\",end=\"\")\n",
    "    print()\n"
   ]
  },
  {
   "cell_type": "markdown",
   "metadata": {},
   "source": [
    "![alt text](https://static.takeuforward.org/wp/uploads/2022/08/P3.png)"
   ]
  },
  {
   "cell_type": "code",
   "execution_count": 9,
   "metadata": {},
   "outputs": [
    {
     "name": "stdout",
     "output_type": "stream",
     "text": [
      "1\n",
      "12\n",
      "123\n",
      "1234\n",
      "12345\n"
     ]
    }
   ],
   "source": [
    "n = 5\n",
    "\n",
    "for y in range(1,n+1):\n",
    "    for y_ele in range(1,y+1):\n",
    "        print(str(y_ele),end=\"\")\n",
    "    print()"
   ]
  },
  {
   "cell_type": "markdown",
   "metadata": {},
   "source": [
    "![alt text](https://static.takeuforward.org/wp/uploads/2022/08/P4.png)"
   ]
  },
  {
   "cell_type": "code",
   "execution_count": 10,
   "metadata": {},
   "outputs": [
    {
     "name": "stdout",
     "output_type": "stream",
     "text": [
      "1\n",
      "22\n",
      "333\n",
      "4444\n",
      "55555\n"
     ]
    }
   ],
   "source": [
    "n = 5\n",
    "\n",
    "for y in range(1,n+1):\n",
    "    for y_ele in range(y):\n",
    "        print(str(y),end=\"\")\n",
    "    print()"
   ]
  },
  {
   "cell_type": "markdown",
   "metadata": {},
   "source": [
    "![alt text](https://static.takeuforward.org/wp/uploads/2022/08/P5.png)"
   ]
  },
  {
   "cell_type": "code",
   "execution_count": 16,
   "metadata": {},
   "outputs": [
    {
     "name": "stdout",
     "output_type": "stream",
     "text": [
      "*****\n",
      "****\n",
      "***\n",
      "**\n",
      "*\n"
     ]
    }
   ],
   "source": [
    "n = 5\n",
    "\n",
    "for y in range(n,0,-1):\n",
    "    for y_ele in range(y):\n",
    "        print(\"*\",end=\"\")\n",
    "    print()"
   ]
  },
  {
   "cell_type": "markdown",
   "metadata": {},
   "source": [
    "![alt text](https://static.takeuforward.org/wp/uploads/2022/08/P7.png)\n",
    "\n",
    "Sample Input 1:\n",
    "3\n",
    "Sample Output 1:\n",
    "  *\n",
    " ***\n",
    "*****\n",
    "Explanation Of Sample Input 1 :\n",
    "The first row contains two spaces, followed by a star.\n",
    "The second row contains one space, followed by three stars.\n",
    "The third row contains five stars."
   ]
  },
  {
   "cell_type": "code",
   "execution_count": 27,
   "metadata": {},
   "outputs": [
    {
     "name": "stdout",
     "output_type": "stream",
     "text": [
      " * \n",
      "***\n"
     ]
    }
   ],
   "source": [
    "n = 2\n",
    "empty = n\n",
    "star_multiplier = 1\n",
    "for i in range(1,n+1):\n",
    "    empty-=1\n",
    "    empt_str = empty * \" \"\n",
    "    star_str = star_multiplier * \"*\"\n",
    "    print(empt_str + star_str + empt_str)\n",
    "    star_multiplier+=2\n",
    "\n",
    "\n"
   ]
  },
  {
   "cell_type": "markdown",
   "metadata": {},
   "source": [
    "![alt text](https://static.takeuforward.org/wp/uploads/2022/08/P8.png)"
   ]
  },
  {
   "cell_type": "code",
   "execution_count": 29,
   "metadata": {},
   "outputs": [
    {
     "name": "stdout",
     "output_type": "stream",
     "text": [
      "*********\n",
      " ******* \n",
      "  *****  \n",
      "   ***   \n",
      "    *    \n"
     ]
    }
   ],
   "source": [
    "n = 5\n",
    "empty = 0\n",
    "star_multiplier = ((n-1)*2)+1\n",
    "for i in range(1,n+1):\n",
    "    empt_str = empty * \" \"\n",
    "    star_str = star_multiplier * \"*\"\n",
    "    print(empt_str + star_str + empt_str)\n",
    "    star_multiplier-=2\n",
    "    empty+=1"
   ]
  },
  {
   "cell_type": "markdown",
   "metadata": {},
   "source": [
    "![alt text](https://static.takeuforward.org/wp/uploads/2022/08/P9.png)"
   ]
  },
  {
   "cell_type": "code",
   "execution_count": 31,
   "metadata": {},
   "outputs": [
    {
     "name": "stdout",
     "output_type": "stream",
     "text": [
      "    *    \n",
      "   ***   \n",
      "  *****  \n",
      " ******* \n",
      "*********\n",
      "*********\n",
      " ******* \n",
      "  *****  \n",
      "   ***   \n",
      "    *    \n"
     ]
    }
   ],
   "source": [
    "n = 5\n",
    "empty = n\n",
    "star_multiplier = 1\n",
    "for i in range(1,n+1):\n",
    "    empty-=1\n",
    "    empt_str = empty * \" \"\n",
    "    star_str = star_multiplier * \"*\"\n",
    "    print(empt_str + star_str + empt_str)\n",
    "    star_multiplier+=2\n",
    "\n",
    "empty = 0\n",
    "star_multiplier = ((n-1)*2)+1\n",
    "for i in range(1,n+1):\n",
    "    empt_str = empty * \" \"\n",
    "    star_str = star_multiplier * \"*\"\n",
    "    print(empt_str + star_str + empt_str)\n",
    "    star_multiplier-=2\n",
    "    empty+=1"
   ]
  },
  {
   "cell_type": "code",
   "execution_count": null,
   "metadata": {},
   "outputs": [],
   "source": []
  },
  {
   "cell_type": "code",
   "execution_count": 22,
   "metadata": {},
   "outputs": [
    {
     "name": "stdout",
     "output_type": "stream",
     "text": [
      "leetcodeDailyStreakAchievedhhhhhhhhhhhhhhhhhhhhhhhhhhhhhhhhhhhhhhhhhhhhhhhhhhhhhhhhhhhhhhhhhhhhhhhhh\n",
      "100\n"
     ]
    }
   ],
   "source": [
    "caption = \"Leetcode daily streak achievedhhhhhhhhhhhhhhhhhhhhhhhhhhhhhhhhhhhhhhhhhhhhhhhhhhhhhhhhhhhhhhhhhhhhhhhhhhhhhhhhhhhhhhhhhhhhhhhhh©leetcode\"\n",
    "output = \"#leetcodeDailyStreakAchieved\"\n",
    "\n",
    "my_list = caption.split()\n",
    "cap_out = \"#\"\n",
    "for element in my_list:\n",
    "    cap_element = element.capitalize()\n",
    "    cap_out += cap_element\n",
    "if len(cap_out) > 1:\n",
    "    cap_out = cap_out[1].lower() + cap_out[2:101]\n",
    "print(cap_out)\n",
    "print(len(cap_out))"
   ]
  },
  {
   "cell_type": "code",
   "execution_count": 26,
   "metadata": {},
   "outputs": [
    {
     "name": "stdout",
     "output_type": "stream",
     "text": [
      "1234\n",
      "123\n",
      "12\n",
      "1\n",
      "0\n",
      "5\n"
     ]
    }
   ],
   "source": [
    "n = 12345\n",
    "count=0\n",
    "while n > 0:\n",
    "    n = n//10\n",
    "    count+=1\n",
    "    print(n)\n",
    "print(count)"
   ]
  },
  {
   "cell_type": "code",
   "execution_count": 38,
   "metadata": {},
   "outputs": [
    {
     "name": "stdout",
     "output_type": "stream",
     "text": [
      "10\n",
      "9\n",
      "8\n",
      "7\n",
      "6\n",
      "5\n",
      "4\n",
      "3\n",
      "2\n",
      "1\n"
     ]
    }
   ],
   "source": [
    "def printNums(n):\n",
    "    if n == 0:\n",
    "        return\n",
    "    print(n)\n",
    "    printNums(n-1)\n",
    "\n",
    "printNums(10)"
   ]
  },
  {
   "cell_type": "code",
   "execution_count": 37,
   "metadata": {},
   "outputs": [
    {
     "name": "stdout",
     "output_type": "stream",
     "text": [
      "1\n",
      "2\n",
      "3\n",
      "4\n",
      "5\n",
      "6\n",
      "7\n",
      "8\n",
      "9\n",
      "10\n"
     ]
    }
   ],
   "source": [
    "def printNums(n):\n",
    "    if n == 0:\n",
    "        return\n",
    "    printNums(n-1)\n",
    "    print(n)\n",
    "printNums(10)"
   ]
  },
  {
   "cell_type": "code",
   "execution_count": 43,
   "metadata": {},
   "outputs": [
    {
     "name": "stdout",
     "output_type": "stream",
     "text": [
      "6\n"
     ]
    }
   ],
   "source": [
    "def sumFunctionalwithRecursion(n):\n",
    "    if n == 0:\n",
    "        return 1;\n",
    "    return n * sumFunctionalwithRecursion(n-1)\n",
    "\n",
    "total = sumFunctionalwithRecursion(3)\n",
    "print(total)\n"
   ]
  },
  {
   "cell_type": "code",
   "execution_count": 40,
   "metadata": {},
   "outputs": [
    {
     "name": "stdout",
     "output_type": "stream",
     "text": [
      "15\n"
     ]
    }
   ],
   "source": [
    "def sum(n,total):\n",
    "    if n == 0:\n",
    "        print(total)\n",
    "        return\n",
    "    total +=n\n",
    "    sum(n-1,total)\n",
    "\n",
    "\n",
    "sum(5,0)"
   ]
  }
 ],
 "metadata": {
  "kernelspec": {
   "display_name": "Python 3",
   "language": "python",
   "name": "python3"
  },
  "language_info": {
   "codemirror_mode": {
    "name": "ipython",
    "version": 3
   },
   "file_extension": ".py",
   "mimetype": "text/x-python",
   "name": "python",
   "nbconvert_exporter": "python",
   "pygments_lexer": "ipython3",
   "version": "3.9.6"
  }
 },
 "nbformat": 4,
 "nbformat_minor": 2
}
