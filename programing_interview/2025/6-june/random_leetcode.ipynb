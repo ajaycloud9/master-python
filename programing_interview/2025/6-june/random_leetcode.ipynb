{
 "cells": [
  {
   "cell_type": "code",
   "execution_count": 4,
   "metadata": {},
   "outputs": [
    {
     "name": "stdout",
     "output_type": "stream",
     "text": [
      "15\n"
     ]
    }
   ],
   "source": [
    "arr=[11,2,3,4,15,6]\n",
    "\n",
    "largest_num=0\n",
    "\n",
    "for i in arr:\n",
    "    if i > largest_num:\n",
    "        largest_num = i\n",
    "print(largest_num)"
   ]
  },
  {
   "cell_type": "code",
   "execution_count": 24,
   "metadata": {},
   "outputs": [
    {
     "name": "stdout",
     "output_type": "stream",
     "text": [
      "1 0\n",
      "2 1\n",
      "4 2\n",
      "7 4\n",
      "15 7\n",
      "18 15\n",
      "18 16\n"
     ]
    }
   ],
   "source": [
    "arr = [1,2,4,7, 15, 18, 11, 12, 13, 16,18]\n",
    "\n",
    "first_max = 0\n",
    "second_max = 0\n",
    "\n",
    "\n",
    "for i in arr:\n",
    "    if i > first_max:\n",
    "        # temp = first_max\n",
    "        # first_max = i\n",
    "        # second_max = temp\n",
    "        second_max = first_max\n",
    "        first_max = i\n",
    "        print(first_max, second_max)\n",
    "    elif i > second_max and i != first_max:\n",
    "        second_max = i\n",
    "print(first_max, second_max)"
   ]
  },
  {
   "cell_type": "code",
   "execution_count": 34,
   "metadata": {},
   "outputs": [
    {
     "name": "stdout",
     "output_type": "stream",
     "text": [
      "[4, 5, 6, 7, 1, 2, 3]\n"
     ]
    }
   ],
   "source": [
    "# array = [1,2,3,4]\n",
    "\n",
    "# rotate = -1\n",
    "\n",
    "# temp = array[0]\n",
    "\n",
    "# for curr_index in range(1,len(array)):\n",
    "#     dest_index = curr_index-1\n",
    "#     array[dest_index] = array[curr_index]\n",
    "# array[-1] = temp\n",
    "# print(array)\n",
    "\n",
    "\n",
    "# Rotate 4 elements\n",
    "\n",
    "array = [1,2,3,4,5,6,7]\n",
    "\n",
    "temp_array = []\n",
    "\n",
    "rotate = 3\n",
    "rotate = rotate % len(array)\n",
    "\n",
    "for i in range(rotate):\n",
    "    temp_array.append(array[i])\n",
    "\n",
    "for i in range(rotate,len(array)):\n",
    "    dest_index = i - rotate\n",
    "    array[dest_index] = array[i]\n",
    "\n",
    "count = 0\n",
    "unrotated = len(array)-rotate\n",
    "for i in range(unrotated,len(array)):\n",
    "    array[i] = temp_array[count]\n",
    "    count+=1\n",
    "\n",
    "print(array)\n",
    "\n",
    "# [5,6,7,1,2,3,4]\n",
    "\n",
    "    \n",
    "\n"
   ]
  },
  {
   "cell_type": "code",
   "execution_count": 35,
   "metadata": {},
   "outputs": [
    {
     "name": "stdout",
     "output_type": "stream",
     "text": [
      "[1, 1, 1, 1, 2, 3, 4, 1, 0, 0, 0]\n"
     ]
    }
   ],
   "source": [
    "shift_zero = [1,1,1,1,0 ,2 ,3 ,0 ,4 ,0 ,1]\n",
    "\n",
    "non_zero_pointer  = 0\n",
    "\n",
    "for i in range(len(shift_zero)):\n",
    "    if shift_zero[i] != 0:\n",
    "        shift_zero[non_zero_pointer], shift_zero[i] = shift_zero[i],shift_zero[non_zero_pointer]\n",
    "        non_zero_pointer+=1\n",
    "print(shift_zero)"
   ]
  },
  {
   "cell_type": "code",
   "execution_count": 43,
   "metadata": {},
   "outputs": [
    {
     "name": "stdout",
     "output_type": "stream",
     "text": [
      "[1, 1, 1, 1, 1, 2, 2, 2, 3, 3, 3, 3, 3, 4, 4, 5, 6]\n",
      "2 1\n",
      "2 1\n",
      "2 1\n",
      "3 1\n",
      "3 1\n",
      "3 1\n",
      "3 1\n",
      "3 1\n",
      "4 1\n",
      "4 1\n",
      "5 1\n",
      "6 1\n",
      "[2, 2, 2, 3, 3, 3, 3, 3, 4, 4, 5, 6, 1, 1, 1, 1, 1]\n"
     ]
    }
   ],
   "source": [
    "arr1 = [1,1,1,2,2,3,4] \n",
    "arr2 = [1,1,2,3,3,3,3,4,5,6] \n",
    "merge_arr  = []\n",
    "m = len(arr1)\n",
    "n = len(arr2)\n",
    "i = 0\n",
    "j = 0\n",
    "while m > i and n > j:\n",
    "    if arr1[i] < arr2[j]:\n",
    "        merge_arr.append(arr1[i])\n",
    "        i+=1\n",
    "    else:\n",
    "        merge_arr.append(arr2[j])\n",
    "        j+=1\n",
    "while m > i:\n",
    "    merge_arr.append(arr1[i])\n",
    "    i+=1\n",
    "while n > j:\n",
    "    merge_arr.append(arr2[j])\n",
    "    j+=1\n",
    "print(merge_arr)\n",
    "\n",
    "# All unique elements on the left side of the array\n",
    "# To filter out duplicates\n",
    "\n",
    "uni = 0\n",
    "for i in range(len(merge_arr)):\n",
    "    if merge_arr[uni] < merge_arr[i]:\n",
    "        uni+=1\n",
    "        merge_arr[uni], merge_arr[i] = merge_arr[i], merge_arr[uni]\n",
    "        print(merge_arr[uni],merge_arr[i])\n",
    "\n",
    "print(merge_arr)"
   ]
  }
 ],
 "metadata": {
  "kernelspec": {
   "display_name": "Python 3",
   "language": "python",
   "name": "python3"
  },
  "language_info": {
   "codemirror_mode": {
    "name": "ipython",
    "version": 3
   },
   "file_extension": ".py",
   "mimetype": "text/x-python",
   "name": "python",
   "nbconvert_exporter": "python",
   "pygments_lexer": "ipython3",
   "version": "3.9.6"
  }
 },
 "nbformat": 4,
 "nbformat_minor": 2
}
