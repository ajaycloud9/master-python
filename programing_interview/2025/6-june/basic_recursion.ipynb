{
 "cells": [
  {
   "cell_type": "markdown",
   "metadata": {},
   "source": [
    "# Reverse an array using recursion"
   ]
  },
  {
   "cell_type": "code",
   "execution_count": 6,
   "metadata": {},
   "outputs": [
    {
     "name": "stdout",
     "output_type": "stream",
     "text": [
      "[]\n"
     ]
    }
   ],
   "source": [
    "\n",
    "\n",
    "def reverseArray(arr, s,e):\n",
    "    if s < e:\n",
    "        arr[s],arr[e] = arr[e], arr[s]\n",
    "        s+=1\n",
    "        e-=1\n",
    "        reverseArray(arr,s,e)\n",
    "n = [1,2,3,4,5,6,7]\n",
    "s,e = 0,len(n)-1\n",
    "reverseArray(n,s,e)\n",
    "print(n)"
   ]
  },
  {
   "cell_type": "code",
   "execution_count": 13,
   "metadata": {},
   "outputs": [
    {
     "name": "stdout",
     "output_type": "stream",
     "text": [
      "True\n"
     ]
    }
   ],
   "source": [
    "# Check if palindrome\n",
    "\n",
    "\n",
    "def palindromTest(s,string):\n",
    "    if s >= len(string)//2:\n",
    "        return True\n",
    "    if string[s] != string[len(string)-s-1]:\n",
    "        print(string[s], string[len(string)-s-1])\n",
    "        return False\n",
    "    s+=1\n",
    "    return palindromTest(s,string)\n",
    "\n",
    "string = \"AABBAA\"\n",
    "print(palindromTest(0,string))"
   ]
  },
  {
   "cell_type": "code",
   "execution_count": 19,
   "metadata": {},
   "outputs": [
    {
     "name": "stdout",
     "output_type": "stream",
     "text": [
      "8\n"
     ]
    }
   ],
   "source": [
    "def fibbo(n):\n",
    "    if n <= 1:\n",
    "        return n\n",
    "    last = fibbo(n-1) \n",
    "    slast = fibbo(n-2)\n",
    "\n",
    "    return last+slast\n",
    "\n",
    "\n",
    "print(fibbo(10))"
   ]
  },
  {
   "cell_type": "code",
   "execution_count": 11,
   "metadata": {},
   "outputs": [
    {
     "name": "stdout",
     "output_type": "stream",
     "text": [
      "1 count 3\n",
      "-1 count 1\n",
      "2 count 1\n"
     ]
    }
   ],
   "source": [
    "array = [1,1,-1,2,1]\n",
    "bol_arr = [False] * len(array)\n",
    "\n",
    "for i in range(len(array)):\n",
    "    if not bol_arr[i]:\n",
    "        count=1\n",
    "        bol_arr[i] = True\n",
    "        for j in range(i+1, len(array)):\n",
    "            if array[i] == array[j]:\n",
    "                count+=1\n",
    "                bol_arr[j] = True\n",
    "        print(array[i], \"count\", count)"
   ]
  },
  {
   "cell_type": "code",
   "execution_count": 10,
   "metadata": {},
   "outputs": [
    {
     "name": "stdout",
     "output_type": "stream",
     "text": [
      "{1: 3, -1: 1, 2: 1}\n"
     ]
    }
   ],
   "source": [
    "array = [1,1,-1,2,1]\n",
    "\n",
    "hash = {}\n",
    "\n",
    "for i in range(len(array)):\n",
    "    hash[array[i]] = hash.get(array[i],0) +1\n",
    "print(hash)"
   ]
  },
  {
   "cell_type": "code",
   "execution_count": null,
   "metadata": {},
   "outputs": [],
   "source": []
  }
 ],
 "metadata": {
  "kernelspec": {
   "display_name": "Python 3",
   "language": "python",
   "name": "python3"
  },
  "language_info": {
   "codemirror_mode": {
    "name": "ipython",
    "version": 3
   },
   "file_extension": ".py",
   "mimetype": "text/x-python",
   "name": "python",
   "nbconvert_exporter": "python",
   "pygments_lexer": "ipython3",
   "version": "3.9.6"
  }
 },
 "nbformat": 4,
 "nbformat_minor": 2
}
