{
 "cells": [
  {
   "cell_type": "code",
   "execution_count": 10,
   "metadata": {},
   "outputs": [
    {
     "name": "stdout",
     "output_type": "stream",
     "text": [
      "[1, 2, 3] 2\n",
      "{1, 2, 3}\n"
     ]
    }
   ],
   "source": [
    "# Remove duplicates from the sorted array\n",
    "\n",
    "arr = [1,1,2,2,2,3,3]\n",
    "\n",
    "u_p = 0\n",
    "for i in range(1,len(arr)):\n",
    "    if arr[i] > arr[u_p]: # any incoming is greater than swap\n",
    "        u_p+=1\n",
    "        arr[u_p],arr[i] = arr[i],arr[u_p]\n",
    "\n",
    "print(arr[:u_p+1], u_p)\n",
    "print(set(arr))\n"
   ]
  },
  {
   "cell_type": "code",
   "execution_count": 15,
   "metadata": {},
   "outputs": [
    {
     "name": "stdout",
     "output_type": "stream",
     "text": [
      "5\n",
      "[1, 2, 3, 2, 1]\n"
     ]
    }
   ],
   "source": [
    "# Rotate array by one place\n",
    "\n",
    "array = [1,2,3,4,5]\n",
    "temp = array[-1]\n",
    "print(temp)\n",
    "rotate = 1\n",
    "for i in range(len(array)):\n",
    "    d_p = len(array)-i-rotate\n",
    "\n",
    "    array[d_p] = array[i]\n",
    "print(array)\n",
    "\n"
   ]
  },
  {
   "cell_type": "code",
   "execution_count": 7,
   "metadata": {},
   "outputs": [
    {
     "name": "stdout",
     "output_type": "stream",
     "text": [
      "Counter({1: 6, 3: 2})\n",
      "Counter({6: 42, 7: 36, 5: 36, 4: 27, 8: 27, 3: 22, 9: 22, 2: 15, 10: 15, 1: 6, 11: 6, 12: 1})\n",
      "[1, 2, 3, 4, 5, 6, 7, 8, 9, 10, 11]\n"
     ]
    }
   ],
   "source": [
    "# array = [1, 1, 1, 1, 2, 2, 2, 2]\n",
    "arr = [3, 1, 3, 1, 1, 1, 1, 1]\n",
    "\n",
    "from collections import Counter\n",
    "from itertools import combinations\n",
    "from collections import Counter, defaultdict\n",
    "\n",
    "freq = Counter(arr)\n",
    "all_values = list(freq.elements())  # expands the values: e.g., 1 x 4 = [1,1,1,1]\n",
    "\n",
    "# Use a dict to count how many times each sum is reached\n",
    "sum_freq = defaultdict(int)\n",
    "\n",
    "n = len(all_values)\n",
    "\n",
    "# Use a set to avoid double-counting the same subset sum\n",
    "seen_subsets = set()\n",
    "\n",
    "# Iterate over all subsets using bitmask (2^n)\n",
    "for mask in range(1, 1 << n):\n",
    "    subset = []\n",
    "    for i in range(n):\n",
    "        if mask & (1 << i):\n",
    "            subset.append(all_values[i])\n",
    "    subset_tuple = tuple(sorted(subset))\n",
    "    if subset_tuple in seen_subsets:\n",
    "        continue\n",
    "    seen_subsets.add(subset_tuple)\n",
    "    s = sum(subset)\n",
    "    sum_freq[s] += 1\n",
    "\n",
    "# Include original frequencies\n",
    "for val, count in freq.items():\n",
    "    sum_freq[val] += count\n",
    "\n",
    "# Final result\n",
    "result = [num for num, count in sum_freq.items() if count >= 4]\n",
    "print(sorted(result))\n"
   ]
  }
 ],
 "metadata": {
  "kernelspec": {
   "display_name": "Python 3",
   "language": "python",
   "name": "python3"
  },
  "language_info": {
   "codemirror_mode": {
    "name": "ipython",
    "version": 3
   },
   "file_extension": ".py",
   "mimetype": "text/x-python",
   "name": "python",
   "nbconvert_exporter": "python",
   "pygments_lexer": "ipython3",
   "version": "3.9.6"
  }
 },
 "nbformat": 4,
 "nbformat_minor": 2
}
