{
 "cells": [
  {
   "cell_type": "markdown",
   "metadata": {},
   "source": [
    "# Count Maximum Consecutive One's in the array\n",
    "Input: prices = {1, 1, 0, 1, 1, 1}\n"
   ]
  },
  {
   "cell_type": "code",
   "execution_count": 7,
   "metadata": {},
   "outputs": [
    {
     "name": "stdout",
     "output_type": "stream",
     "text": [
      "1 1\n",
      "2 2\n",
      "3 3\n",
      "4 4\n",
      "5 5\n",
      "6 6\n"
     ]
    }
   ],
   "source": [
    "price = [1,0,1,1,1,1,1,1,0,0,1,1,1,1]\n",
    "\n",
    "b_2_b = 0\n",
    "max_count = 0\n",
    "\n",
    "for ele in price:\n",
    "    if ele == 0:\n",
    "        b_2_b=0\n",
    "        continue\n",
    "    b_2_b+=1\n",
    "    if b_2_b > max_count:\n",
    "        max_count=b_2_b\n",
    "        print(b_2_b,max_count)\n"
   ]
  },
  {
   "cell_type": "code",
   "execution_count": 17,
   "metadata": {},
   "outputs": [
    {
     "name": "stdout",
     "output_type": "stream",
     "text": [
      "2 0\n",
      "2 1 2 2\n",
      "4 3\n",
      "4 4 1 2\n",
      "8 5\n",
      "8 6 3 3\n",
      "3\n"
     ]
    }
   ],
   "source": [
    "array = [1,2,2,3,4,1,1,1,1]\n",
    "k = 3\n",
    "\n",
    "l_of_sub_arr = 0\n",
    "max_l_of_sub_array = 0\n",
    "\n",
    "l = 0\n",
    "sum = 0\n",
    "r = 0\n",
    "# for r in range(len(array)):\n",
    "#     if sum > k:\n",
    "#         sum-=array[l]\n",
    "#         l+=1\n",
    "#         print(\"removing\")        \n",
    "#     elif sum == k:\n",
    "#         l_of_sub_arr=r-l+1\n",
    "#         print(l_of_sub_arr,\"l_of_sub_arr\",r,l,sum)\n",
    "#         max_l_of_sub_array= max(max_l_of_sub_array,l_of_sub_arr)\n",
    "#         sum-=array[r]\n",
    "#         l+=1\n",
    "#         print(\"equal removing\")      \n",
    "#     else:\n",
    "#         sum +=array[r]\n",
    "#         print(\"adding\")        \n",
    "#     print(sum)\n",
    "# print(max_l_of_sub_array,\"l\")\n",
    "\n",
    "\n",
    "while len(array) > r:\n",
    "\n",
    "    if sum > k:\n",
    "        sum -=array[l]\n",
    "        l+=1\n",
    "    elif sum== k:\n",
    "        l_of_sub_arr = r-l\n",
    "        print(r,l)\n",
    "        max_l_of_sub_array = max(max_l_of_sub_array,l_of_sub_arr)\n",
    "        sum -=array[l]\n",
    "        l+=1\n",
    "        print(r,l,l_of_sub_arr,max_l_of_sub_array)\n",
    "    else:\n",
    "        # Keep adding elements\n",
    "        sum+=array[r]\n",
    "        r+=1\n",
    "print(max_l_of_sub_array)\n",
    "\n",
    "\n",
    "\n"
   ]
  },
  {
   "cell_type": "code",
   "execution_count": 1,
   "metadata": {},
   "outputs": [
    {
     "name": "stdout",
     "output_type": "stream",
     "text": [
      "1 0\n",
      "1 1 1 1\n",
      "1\n"
     ]
    }
   ],
   "source": [
    "array = [1,-1,1]\n",
    "k = 1\n",
    "\n",
    "l_of_sub_arr = 0\n",
    "max_l_of_sub_array = 0\n",
    "\n",
    "l = 0\n",
    "sum = 0\n",
    "r = 0\n",
    "\n",
    "while len(array) > r:\n",
    "\n",
    "    if sum > k:\n",
    "        sum -=array[l]\n",
    "        l+=1\n",
    "    elif sum== k:\n",
    "        l_of_sub_arr = r-l\n",
    "        print(r,l)\n",
    "        max_l_of_sub_array = max(max_l_of_sub_array,l_of_sub_arr)\n",
    "        sum -=array[l]\n",
    "        l+=1\n",
    "        print(r,l,l_of_sub_arr,max_l_of_sub_array)\n",
    "    else:\n",
    "        # Keep adding elements\n",
    "        sum+=array[r]\n",
    "        r+=1\n",
    "print(max_l_of_sub_array)\n",
    "\n",
    "\n",
    "\n"
   ]
  },
  {
   "cell_type": "code",
   "execution_count": 17,
   "metadata": {},
   "outputs": [
    {
     "name": "stdout",
     "output_type": "stream",
     "text": [
      "[1]\n",
      "[2]\n",
      "[3]\n",
      "[4]\n",
      "[5]\n",
      "[1, 2]\n",
      "[2, 3]\n",
      "[3, 4]\n",
      "[4, 5]\n",
      "[1, 2, 3]\n",
      "[2, 3, 4]\n",
      "[3, 4, 5]\n",
      "[1, 2, 3, 4]\n",
      "[2, 3, 4, 5]\n",
      "[1, 2, 3, 4, 5]\n",
      "[1, 2, 3, 4, 5, 3, 5, 7, 9, 6, 9, 12, 10, 14, 15] 15\n"
     ]
    }
   ],
   "source": [
    "# Generate every subarray from the below\n",
    "\n",
    "a = [1,2,3,4,5]\n",
    "sum_sub_array = []\n",
    "for i in range(len(a)):\n",
    "    for j in range(len(a)-i):\n",
    "        print(a[j:j+i+1])\n",
    "        temp = sum(a[j:j+i+1])\n",
    "        sum_sub_array.append(temp)\n",
    "print(sum_sub_array,len(sum_sub_array))"
   ]
  },
  {
   "cell_type": "code",
   "execution_count": 3,
   "metadata": {},
   "outputs": [
    {
     "name": "stdout",
     "output_type": "stream",
     "text": [
      "[0, 0, 2, 1, 1, 2] 2\n"
     ]
    }
   ],
   "source": [
    "array = [2,1,0,0,1,2]\n",
    "\n",
    "l = 0\n",
    "\n",
    "for r in range(len(array)):\n",
    "    if array[r] == 0:\n",
    "        array[l],array[r] = array[r],array[l]\n",
    "        l+=1\n",
    "print(array,l)\n",
    "\n",
    "for r in range(l,len(array)):\n",
    "    if array[r] == 1:\n",
    "        array[l],array[r] = array[r],array[l]\n",
    "        l+=1\n",
    "print(array,l)\n"
   ]
  }
 ],
 "metadata": {
  "kernelspec": {
   "display_name": "Python 3",
   "language": "python",
   "name": "python3"
  },
  "language_info": {
   "codemirror_mode": {
    "name": "ipython",
    "version": 3
   },
   "file_extension": ".py",
   "mimetype": "text/x-python",
   "name": "python",
   "nbconvert_exporter": "python",
   "pygments_lexer": "ipython3",
   "version": "3.12.3"
  }
 },
 "nbformat": 4,
 "nbformat_minor": 2
}
