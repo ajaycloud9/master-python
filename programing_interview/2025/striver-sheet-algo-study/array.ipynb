{
 "cells": [
  {
   "cell_type": "markdown",
   "metadata": {},
   "source": [
    "# Count Maximum Consecutive One's in the array\n",
    "Input: prices = {1, 1, 0, 1, 1, 1}\n"
   ]
  },
  {
   "cell_type": "code",
   "execution_count": 7,
   "metadata": {},
   "outputs": [
    {
     "name": "stdout",
     "output_type": "stream",
     "text": [
      "1 1\n",
      "2 2\n",
      "3 3\n",
      "4 4\n",
      "5 5\n",
      "6 6\n"
     ]
    }
   ],
   "source": [
    "price = [1,0,1,1,1,1,1,1,0,0,1,1,1,1]\n",
    "\n",
    "b_2_b = 0\n",
    "max_count = 0\n",
    "\n",
    "for ele in price:\n",
    "    if ele == 0:\n",
    "        b_2_b=0\n",
    "        continue\n",
    "    b_2_b+=1\n",
    "    if b_2_b > max_count:\n",
    "        max_count=b_2_b\n",
    "        print(b_2_b,max_count)\n"
   ]
  },
  {
   "cell_type": "code",
   "execution_count": 17,
   "metadata": {},
   "outputs": [
    {
     "name": "stdout",
     "output_type": "stream",
     "text": [
      "2 0\n",
      "2 1 2 2\n",
      "4 3\n",
      "4 4 1 2\n",
      "8 5\n",
      "8 6 3 3\n",
      "3\n"
     ]
    }
   ],
   "source": [
    "array = [1,2,2,3,4,1,1,1,1]\n",
    "k = 3\n",
    "\n",
    "l_of_sub_arr = 0\n",
    "max_l_of_sub_array = 0\n",
    "\n",
    "l = 0\n",
    "sum = 0\n",
    "r = 0\n",
    "# for r in range(len(array)):\n",
    "#     if sum > k:\n",
    "#         sum-=array[l]\n",
    "#         l+=1\n",
    "#         print(\"removing\")        \n",
    "#     elif sum == k:\n",
    "#         l_of_sub_arr=r-l+1\n",
    "#         print(l_of_sub_arr,\"l_of_sub_arr\",r,l,sum)\n",
    "#         max_l_of_sub_array= max(max_l_of_sub_array,l_of_sub_arr)\n",
    "#         sum-=array[r]\n",
    "#         l+=1\n",
    "#         print(\"equal removing\")      \n",
    "#     else:\n",
    "#         sum +=array[r]\n",
    "#         print(\"adding\")        \n",
    "#     print(sum)\n",
    "# print(max_l_of_sub_array,\"l\")\n",
    "\n",
    "\n",
    "while len(array) > r:\n",
    "\n",
    "    if sum > k:\n",
    "        sum -=array[l]\n",
    "        l+=1\n",
    "    elif sum== k:\n",
    "        l_of_sub_arr = r-l\n",
    "        print(r,l)\n",
    "        max_l_of_sub_array = max(max_l_of_sub_array,l_of_sub_arr)\n",
    "        sum -=array[l]\n",
    "        l+=1\n",
    "        print(r,l,l_of_sub_arr,max_l_of_sub_array)\n",
    "    else:\n",
    "        # Keep adding elements\n",
    "        sum+=array[r]\n",
    "        r+=1\n",
    "print(max_l_of_sub_array)\n",
    "\n",
    "\n",
    "\n"
   ]
  },
  {
   "cell_type": "code",
   "execution_count": 1,
   "metadata": {},
   "outputs": [
    {
     "name": "stdout",
     "output_type": "stream",
     "text": [
      "1 0\n",
      "1 1 1 1\n",
      "1\n"
     ]
    }
   ],
   "source": [
    "array = [1,-1,1]\n",
    "k = 1\n",
    "\n",
    "l_of_sub_arr = 0\n",
    "max_l_of_sub_array = 0\n",
    "\n",
    "l = 0\n",
    "sum = 0\n",
    "r = 0\n",
    "\n",
    "while len(array) > r:\n",
    "\n",
    "    if sum > k:\n",
    "        sum -=array[l]\n",
    "        l+=1\n",
    "    elif sum== k:\n",
    "        l_of_sub_arr = r-l\n",
    "        print(r,l)\n",
    "        max_l_of_sub_array = max(max_l_of_sub_array,l_of_sub_arr)\n",
    "        sum -=array[l]\n",
    "        l+=1\n",
    "        print(r,l,l_of_sub_arr,max_l_of_sub_array)\n",
    "    else:\n",
    "        # Keep adding elements\n",
    "        sum+=array[r]\n",
    "        r+=1\n",
    "print(max_l_of_sub_array)\n",
    "\n",
    "\n",
    "\n"
   ]
  },
  {
   "cell_type": "code",
   "execution_count": 17,
   "metadata": {},
   "outputs": [
    {
     "name": "stdout",
     "output_type": "stream",
     "text": [
      "[1]\n",
      "[2]\n",
      "[3]\n",
      "[4]\n",
      "[5]\n",
      "[1, 2]\n",
      "[2, 3]\n",
      "[3, 4]\n",
      "[4, 5]\n",
      "[1, 2, 3]\n",
      "[2, 3, 4]\n",
      "[3, 4, 5]\n",
      "[1, 2, 3, 4]\n",
      "[2, 3, 4, 5]\n",
      "[1, 2, 3, 4, 5]\n",
      "[1, 2, 3, 4, 5, 3, 5, 7, 9, 6, 9, 12, 10, 14, 15] 15\n"
     ]
    }
   ],
   "source": [
    "# Generate every subarray from the below\n",
    "\n",
    "a = [1,2,3,4,5]\n",
    "sum_sub_array = []\n",
    "for i in range(len(a)):\n",
    "    for j in range(len(a)-i):\n",
    "        print(a[j:j+i+1])\n",
    "        temp = sum(a[j:j+i+1])\n",
    "        sum_sub_array.append(temp)\n",
    "print(sum_sub_array,len(sum_sub_array))"
   ]
  },
  {
   "cell_type": "code",
   "execution_count": 3,
   "metadata": {},
   "outputs": [
    {
     "name": "stdout",
     "output_type": "stream",
     "text": [
      "[0, 0, 2, 1, 1, 2] 2\n"
     ]
    }
   ],
   "source": [
    "array = [2,1,0,0,1,2]\n",
    "\n",
    "l = 0\n",
    "\n",
    "for r in range(len(array)):\n",
    "    if array[r] == 0:\n",
    "        array[l],array[r] = array[r],array[l]\n",
    "        l+=1\n",
    "print(array,l)\n",
    "\n",
    "for r in range(l,len(array)):\n",
    "    if array[r] == 1:\n",
    "        array[l],array[r] = array[r],array[l]\n",
    "        l+=1\n",
    "print(array,l)\n"
   ]
  },
  {
   "cell_type": "code",
   "execution_count": 8,
   "metadata": {},
   "outputs": [
    {
     "name": "stdout",
     "output_type": "stream",
     "text": [
      "5 3\n",
      "5 is in majority and has been selected as our winner using Moores algorithm\n",
      "3.5 3\n"
     ]
    }
   ],
   "source": [
    "# Moore's Algorithm\n",
    "\n",
    "# Find N/2 greater than or equal to 50% elements\n",
    "\n",
    "arr = [1,2,5,5,5,1,1]\n",
    "# Logically upto [1,2,5,5,5,1] for 5 it's domination has been maintained\n",
    "# However, the next vote decides if his majority stack contiues or not\n",
    "# Interesting to see, and he we go and got the voting for Candidate no.1 \n",
    "# Problem here is it has just disbalanced, and reset the candidate to itself\n",
    "# And, at this point c_ele = 1, count = 1\n",
    "# However, there is no clear winner in this scenario therefore, we need to confirm \n",
    "# once last time that the 1 who is claiming to be the majority holder here it's statement\n",
    "# \n",
    "# Therefore, we need a one more for loop for this and, that should be good enough \n",
    "\n",
    "arr = [1,2,5,5,5,1,5]\n",
    "count = 0\n",
    "element = 0\n",
    "for c_ele in arr:\n",
    "    if count==0:\n",
    "        # Assume the element is our candidate\n",
    "        # Reset the candiate to a new candidate \n",
    "        # Given if he has outnumbered by other candidates\n",
    "        element = c_ele\n",
    "        count+=1\n",
    "    elif c_ele == element:\n",
    "        count+=1\n",
    "    else:\n",
    "        count-=1\n",
    "print(c_ele,count)\n",
    "\n",
    "maj_count = 0\n",
    "for i in arr:\n",
    "    if c_ele == i:\n",
    "        maj_count+=1\n",
    "if maj_count > len(arr)//2:\n",
    "    print(f'{c_ele} is in majority and has been selected as our winner using Moores algorithm')\n",
    "else:\n",
    "    print(\"No one has the majority.\")\n",
    "\n",
    "\n"
   ]
  }
 ],
 "metadata": {
  "kernelspec": {
   "display_name": "Python 3",
   "language": "python",
   "name": "python3"
  },
  "language_info": {
   "codemirror_mode": {
    "name": "ipython",
    "version": 3
   },
   "file_extension": ".py",
   "mimetype": "text/x-python",
   "name": "python",
   "nbconvert_exporter": "python",
   "pygments_lexer": "ipython3",
   "version": "3.12.3"
  }
 },
 "nbformat": 4,
 "nbformat_minor": 2
}
