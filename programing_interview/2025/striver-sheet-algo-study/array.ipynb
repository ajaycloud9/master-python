{
 "cells": [
  {
   "cell_type": "markdown",
   "metadata": {},
   "source": [
    "# Count Maximum Consecutive One's in the array\n",
    "Input: prices = {1, 1, 0, 1, 1, 1}\n"
   ]
  },
  {
   "cell_type": "code",
   "execution_count": 5,
   "metadata": {},
   "outputs": [
    {
     "name": "stdout",
     "output_type": "stream",
     "text": [
      "1\n",
      "1 1\n",
      "1\n",
      "2\n",
      "2 2\n",
      "3\n",
      "3 3\n",
      "4\n",
      "4 4\n",
      "5\n",
      "5 5\n",
      "6\n",
      "6 6\n",
      "7\n",
      "7 7\n",
      "1\n",
      "1\n",
      "2\n",
      "3\n",
      "4\n",
      "5\n"
     ]
    }
   ],
   "source": [
    "price = [1,0,1,1,1,1,1,1,0,0,1,1,1,1]\n",
    "\n",
    "b_2_b = 0\n",
    "max_count = 0\n",
    "\n",
    "for ele in price:\n",
    "    if ele == 0:\n",
    "        b_2_b=0\n",
    "        continue\n",
    "    b_2_b+=1\n",
    "    print(b_2_b)\n",
    "    if b_2_b > max_count:\n",
    "        max_count=b_2_b\n",
    "        print(b_2_b,max_count)\n"
   ]
  }
 ],
 "metadata": {
  "kernelspec": {
   "display_name": "Python 3",
   "language": "python",
   "name": "python3"
  },
  "language_info": {
   "codemirror_mode": {
    "name": "ipython",
    "version": 3
   },
   "file_extension": ".py",
   "mimetype": "text/x-python",
   "name": "python",
   "nbconvert_exporter": "python",
   "pygments_lexer": "ipython3",
   "version": "3.12.3"
  }
 },
 "nbformat": 4,
 "nbformat_minor": 2
}
