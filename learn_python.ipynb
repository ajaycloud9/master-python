{
 "cells": [
  {
   "attachments": {},
   "cell_type": "markdown",
   "metadata": {},
   "source": [
    "# Python Constructor\n",
    "\n",
    "#### Let's have a constructor in the Main class and add abstractmethod. We use abstract methods when we don't know what is the implementation will look like. So we create such class and then eventually extend this Abstract class to the actual classes where implementation stays\n"
   ]
  },
  {
   "cell_type": "code",
   "execution_count": 2,
   "metadata": {},
   "outputs": [
    {
     "name": "stdout",
     "output_type": "stream",
     "text": [
      "10\n"
     ]
    }
   ],
   "source": [
    "from abc import ABC, abstractmethod\n",
    "\n",
    "class Cal(ABC):\n",
    "    def __init__(self,value):\n",
    "        self.value=value\n",
    "    \n",
    "    @abstractmethod\n",
    "    def add(self):\n",
    "        pass\n",
    "    @abstractmethod\n",
    "    def sub(self):\n",
    "        pass\n",
    "\n",
    "\n",
    "class EngineeringCalc(Cal):\n",
    "\n",
    "    def display(self):\n",
    "        print(self.value)\n",
    "\n",
    "    def add(self):\n",
    "        print(self.value)\n",
    "\n",
    "    def sub(self):\n",
    "        print(self.value)\n",
    "\n",
    "obj=EngineeringCalc(10)\n",
    "obj.display()"
   ]
  },
  {
   "attachments": {},
   "cell_type": "markdown",
   "metadata": {},
   "source": [
    "# Abstract class\n",
    "\n",
    "#### Abstract classes are classed that contain one or more abtract methods. \n",
    "#### An abstract method is a method that is declared, but contains no implementation. \n",
    "#### Abstract classes cannot not be instantiated, and require subclasses to provide implementation for the abstract methods\n",
    "#### Subclasses of an abstract class in Python are not required to implement abstract methods of the parent class. "
   ]
  },
  {
   "cell_type": "code",
   "execution_count": 4,
   "metadata": {},
   "outputs": [
    {
     "name": "stdout",
     "output_type": "stream",
     "text": [
      "Food is Non-Veg\n",
      "Tiger Eat Non-Veg\n",
      "Tiger popped\n"
     ]
    }
   ],
   "source": [
    "from abc import ABC, abstractmethod, abstractclassmethod\n",
    "\n",
    "class FoodChain(ABC):\n",
    "    @abstractclassmethod\n",
    "    def food(self):\n",
    "        pass\n",
    "\n",
    "    @abstractclassmethod\n",
    "    def eat(self):\n",
    "        pass\n",
    "    @abstractclassmethod\n",
    "    def poop(self):\n",
    "        pass\n",
    "\n",
    "\n",
    "class Meal(FoodChain):\n",
    "    def food(self):\n",
    "        print (\"Food is Non-Veg\")\n",
    "\n",
    "class Tiger(Meal):\n",
    "    def eat(self):\n",
    "        print(\"Tiger Eat Non-Veg\")\n",
    "    def poop(self):\n",
    "        print(\"Tiger popped\")\n",
    "\n",
    "\n",
    "t=Tiger()\n",
    "t.food()\n",
    "t.eat()\n",
    "t.poop()"
   ]
  }
 ],
 "metadata": {
  "kernelspec": {
   "display_name": "Python 3",
   "language": "python",
   "name": "python3"
  },
  "language_info": {
   "codemirror_mode": {
    "name": "ipython",
    "version": 3
   },
   "file_extension": ".py",
   "mimetype": "text/x-python",
   "name": "python",
   "nbconvert_exporter": "python",
   "pygments_lexer": "ipython3",
   "version": "3.9.6"
  },
  "orig_nbformat": 4
 },
 "nbformat": 4,
 "nbformat_minor": 2
}
