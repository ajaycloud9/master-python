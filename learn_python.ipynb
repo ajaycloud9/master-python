{
 "cells": [
  {
   "attachments": {},
   "cell_type": "markdown",
   "metadata": {},
   "source": [
    "# Python Global variables | Class variables | Local variables"
   ]
  },
  {
   "cell_type": "code",
   "execution_count": 10,
   "metadata": {},
   "outputs": [
    {
     "name": "stdout",
     "output_type": "stream",
     "text": [
      "Name is: scott\n",
      "Instance Method\n",
      "static_method\n",
      "Class variable -100\n",
      "Local variable 12\n",
      "Global variable -10\n",
      "Memory location for mc 4570788192\n",
      "Memory location for mc2 4570790736\n",
      "Memory location for mc3 4570788192\n",
      "Is memory location same -->  False\n",
      "Is memory location different -->  True\n"
     ]
    }
   ],
   "source": [
    "# Global variable\n",
    "a,b = 15,25\n",
    "\n",
    "class MyClass:\n",
    "\n",
    "    \n",
    "    a,b = 100, 200  # Declaring class variable\n",
    "\n",
    "    def add (self):\n",
    "        print (self.a + self.b)\n",
    "    \n",
    "    def substract(self, a ,b):\n",
    "        print(\"Class variable\",self.a - self.b) # Class variables - Since we have a variable defined inside class\n",
    "        print(\"Local variable\",a-b) # Local variables\n",
    "        print (\"Global variable\",globals()['a'] - globals()['b']) # Global Variables can only be accessed if explicitely mentioned otherwise local variables will be picked up\n",
    "\n",
    "    def multiply (self):\n",
    "        print (self.a * self.b)\n",
    "    \n",
    "    def myfunc(self):\n",
    "        pass\n",
    "\n",
    "    def display(self, name):\n",
    "        print(\"Name is:\",  name)\n",
    "\n",
    "    def instance_method(self):\n",
    "        # Instance method is part of the class\n",
    "        # It can only be invoked after instantiating the class\n",
    "        print(\"Instance Method\")\n",
    "    \n",
    "    @staticmethod\n",
    "    def static_method(self):\n",
    "        # Static method doesn't need self. \n",
    "        # Why Need to figure out? \n",
    "        # Static method is available directly from the class level\n",
    "        print(\"static_method\")\n",
    "    \n",
    "mc=MyClass()  # Named object\n",
    "mc.myfunc()\n",
    "mc.display('scott')\n",
    "mc.instance_method()\n",
    "MyClass.static_method(10) # Nameless object\n",
    "mc.substract(32,20)\n",
    "\n",
    "mc2=MyClass()  # Named object\n",
    "\n",
    "mc3 = mc\n",
    "print(\"Memory location for mc\",id(mc)) # Memory location with id() method\n",
    "print(\"Memory location for mc2\",id(mc2))\n",
    "print(\"Memory location for mc3\",id(mc3))\n",
    "\n",
    "print (\"Is memory location same --> \", mc is mc2)\n",
    "print (\"Is memory location different --> \",mc is not mc2)"
   ]
  },
  {
   "attachments": {},
   "cell_type": "markdown",
   "metadata": {},
   "source": [
    "# Python Constructor\n",
    "\n",
    "#### Let's have a constructor in the Main class and add abstractmethod. We use abstract methods when we don't know what is the implementation will look like. So we create such class and then eventually extend this Abstract class to the actual classes where implementation stays\n"
   ]
  },
  {
   "cell_type": "code",
   "execution_count": 2,
   "metadata": {},
   "outputs": [
    {
     "name": "stdout",
     "output_type": "stream",
     "text": [
      "10\n"
     ]
    }
   ],
   "source": [
    "from abc import ABC, abstractmethod\n",
    "\n",
    "class Cal(ABC):\n",
    "    def __init__(self,value):\n",
    "        self.value=value\n",
    "    \n",
    "    @abstractmethod\n",
    "    def add(self):\n",
    "        pass\n",
    "    @abstractmethod\n",
    "    def sub(self):\n",
    "        pass\n",
    "\n",
    "\n",
    "class EngineeringCalc(Cal):\n",
    "\n",
    "    def display(self):\n",
    "        print(self.value)\n",
    "\n",
    "    def add(self):\n",
    "        print(self.value)\n",
    "\n",
    "    def sub(self):\n",
    "        print(self.value)\n",
    "\n",
    "obj=EngineeringCalc(10)\n",
    "obj.display()"
   ]
  },
  {
   "attachments": {},
   "cell_type": "markdown",
   "metadata": {},
   "source": [
    "# Abstract class\n",
    "\n",
    "#### Abstract classes are classed that contain one or more abtract methods. \n",
    "#### An abstract method is a method that is declared, but contains no implementation. \n",
    "#### Abstract classes cannot not be instantiated, and require subclasses to provide implementation for the abstract methods\n",
    "#### Subclasses of an abstract class in Python are not required to implement abstract methods of the parent class. "
   ]
  },
  {
   "cell_type": "code",
   "execution_count": 4,
   "metadata": {},
   "outputs": [
    {
     "name": "stdout",
     "output_type": "stream",
     "text": [
      "Food is Non-Veg\n",
      "Tiger Eat Non-Veg\n",
      "Tiger popped\n"
     ]
    }
   ],
   "source": [
    "from abc import ABC, abstractmethod, abstractclassmethod\n",
    "\n",
    "class FoodChain(ABC):\n",
    "    @abstractclassmethod\n",
    "    def food(self):\n",
    "        pass\n",
    "\n",
    "    @abstractclassmethod\n",
    "    def eat(self):\n",
    "        pass\n",
    "    @abstractclassmethod\n",
    "    def poop(self):\n",
    "        pass\n",
    "\n",
    "\n",
    "class Meal(FoodChain):\n",
    "    def food(self):\n",
    "        print (\"Food is Non-Veg\")\n",
    "\n",
    "class Tiger(Meal):\n",
    "    def eat(self):\n",
    "        print(\"Tiger Eat Non-Veg\")\n",
    "    def poop(self):\n",
    "        print(\"Tiger popped\")\n",
    "\n",
    "\n",
    "t=Tiger()\n",
    "t.food()\n",
    "t.eat()\n",
    "t.poop()"
   ]
  }
 ],
 "metadata": {
  "kernelspec": {
   "display_name": "Python 3",
   "language": "python",
   "name": "python3"
  },
  "language_info": {
   "codemirror_mode": {
    "name": "ipython",
    "version": 3
   },
   "file_extension": ".py",
   "mimetype": "text/x-python",
   "name": "python",
   "nbconvert_exporter": "python",
   "pygments_lexer": "ipython3",
   "version": "3.9.6"
  },
  "orig_nbformat": 4
 },
 "nbformat": 4,
 "nbformat_minor": 2
}
