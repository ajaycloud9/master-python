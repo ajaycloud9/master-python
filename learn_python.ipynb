{
 "cells": [
  {
   "cell_type": "code",
   "execution_count": 2,
   "metadata": {},
   "outputs": [
    {
     "name": "stdout",
     "output_type": "stream",
     "text": [
      "10\n"
     ]
    }
   ],
   "source": [
    "# Constructor\n",
    "\n",
    "#Let's have a constructor in the Main class and add abstractmethod. We use abstract methods when we don't know what is the implementation will look like. So we create such class and then eventually extend this Abstract class to the actual classes where implementation stays\n",
    "\n",
    "from abc import ABC, abstractmethod\n",
    "\n",
    "class Cal(ABC):\n",
    "    def __init__(self,value):\n",
    "        self.value=value\n",
    "    \n",
    "    @abstractmethod\n",
    "    def add(self):\n",
    "        pass\n",
    "    @abstractmethod\n",
    "    def sub(self):\n",
    "        pass\n",
    "\n",
    "\n",
    "class EngineeringCalc(Cal):\n",
    "\n",
    "    def display(self):\n",
    "        print(self.value)\n",
    "\n",
    "    def add(self):\n",
    "        print(self.value)\n",
    "\n",
    "    def sub(self):\n",
    "        print(self.value)\n",
    "\n",
    "obj=EngineeringCalc(10)\n",
    "obj.display()"
   ]
  },
  {
   "cell_type": "code",
   "execution_count": null,
   "metadata": {},
   "outputs": [],
   "source": []
  }
 ],
 "metadata": {
  "kernelspec": {
   "display_name": "Python 3",
   "language": "python",
   "name": "python3"
  },
  "language_info": {
   "codemirror_mode": {
    "name": "ipython",
    "version": 3
   },
   "file_extension": ".py",
   "mimetype": "text/x-python",
   "name": "python",
   "nbconvert_exporter": "python",
   "pygments_lexer": "ipython3",
   "version": "3.9.6"
  },
  "orig_nbformat": 4
 },
 "nbformat": 4,
 "nbformat_minor": 2
}
